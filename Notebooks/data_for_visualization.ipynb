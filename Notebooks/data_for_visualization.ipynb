{
 "cells": [
  {
   "cell_type": "code",
   "execution_count": 1,
   "metadata": {},
   "outputs": [],
   "source": [
    "##### Import general use tools\n",
    "from collections import defaultdict\n",
    "from tqdm import tqdm_notebook\n",
    "import pandas as pd\n",
    "import numpy as np\n",
    "import dill\n",
    "\n",
    "# Import visualization libraries\n",
    "import matplotlib.pyplot as plt\n",
    "import matplotlib\n",
    "\n",
    "import plotly\n",
    "import plotly.express as px\n",
    "import plotly.graph_objects as go"
   ]
  },
  {
   "cell_type": "code",
   "execution_count": 5,
   "metadata": {},
   "outputs": [],
   "source": [
    "with open('kmb.pik', 'rb') as k:\n",
    "    kmb = dill.load(k)\n",
    "with open('lsa.pik', 'rb') as ll:\n",
    "    lsa = dill.load(ll)"
   ]
  },
  {
   "cell_type": "code",
   "execution_count": 6,
   "metadata": {},
   "outputs": [],
   "source": [
    "with open('binned_data.pik', 'rb') as bd:\n",
    "    binned_data = dill.load(bd)"
   ]
  },
  {
   "cell_type": "markdown",
   "metadata": {},
   "source": [
    "### First, retrieve necessary information.\n",
    "\n",
    "+ Topics\n",
    "+ Word counts\n",
    "+ Years\n",
    "+ Document names"
   ]
  },
  {
   "cell_type": "code",
   "execution_count": null,
   "metadata": {},
   "outputs": [],
   "source": [
    "# extract the frequency count for the top terms of the topic words \n",
    "\n",
    "# from the vocab within the vectorizer, for LSA:\n",
    "print(lsa[(1870, 1880)][\"vocab\"].get(\"water\"))\n",
    "\n",
    "#...and for kmeans:\n",
    "print(kmb[(1870, 1880)][\"vocab\"].get(\"water\"))"
   ]
  },
  {
   "cell_type": "code",
   "execution_count": null,
   "metadata": {},
   "outputs": [],
   "source": [
    "# Get the word frequencies per year range for LSA and K means\n",
    "\n",
    "print(f\"lsa: {lsa[(1870, 1880)].keys()}\")\n",
    "print(\"\\n\")\n",
    "print(f\"kmeans: {kmb[(1870, 1880)].keys()}\")"
   ]
  },
  {
   "cell_type": "code",
   "execution_count": 7,
   "metadata": {},
   "outputs": [],
   "source": [
    "# Retrieve the top terms for each cluster from the dictionary, \n",
    "# with word counts from the vocab. \n",
    "\n",
    "# brute force... do this with classes and recursion\n",
    "\n",
    "km_exclusions = [0,1,2,3,4,5,\"labels\",\"vocab\",\"matrix\",(1865, 1875),(1955, 1965)]\n",
    "\n",
    "def get_top_terms_k(kmb, exclusions): # vocab_idx, dd_type\n",
    "    keys = list(set(kmb.keys()) - set(exclusions))\n",
    "    top_terms = defaultdict(list)\n",
    "    for k in keys:\n",
    "        for i in range(6):\n",
    "            try:\n",
    "                top_terms[k].append({i: {term: kmb[k][\"vocab\"].get(term) for term in kmb[k][i]}})\n",
    "            except Exception as e:\n",
    "                print(f\"Exception: {e}\")\n",
    "    return top_terms\n",
    "kmdict = get_top_terms_k(kmb, km_exclusions) # kmdict[(1980, 1990)][2][2].keys()"
   ]
  },
  {
   "cell_type": "code",
   "execution_count": 8,
   "metadata": {},
   "outputs": [],
   "source": [
    "# NB: Matrix indices should equal case_dict indices for case names.\n",
    "\n",
    "lsa_exclusions = [0, 1, 'vocab', (1955, 1965), (1865, 1875)] # where did these come from?\n",
    "def get_top_terms(lsa, exclusions):\n",
    "    keys = list(set(lsa.keys()) - set(exclusions))\n",
    "    top_terms = defaultdict(list)\n",
    "    for k in keys:\n",
    "        try:\n",
    "            top_terms[k].append({term: lsa[k][\"vocab\"].get(term) for term in lsa[k][\"terms\"]})\n",
    "        except Exception as e:\n",
    "            print(f\"Exception: {e}\")\n",
    "    return top_terms\n",
    "lsat = get_top_terms(lsa, lsa_exclusions)"
   ]
  },
  {
   "cell_type": "code",
   "execution_count": 9,
   "metadata": {
    "scrolled": true
   },
   "outputs": [
    {
     "name": "stdout",
     "output_type": "stream",
     "text": [
      "KEY: (1870, 1880)\n",
      "LABELS: 18\n",
      "BINNED DATA: 18\n",
      "\n",
      "\n",
      "KEY: (1880, 1890)\n",
      "LABELS: 62\n",
      "BINNED DATA: 62\n",
      "\n",
      "\n",
      "KEY: (1890, 1900)\n",
      "LABELS: 164\n",
      "BINNED DATA: 164\n",
      "\n",
      "\n",
      "KEY: (1900, 1910)\n",
      "LABELS: 296\n",
      "BINNED DATA: 296\n",
      "\n",
      "\n",
      "KEY: (1910, 1920)\n",
      "LABELS: 414\n",
      "BINNED DATA: 414\n",
      "\n",
      "\n",
      "KEY: (1920, 1930)\n",
      "LABELS: 357\n",
      "BINNED DATA: 357\n",
      "\n",
      "\n",
      "KEY: (1930, 1940)\n",
      "LABELS: 291\n",
      "BINNED DATA: 291\n",
      "\n",
      "\n",
      "KEY: (1940, 1950)\n",
      "LABELS: 246\n",
      "BINNED DATA: 246\n",
      "\n",
      "\n",
      "KEY: (1950, 1960)\n",
      "LABELS: 197\n",
      "BINNED DATA: 197\n",
      "\n",
      "\n",
      "KEY: (1960, 1970)\n",
      "LABELS: 405\n",
      "BINNED DATA: 405\n",
      "\n",
      "\n",
      "KEY: (1970, 1980)\n",
      "LABELS: 765\n",
      "BINNED DATA: 765\n",
      "\n",
      "\n",
      "KEY: (1980, 1990)\n",
      "LABELS: 734\n",
      "BINNED DATA: 734\n",
      "\n",
      "\n",
      "KEY: (1990, 2000)\n",
      "LABELS: 299\n",
      "BINNED DATA: 299\n",
      "\n",
      "\n",
      "KEY: (2000, 2010)\n",
      "LABELS: 181\n",
      "BINNED DATA: 181\n",
      "\n",
      "\n",
      "KEY: (2010, 2020)\n",
      "LABELS: 150\n",
      "BINNED DATA: 150\n",
      "\n",
      "\n"
     ]
    },
    {
     "ename": "KeyError",
     "evalue": "'labels'",
     "output_type": "error",
     "traceback": [
      "\u001b[0;31m---------------------------------------------------------------------------\u001b[0m",
      "\u001b[0;31mKeyError\u001b[0m                                  Traceback (most recent call last)",
      "\u001b[0;32m<ipython-input-9-e569c9bf6faf>\u001b[0m in \u001b[0;36m<module>\u001b[0;34m\u001b[0m\n\u001b[1;32m      2\u001b[0m \u001b[0;34m\u001b[0m\u001b[0m\n\u001b[1;32m      3\u001b[0m \u001b[0;32mfor\u001b[0m \u001b[0mk\u001b[0m \u001b[0;32min\u001b[0m \u001b[0mkmb\u001b[0m\u001b[0;34m.\u001b[0m\u001b[0mkeys\u001b[0m\u001b[0;34m(\u001b[0m\u001b[0;34m)\u001b[0m\u001b[0;34m:\u001b[0m\u001b[0;34m\u001b[0m\u001b[0;34m\u001b[0m\u001b[0m\n\u001b[0;32m----> 4\u001b[0;31m     \u001b[0mprint\u001b[0m\u001b[0;34m(\u001b[0m\u001b[0;34mf\"KEY: {k}\\nLABELS: {len(kmb[k]['labels'])}\\nBINNED DATA: {len(binned_data[k])}\\n\\n\"\u001b[0m\u001b[0;34m)\u001b[0m\u001b[0;34m\u001b[0m\u001b[0;34m\u001b[0m\u001b[0m\n\u001b[0m",
      "\u001b[0;31mKeyError\u001b[0m: 'labels'"
     ]
    }
   ],
   "source": [
    "# Match the cases back up to the labels in the kmeans clusters\n",
    "\n",
    "for k in kmb.keys():\n",
    "    print(f\"KEY: {k}\\nLABELS: {len(kmb[k]['labels'])}\\nBINNED DATA: {len(binned_data[k])}\\n\\n\")"
   ]
  },
  {
   "cell_type": "code",
   "execution_count": 12,
   "metadata": {},
   "outputs": [],
   "source": [
    "# Add the topics back in to the binned cases.\n",
    "# kmb.pop((1865, 1875))\n",
    "def topic_add(kmb, data):\n",
    "    topic_add = defaultdict(list)\n",
    "    for k in kmb.keys():\n",
    "        topic_add[k].append(list(map(list, zip(data[k], kmb[k][\"labels\"]))))\n",
    "    return topic_add\n",
    "topic_and_data = topic_add(kmb, binned_data)"
   ]
  },
  {
   "cell_type": "code",
   "execution_count": 13,
   "metadata": {},
   "outputs": [
    {
     "data": {
      "text/plain": [
       "[array(['Worthy v. Commissioners',\n",
       "        'wall worthyvthe commissionerssupreme court united state mr boyce move dismiss writ want jurisdiction ground plaintiff errormr scheffer contra chief justice deliver opinion courtit manifest court jurisdiction present cause decision supreme court north carolina validity treaty act congress authority exercise united state favor validity statute authority exercise state allege repugnant constitution treaty law united statesit true brief counsel plaintiff urge right plaintiff protect st section th amendment right appear set specially claimed state court essential jurisdiction herewe authority therefore examine question present record must allow motion defendant error dismiss cause forwant jurisdiction'],\n",
       "       dtype='<U349337'), 3]"
      ]
     },
     "execution_count": 13,
     "metadata": {},
     "output_type": "execute_result"
    }
   ],
   "source": [
    "topic_and_data[(1870, 1880)][0][0]      # each entry is a list of case and topic; \n",
    "                                        #[0][0][0] = case info, [0][0][1] = topic "
   ]
  },
  {
   "cell_type": "code",
   "execution_count": null,
   "metadata": {},
   "outputs": [],
   "source": [
    "# Check which case has which topic\n",
    "\n",
    "for k in topic_and_data.keys():\n",
    "    for case in topic_and_data[k][0]:\n",
    "        doc_topic = case[1]\n",
    "        print(f\"{case[0][0]} has topic {doc_topic} in years {k}\")"
   ]
  },
  {
   "cell_type": "code",
   "execution_count": 15,
   "metadata": {},
   "outputs": [],
   "source": [
    "big_df = pd.DataFrame(columns=[\"year_1\", \"year_2\", \"title\", \"topic\",\"terms\", \"term_frequency\", \"lsa_bow\"])\n",
    "\n",
    "for k in topic_and_data.keys():\n",
    "    range_df = pd.DataFrame(columns=[\"year_1\", \"year_2\", \"title\", \"topic\",\"terms\", \"term_frequency\", \"lsa_bow\"])\n",
    "    for i in range(len(topic_and_data[k][0])):\n",
    "        range_df.loc[i] = {\"year_1\":k[0],\"year_2\":k[1],\"title\":topic_and_data[k][0][i][0][0],\n",
    "                     \"topic\":topic_and_data[k][0][i][1],\"terms\":[kmb[k][topic_and_data[k][0][i][1]]],\n",
    "                     \"term_frequency\":[kmdict[k][topic_and_data[k][0][i][1]]],\"lsa_bow\":[lsat[k]]}\n",
    "    big_df = pd.concat([big_df, range_df], axis=0)"
   ]
  },
  {
   "cell_type": "code",
   "execution_count": 17,
   "metadata": {},
   "outputs": [],
   "source": [
    "with open(\"big_df.pik\", \"wb\")as bdf:\n",
    "    dill.dump(big_df, bdf)"
   ]
  },
  {
   "cell_type": "code",
   "execution_count": null,
   "metadata": {},
   "outputs": [],
   "source": [
    "# Sanity check: Make sure the DataFrame matches up\n",
    "\n",
    "for key in lsa.keys():\n",
    "    print(lsa[key][\"terms\"])\n",
    "print(\"-\"*117)\n",
    "for key in range(6):\n",
    "    print(f\"{key}: {kmb[(1870, 1880)][key]}\")"
   ]
  },
  {
   "cell_type": "code",
   "execution_count": 24,
   "metadata": {},
   "outputs": [],
   "source": [
    "# Create a pandas DataFrame to use with Plotly\n",
    "\n",
    "big_df[\"years\"] = list(zip(big_df[\"year_1\"], big_df[\"year_2\"]))"
   ]
  },
  {
   "cell_type": "code",
   "execution_count": 25,
   "metadata": {},
   "outputs": [],
   "source": [
    "cols = [\"title\", \"topic\", \"years\", \"term_frequency\"]\n",
    "terms = big_df[cols]"
   ]
  },
  {
   "cell_type": "code",
   "execution_count": 28,
   "metadata": {},
   "outputs": [],
   "source": [
    "def flatten_all(y):\n",
    "    out = {}\n",
    "\n",
    "    def flatten(x, name=''):\n",
    "        if type(x) is dict:\n",
    "            for a in x:\n",
    "                flatten(x[a], str(a)) # name + ?\n",
    "        elif type(x) is list:\n",
    "            for a in x:\n",
    "                flatten(a, a)\n",
    "        else:\n",
    "            out[str(name)] = str(x)\n",
    "\n",
    "    flatten(y)\n",
    "    return out"
   ]
  },
  {
   "cell_type": "code",
   "execution_count": 30,
   "metadata": {},
   "outputs": [],
   "source": [
    "for col in [\"term_frequency\", \"lsa_bow\"]:\n",
    "    big_df[col] = big_df[col].apply(lambda x: flatten_all(x))"
   ]
  },
  {
   "cell_type": "code",
   "execution_count": null,
   "metadata": {},
   "outputs": [],
   "source": [
    "big_df[\"terms\"] = big_df[\"terms\"].apply(lambda x: x[0])"
   ]
  },
  {
   "cell_type": "code",
   "execution_count": 31,
   "metadata": {},
   "outputs": [
    {
     "data": {
      "text/html": [
       "<div>\n",
       "<style scoped>\n",
       "    .dataframe tbody tr th:only-of-type {\n",
       "        vertical-align: middle;\n",
       "    }\n",
       "\n",
       "    .dataframe tbody tr th {\n",
       "        vertical-align: top;\n",
       "    }\n",
       "\n",
       "    .dataframe thead th {\n",
       "        text-align: right;\n",
       "    }\n",
       "</style>\n",
       "<table border=\"1\" class=\"dataframe\">\n",
       "  <thead>\n",
       "    <tr style=\"text-align: right;\">\n",
       "      <th></th>\n",
       "      <th>year_1</th>\n",
       "      <th>year_2</th>\n",
       "      <th>title</th>\n",
       "      <th>topic</th>\n",
       "      <th>terms</th>\n",
       "      <th>term_frequency</th>\n",
       "      <th>lsa_bow</th>\n",
       "      <th>years</th>\n",
       "    </tr>\n",
       "  </thead>\n",
       "  <tbody>\n",
       "    <tr>\n",
       "      <th>0</th>\n",
       "      <td>1870</td>\n",
       "      <td>1880</td>\n",
       "      <td>Worthy v. Commissioners</td>\n",
       "      <td>3</td>\n",
       "      <td>[[authority exercise, jurisdiction, treaty, di...</td>\n",
       "      <td>{'authority exercise': '2750', 'jurisdiction':...</td>\n",
       "      <td>{'ship vessel': '31933', 'water': '36753', 'tr...</td>\n",
       "      <td>(1870, 1880)</td>\n",
       "    </tr>\n",
       "    <tr>\n",
       "      <th>1</th>\n",
       "      <td>1870</td>\n",
       "      <td>1880</td>\n",
       "      <td>Osborn v. Nicholson</td>\n",
       "      <td>0</td>\n",
       "      <td>[[slave, jurisdiction, cease, contract, pleadi...</td>\n",
       "      <td>{'slave': '32132', 'jurisdiction': '18601', 'c...</td>\n",
       "      <td>{'ship vessel': '31933', 'water': '36753', 'tr...</td>\n",
       "      <td>(1870, 1880)</td>\n",
       "    </tr>\n",
       "    <tr>\n",
       "      <th>2</th>\n",
       "      <td>1870</td>\n",
       "      <td>1880</td>\n",
       "      <td>Bradwell v. State</td>\n",
       "      <td>2</td>\n",
       "      <td>[[citizen, property, government, privilege, pe...</td>\n",
       "      <td>{'citizen': '5000', 'property': '27082', 'gove...</td>\n",
       "      <td>{'ship vessel': '31933', 'water': '36753', 'tr...</td>\n",
       "      <td>(1870, 1880)</td>\n",
       "    </tr>\n",
       "    <tr>\n",
       "      <th>3</th>\n",
       "      <td>1870</td>\n",
       "      <td>1880</td>\n",
       "      <td>Slaughter-House Cases</td>\n",
       "      <td>2</td>\n",
       "      <td>[[citizen, property, government, privilege, pe...</td>\n",
       "      <td>{'citizen': '5000', 'property': '27082', 'gove...</td>\n",
       "      <td>{'ship vessel': '31933', 'water': '36753', 'tr...</td>\n",
       "      <td>(1870, 1880)</td>\n",
       "    </tr>\n",
       "    <tr>\n",
       "      <th>4</th>\n",
       "      <td>1870</td>\n",
       "      <td>1880</td>\n",
       "      <td>Bartemeyer v. Iowa</td>\n",
       "      <td>2</td>\n",
       "      <td>[[citizen, property, government, privilege, pe...</td>\n",
       "      <td>{'citizen': '5000', 'property': '27082', 'gove...</td>\n",
       "      <td>{'ship vessel': '31933', 'water': '36753', 'tr...</td>\n",
       "      <td>(1870, 1880)</td>\n",
       "    </tr>\n",
       "  </tbody>\n",
       "</table>\n",
       "</div>"
      ],
      "text/plain": [
       "  year_1 year_2                    title topic  \\\n",
       "0   1870   1880  Worthy v. Commissioners     3   \n",
       "1   1870   1880      Osborn v. Nicholson     0   \n",
       "2   1870   1880        Bradwell v. State     2   \n",
       "3   1870   1880    Slaughter-House Cases     2   \n",
       "4   1870   1880       Bartemeyer v. Iowa     2   \n",
       "\n",
       "                                               terms  \\\n",
       "0  [[authority exercise, jurisdiction, treaty, di...   \n",
       "1  [[slave, jurisdiction, cease, contract, pleadi...   \n",
       "2  [[citizen, property, government, privilege, pe...   \n",
       "3  [[citizen, property, government, privilege, pe...   \n",
       "4  [[citizen, property, government, privilege, pe...   \n",
       "\n",
       "                                      term_frequency  \\\n",
       "0  {'authority exercise': '2750', 'jurisdiction':...   \n",
       "1  {'slave': '32132', 'jurisdiction': '18601', 'c...   \n",
       "2  {'citizen': '5000', 'property': '27082', 'gove...   \n",
       "3  {'citizen': '5000', 'property': '27082', 'gove...   \n",
       "4  {'citizen': '5000', 'property': '27082', 'gove...   \n",
       "\n",
       "                                             lsa_bow         years  \n",
       "0  {'ship vessel': '31933', 'water': '36753', 'tr...  (1870, 1880)  \n",
       "1  {'ship vessel': '31933', 'water': '36753', 'tr...  (1870, 1880)  \n",
       "2  {'ship vessel': '31933', 'water': '36753', 'tr...  (1870, 1880)  \n",
       "3  {'ship vessel': '31933', 'water': '36753', 'tr...  (1870, 1880)  \n",
       "4  {'ship vessel': '31933', 'water': '36753', 'tr...  (1870, 1880)  "
      ]
     },
     "execution_count": 31,
     "metadata": {},
     "output_type": "execute_result"
    }
   ],
   "source": [
    "big_df.head()"
   ]
  },
  {
   "cell_type": "markdown",
   "metadata": {},
   "source": [
    "### Plotly"
   ]
  },
  {
   "cell_type": "code",
   "execution_count": 32,
   "metadata": {},
   "outputs": [],
   "source": [
    "#pd.DataFrame.from_dict(kmb)\n",
    "#pd.DataFrame.from_dict(lsa)\n",
    "#pd.DataFrame.from_dict(topic_and_data)\n",
    "#pd.DataFrame.from_dict(lsat)"
   ]
  },
  {
   "cell_type": "code",
   "execution_count": 33,
   "metadata": {
    "scrolled": true
   },
   "outputs": [
    {
     "data": {
      "text/plain": [
       "{0: {'slave': 32132,\n",
       "  'jurisdiction': 18601,\n",
       "  'cease': 4381,\n",
       "  'contract': 8023,\n",
       "  'pleading': 25163,\n",
       "  'warranty': 36717,\n",
       "  'illinois': 16658,\n",
       "  'order': 23343,\n",
       "  'thomas': 34487,\n",
       "  'raymond': 28678}}"
      ]
     },
     "execution_count": 33,
     "metadata": {},
     "output_type": "execute_result"
    }
   ],
   "source": [
    "def flat(x):\n",
    "    out = []\n",
    "    for item in x:\n",
    "        if isinstance(item, dict):\n",
    "            out = flat([x[k] for k in x])\n",
    "        elif isinstance(item, list):\n",
    "            out = [flat[e] for e in x]\n",
    "        else:\n",
    "            out = x\n",
    "    return out\n",
    "\n",
    "flat(kdataframe.iloc[(0,0)])"
   ]
  },
  {
   "cell_type": "code",
   "execution_count": 34,
   "metadata": {},
   "outputs": [],
   "source": [
    "kdataframe = pd.DataFrame.from_records(kmdict)"
   ]
  },
  {
   "cell_type": "code",
   "execution_count": 19,
   "metadata": {},
   "outputs": [
    {
     "data": {
      "text/html": [
       "<div>\n",
       "<style scoped>\n",
       "    .dataframe tbody tr th:only-of-type {\n",
       "        vertical-align: middle;\n",
       "    }\n",
       "\n",
       "    .dataframe tbody tr th {\n",
       "        vertical-align: top;\n",
       "    }\n",
       "\n",
       "    .dataframe thead th {\n",
       "        text-align: right;\n",
       "    }\n",
       "</style>\n",
       "<table border=\"1\" class=\"dataframe\">\n",
       "  <thead>\n",
       "    <tr style=\"text-align: right;\">\n",
       "      <th></th>\n",
       "      <th>(1870, 1880)</th>\n",
       "      <th>(1880, 1890)</th>\n",
       "      <th>(1890, 1900)</th>\n",
       "      <th>(1900, 1910)</th>\n",
       "      <th>(1910, 1920)</th>\n",
       "      <th>(1920, 1930)</th>\n",
       "      <th>(1930, 1940)</th>\n",
       "      <th>(1940, 1950)</th>\n",
       "      <th>(1950, 1960)</th>\n",
       "      <th>(1960, 1970)</th>\n",
       "      <th>(1970, 1980)</th>\n",
       "      <th>(1980, 1990)</th>\n",
       "      <th>(1990, 2000)</th>\n",
       "      <th>(2000, 2010)</th>\n",
       "      <th>(2010, 2020)</th>\n",
       "    </tr>\n",
       "  </thead>\n",
       "  <tbody>\n",
       "    <tr>\n",
       "      <th>0</th>\n",
       "      <td>{0: {'slave': 32132, 'jurisdiction': 18601, 'c...</td>\n",
       "      <td>{0: {'injury': 38222, 'iowa': 39599, 'damage':...</td>\n",
       "      <td>{0: {'property': 127094, 'land': 91710, 'asses...</td>\n",
       "      <td>{0: {'depot': 70756, 'village': 245996, 'stati...</td>\n",
       "      <td>{0: {'tax': 226546, 'property': 182034, 'busin...</td>\n",
       "      <td>{0: {'commission': 38876, 'rate': 172836, 'cit...</td>\n",
       "      <td>{0: {'carrier': 37890, 'highway': 132409, 'veh...</td>\n",
       "      <td>{0: {'confession': 69537, 'ashcraft': 24832, '...</td>\n",
       "      <td>{0: {'trial': 274710, 'habeas': 124011, 'habea...</td>\n",
       "      <td>{0: {'search': 542864, 'arrest': 44212, 'offic...</td>\n",
       "      <td>{0: {'inmate': 546182, 'parole': 742535, 'pris...</td>\n",
       "      <td>{0: {'death': 280198, 'stay': 999911, 'executi...</td>\n",
       "      <td>{0: {'search': 654027, 'fourth amendment': 308...</td>\n",
       "      <td>{0: {'candidate': 79551, 'voter': 607598, 'pol...</td>\n",
       "      <td>{0: {'racial': 416204, 'voter': 557586, 'race'...</td>\n",
       "    </tr>\n",
       "    <tr>\n",
       "      <th>1</th>\n",
       "      <td>{1: {'passenger': 24168, 'commerce': 6094, 've...</td>\n",
       "      <td>{1: {'juror': 40788, 'jury': 40949, 'indictmen...</td>\n",
       "      <td>{1: {'railroad': 133114, 'corporation': 39519,...</td>\n",
       "      <td>{1: {'assessment': 17601, 'improvement': 11654...</td>\n",
       "      <td>{1: {'sale': 207664, 'liquor': 137159, 'sell':...</td>\n",
       "      <td>{1: {'trust': 213727, 'tax': 204902, 'trustee'...</td>\n",
       "      <td>{1: {'tax': 267406, 'property': 215727, 'trust...</td>\n",
       "      <td>{1: {'gas': 146161, 'commission': 61432, 'rate...</td>\n",
       "      <td>{1: {'tax': 265462, 'commerce': 49723, 'inters...</td>\n",
       "      <td>{1: {'apportionment': 38042, 'election': 20653...</td>\n",
       "      <td>{1: {'obscene': 708038, 'material': 647624, 'o...</td>\n",
       "      <td>{1: {'congress': 222862, 'tax': 1034136, 'acti...</td>\n",
       "      <td>{1: {'trial': 735475, 'defendant': 201855, 'ha...</td>\n",
       "      <td>{1: {'school': 511114, 'student': 546864, 'rel...</td>\n",
       "      <td>{1: {'trial': 534956, 'juror': 283056, 'defend...</td>\n",
       "    </tr>\n",
       "    <tr>\n",
       "      <th>2</th>\n",
       "      <td>{2: {'citizen': 5000, 'property': 27082, 'gove...</td>\n",
       "      <td>{2: {'congress': 15328, 'militia': 47326, 'yar...</td>\n",
       "      <td>{2: {'jury': 89505, 'verdict': 170504, 'eviden...</td>\n",
       "      <td>{2: {'power': 174652, 'contract': 55307, 'wate...</td>\n",
       "      <td>{2: {'employer': 82327, 'employee': 82147, 'ho...</td>\n",
       "      <td>{2: {'advocate': 4643, 'syndicalism': 204456, ...</td>\n",
       "      <td>{2: {'milk': 173852, 'power': 204669, 'contrac...</td>\n",
       "      <td>{2: {'jury': 185541, 'religious': 283968, 'pub...</td>\n",
       "      <td>{2: {'jury': 150797, 'confession': 56662, 'gra...</td>\n",
       "      <td>{2: {'trial': 612933, 'jury': 333411, 'counsel...</td>\n",
       "      <td>{2: {'school': 943066, 'child': 167786, 'publi...</td>\n",
       "      <td>{2: {'death': 280198, 'jury': 585792, 'death p...</td>\n",
       "      <td>{2: {'congress': 153567, 'government': 322948,...</td>\n",
       "      <td>{2: {'congress': 121567, 'government': 253978,...</td>\n",
       "      <td>{2: {'juvenile': 285439, 'parole': 364343, 'li...</td>\n",
       "    </tr>\n",
       "    <tr>\n",
       "      <th>3</th>\n",
       "      <td>{3: {'authority exercise': 2750, 'jurisdiction...</td>\n",
       "      <td>{3: {'railroad': 62070, 'tax': 73343, 'propert...</td>\n",
       "      <td>{3: {'citizen': 25268, 'power': 120990, 'comme...</td>\n",
       "      <td>{3: {'tax': 227479, 'property': 183387, 'taxat...</td>\n",
       "      <td>{3: {'land': 130494, 'water': 246470, 'canal':...</td>\n",
       "      <td>{3: {'public': 168424, 'business': 26481, 'pow...</td>\n",
       "      <td>{3: {'tax': 267406, 'city': 45247, 'business':...</td>\n",
       "      <td>{3: {'tax': 325712, 'property': 263246, 'estat...</td>\n",
       "      <td>{3: {'insurance': 142285, 'highway': 128494, '...</td>\n",
       "      <td>{3: {'confession': 124961, 'habeas': 274550, '...</td>\n",
       "      <td>{3: {'search': 948016, 'fourth amendment': 447...</td>\n",
       "      <td>{3: {'trial': 1065064, 'defendant': 291016, 'c...</td>\n",
       "      <td>{3: {'voting': 769286, 'election': 248940, 'ca...</td>\n",
       "      <td>{3: {'inmate': 296626, 'prison': 439672, 'osp'...</td>\n",
       "      <td>{3: {'cake': 74317, 'phillips': 374639, 'speec...</td>\n",
       "    </tr>\n",
       "    <tr>\n",
       "      <th>4</th>\n",
       "      <td>{4: {'trial': 34970, 'jury': 18737, 'suit comm...</td>\n",
       "      <td>{4: {'citizen': 11416, 'congress': 15328, 'cou...</td>\n",
       "      <td>{4: {'tax': 158087, 'taxation': 158911, 'bank'...</td>\n",
       "      <td>{4: {'insurance': 122522, 'policy': 172973, 'l...</td>\n",
       "      <td>{4: {'commission': 41955, 'railroad': 189513, ...</td>\n",
       "      <td>{4: {'tax': 204902, 'corporation': 52187, 'bus...</td>\n",
       "      <td>{4: {'tax': 267406, 'interstate': 146689, 'com...</td>\n",
       "      <td>{4: {'insurance': 174871, 'commerce': 60701, '...</td>\n",
       "      <td>{4: {'new': 178818, 'government': 120062, 'pub...</td>\n",
       "      <td>{4: {'school': 540403, 'congress': 127046, 'pu...</td>\n",
       "      <td>{4: {'jury': 585502, 'trial': 1067876, 'defend...</td>\n",
       "      <td>{4: {'school': 942679, 'religious': 890486, 'r...</td>\n",
       "      <td>{4: {'tax': 713438, 'speech': 682229, 'religio...</td>\n",
       "      <td>{4: {'jury': 317630, 'defendant': 158603, 'dea...</td>\n",
       "      <td>{4: {'jurisdiction': 281990, 'mcintyre': 31459...</td>\n",
       "    </tr>\n",
       "    <tr>\n",
       "      <th>5</th>\n",
       "      <td>{5: {'tax': 33814, 'tax duty': 33842, 'estate'...</td>\n",
       "      <td>{5: {'power': 55874, 'business': 9036, 'commer...</td>\n",
       "      <td>{5: {'writ': 175716, 'trial': 165412, 'jury': ...</td>\n",
       "      <td>{5: {'trial': 237278, 'jury': 129234, 'defenda...</td>\n",
       "      <td>{5: {'ordinance': 160260, 'city': 36912, 'stre...</td>\n",
       "      <td>{5: {'assessment': 15899, 'benefit': 21818, 'i...</td>\n",
       "      <td>{5: {'rate': 224726, 'commission': 51215, 'gas...</td>\n",
       "      <td>{5: {'counsel': 83817, 'habeas': 153443, 'habe...</td>\n",
       "      <td>{5: {'jeopardy': 147908, 'trial': 274710, 'pro...</td>\n",
       "      <td>{5: {'obscene': 405060, 'obscenity': 405285, '...</td>\n",
       "      <td>{5: {'jeopardy': 575240, 'double jeopardy': 34...</td>\n",
       "      <td>{5: {'search': 947391, 'police': 775935, 'chil...</td>\n",
       "      <td>{5: {'jury': 404410, 'death': 194186, 'mitigat...</td>\n",
       "      <td>{5: {'miranda': 363108, 'kaupp': 320695, 'arre...</td>\n",
       "      <td>{5: {'tax': 499905, 'taxpayer': 500138, 'flast...</td>\n",
       "    </tr>\n",
       "  </tbody>\n",
       "</table>\n",
       "</div>"
      ],
      "text/plain": [
       "                                        (1870, 1880)  \\\n",
       "0  {0: {'slave': 32132, 'jurisdiction': 18601, 'c...   \n",
       "1  {1: {'passenger': 24168, 'commerce': 6094, 've...   \n",
       "2  {2: {'citizen': 5000, 'property': 27082, 'gove...   \n",
       "3  {3: {'authority exercise': 2750, 'jurisdiction...   \n",
       "4  {4: {'trial': 34970, 'jury': 18737, 'suit comm...   \n",
       "5  {5: {'tax': 33814, 'tax duty': 33842, 'estate'...   \n",
       "\n",
       "                                        (1880, 1890)  \\\n",
       "0  {0: {'injury': 38222, 'iowa': 39599, 'damage':...   \n",
       "1  {1: {'juror': 40788, 'jury': 40949, 'indictmen...   \n",
       "2  {2: {'congress': 15328, 'militia': 47326, 'yar...   \n",
       "3  {3: {'railroad': 62070, 'tax': 73343, 'propert...   \n",
       "4  {4: {'citizen': 11416, 'congress': 15328, 'cou...   \n",
       "5  {5: {'power': 55874, 'business': 9036, 'commer...   \n",
       "\n",
       "                                        (1890, 1900)  \\\n",
       "0  {0: {'property': 127094, 'land': 91710, 'asses...   \n",
       "1  {1: {'railroad': 133114, 'corporation': 39519,...   \n",
       "2  {2: {'jury': 89505, 'verdict': 170504, 'eviden...   \n",
       "3  {3: {'citizen': 25268, 'power': 120990, 'comme...   \n",
       "4  {4: {'tax': 158087, 'taxation': 158911, 'bank'...   \n",
       "5  {5: {'writ': 175716, 'trial': 165412, 'jury': ...   \n",
       "\n",
       "                                        (1900, 1910)  \\\n",
       "0  {0: {'depot': 70756, 'village': 245996, 'stati...   \n",
       "1  {1: {'assessment': 17601, 'improvement': 11654...   \n",
       "2  {2: {'power': 174652, 'contract': 55307, 'wate...   \n",
       "3  {3: {'tax': 227479, 'property': 183387, 'taxat...   \n",
       "4  {4: {'insurance': 122522, 'policy': 172973, 'l...   \n",
       "5  {5: {'trial': 237278, 'jury': 129234, 'defenda...   \n",
       "\n",
       "                                        (1910, 1920)  \\\n",
       "0  {0: {'tax': 226546, 'property': 182034, 'busin...   \n",
       "1  {1: {'sale': 207664, 'liquor': 137159, 'sell':...   \n",
       "2  {2: {'employer': 82327, 'employee': 82147, 'ho...   \n",
       "3  {3: {'land': 130494, 'water': 246470, 'canal':...   \n",
       "4  {4: {'commission': 41955, 'railroad': 189513, ...   \n",
       "5  {5: {'ordinance': 160260, 'city': 36912, 'stre...   \n",
       "\n",
       "                                        (1920, 1930)  \\\n",
       "0  {0: {'commission': 38876, 'rate': 172836, 'cit...   \n",
       "1  {1: {'trust': 213727, 'tax': 204902, 'trustee'...   \n",
       "2  {2: {'advocate': 4643, 'syndicalism': 204456, ...   \n",
       "3  {3: {'public': 168424, 'business': 26481, 'pow...   \n",
       "4  {4: {'tax': 204902, 'corporation': 52187, 'bus...   \n",
       "5  {5: {'assessment': 15899, 'benefit': 21818, 'i...   \n",
       "\n",
       "                                        (1930, 1940)  \\\n",
       "0  {0: {'carrier': 37890, 'highway': 132409, 'veh...   \n",
       "1  {1: {'tax': 267406, 'property': 215727, 'trust...   \n",
       "2  {2: {'milk': 173852, 'power': 204669, 'contrac...   \n",
       "3  {3: {'tax': 267406, 'city': 45247, 'business':...   \n",
       "4  {4: {'tax': 267406, 'interstate': 146689, 'com...   \n",
       "5  {5: {'rate': 224726, 'commission': 51215, 'gas...   \n",
       "\n",
       "                                        (1940, 1950)  \\\n",
       "0  {0: {'confession': 69537, 'ashcraft': 24832, '...   \n",
       "1  {1: {'gas': 146161, 'commission': 61432, 'rate...   \n",
       "2  {2: {'jury': 185541, 'religious': 283968, 'pub...   \n",
       "3  {3: {'tax': 325712, 'property': 263246, 'estat...   \n",
       "4  {4: {'insurance': 174871, 'commerce': 60701, '...   \n",
       "5  {5: {'counsel': 83817, 'habeas': 153443, 'habe...   \n",
       "\n",
       "                                        (1950, 1960)  \\\n",
       "0  {0: {'trial': 274710, 'habeas': 124011, 'habea...   \n",
       "1  {1: {'tax': 265462, 'commerce': 49723, 'inters...   \n",
       "2  {2: {'jury': 150797, 'confession': 56662, 'gra...   \n",
       "3  {3: {'insurance': 142285, 'highway': 128494, '...   \n",
       "4  {4: {'new': 178818, 'government': 120062, 'pub...   \n",
       "5  {5: {'jeopardy': 147908, 'trial': 274710, 'pro...   \n",
       "\n",
       "                                        (1960, 1970)  \\\n",
       "0  {0: {'search': 542864, 'arrest': 44212, 'offic...   \n",
       "1  {1: {'apportionment': 38042, 'election': 20653...   \n",
       "2  {2: {'trial': 612933, 'jury': 333411, 'counsel...   \n",
       "3  {3: {'confession': 124961, 'habeas': 274550, '...   \n",
       "4  {4: {'school': 540403, 'congress': 127046, 'pu...   \n",
       "5  {5: {'obscene': 405060, 'obscenity': 405285, '...   \n",
       "\n",
       "                                        (1970, 1980)  \\\n",
       "0  {0: {'inmate': 546182, 'parole': 742535, 'pris...   \n",
       "1  {1: {'obscene': 708038, 'material': 647624, 'o...   \n",
       "2  {2: {'school': 943066, 'child': 167786, 'publi...   \n",
       "3  {3: {'search': 948016, 'fourth amendment': 447...   \n",
       "4  {4: {'jury': 585502, 'trial': 1067876, 'defend...   \n",
       "5  {5: {'jeopardy': 575240, 'double jeopardy': 34...   \n",
       "\n",
       "                                        (1980, 1990)  \\\n",
       "0  {0: {'death': 280198, 'stay': 999911, 'executi...   \n",
       "1  {1: {'congress': 222862, 'tax': 1034136, 'acti...   \n",
       "2  {2: {'death': 280198, 'jury': 585792, 'death p...   \n",
       "3  {3: {'trial': 1065064, 'defendant': 291016, 'c...   \n",
       "4  {4: {'school': 942679, 'religious': 890486, 'r...   \n",
       "5  {5: {'search': 947391, 'police': 775935, 'chil...   \n",
       "\n",
       "                                        (1990, 2000)  \\\n",
       "0  {0: {'search': 654027, 'fourth amendment': 308...   \n",
       "1  {1: {'trial': 735475, 'defendant': 201855, 'ha...   \n",
       "2  {2: {'congress': 153567, 'government': 322948,...   \n",
       "3  {3: {'voting': 769286, 'election': 248940, 'ca...   \n",
       "4  {4: {'tax': 713438, 'speech': 682229, 'religio...   \n",
       "5  {5: {'jury': 404410, 'death': 194186, 'mitigat...   \n",
       "\n",
       "                                        (2000, 2010)  \\\n",
       "0  {0: {'candidate': 79551, 'voter': 607598, 'pol...   \n",
       "1  {1: {'school': 511114, 'student': 546864, 'rel...   \n",
       "2  {2: {'congress': 121567, 'government': 253978,...   \n",
       "3  {3: {'inmate': 296626, 'prison': 439672, 'osp'...   \n",
       "4  {4: {'jury': 317630, 'defendant': 158603, 'dea...   \n",
       "5  {5: {'miranda': 363108, 'kaupp': 320695, 'arre...   \n",
       "\n",
       "                                        (2010, 2020)  \n",
       "0  {0: {'racial': 416204, 'voter': 557586, 'race'...  \n",
       "1  {1: {'trial': 534956, 'juror': 283056, 'defend...  \n",
       "2  {2: {'juvenile': 285439, 'parole': 364343, 'li...  \n",
       "3  {3: {'cake': 74317, 'phillips': 374639, 'speec...  \n",
       "4  {4: {'jurisdiction': 281990, 'mcintyre': 31459...  \n",
       "5  {5: {'tax': 499905, 'taxpayer': 500138, 'flast...  "
      ]
     },
     "execution_count": 19,
     "metadata": {},
     "output_type": "execute_result"
    }
   ],
   "source": [
    "kdataframe.head(10)"
   ]
  },
  {
   "cell_type": "code",
   "execution_count": 35,
   "metadata": {},
   "outputs": [
    {
     "data": {
      "text/plain": [
       "'34955'"
      ]
     },
     "execution_count": 35,
     "metadata": {},
     "output_type": "execute_result"
    }
   ],
   "source": [
    "flatten_all(kdataframe[(1870, 1880)].iloc[3])[\"treaty\"]"
   ]
  },
  {
   "cell_type": "code",
   "execution_count": 38,
   "metadata": {},
   "outputs": [
    {
     "name": "stdout",
     "output_type": "stream",
     "text": [
      "slave\n",
      "jurisdiction\n",
      "cease\n",
      "contract\n",
      "pleading\n",
      "warranty\n",
      "illinois\n",
      "order\n",
      "thomas\n",
      "raymond\n",
      "injury\n",
      "iowa\n",
      "damage\n",
      "railway\n",
      "engineer\n",
      "fence\n",
      "negligence\n",
      "corporation\n",
      "railroad\n",
      "liability\n",
      "property\n",
      "land\n",
      "assessment\n",
      "improvement\n",
      "street\n",
      "question\n",
      "lot\n",
      "tax\n",
      "compensation\n",
      "public\n",
      "depot\n",
      "village\n",
      "station\n",
      "emmons\n",
      "passenger\n",
      "railroad\n",
      "fare\n",
      "railway\n",
      "road\n",
      "depot station\n",
      "tax\n",
      "property\n",
      "business\n",
      "corporation\n",
      "assessment\n",
      "insurance\n",
      "kentucky\n",
      "taxation\n",
      "question\n",
      "policy\n",
      "commission\n",
      "rate\n",
      "city\n",
      "order\n",
      "contract\n",
      "water\n",
      "public\n",
      "service\n",
      "ordinance\n",
      "street\n",
      "carrier\n",
      "highway\n",
      "vehicle\n",
      "motor\n",
      "common carrier\n",
      "certificate\n",
      "transportation\n",
      "private carrier\n",
      "public\n",
      "motor vehicle\n",
      "confession\n",
      "ashcraft\n",
      "officer\n",
      "trial\n",
      "police\n",
      "evidence\n",
      "mcnabb\n",
      "jury\n",
      "testimony\n",
      "jail\n",
      "trial\n",
      "habeas\n",
      "habeas corpus\n",
      "transcript\n",
      "corpus\n",
      "appeal\n",
      "illinois\n",
      "writ\n",
      "chessman\n",
      "florida\n",
      "search\n",
      "arrest\n",
      "officer\n",
      "warrant\n",
      "fourth amendment\n",
      "fourth\n",
      "evidence\n",
      "police\n",
      "probable cause\n",
      "seizure\n",
      "inmate\n",
      "parole\n",
      "prison\n",
      "juvenile\n",
      "prisoner\n",
      "probation\n",
      "transfer\n",
      "hearing\n",
      "probation officer\n",
      "parolee\n",
      "death\n",
      "stay\n",
      "execution\n",
      "application stay\n",
      "stay execution\n",
      "death penalty\n",
      "certiorari\n",
      "penalty\n",
      "writ\n",
      "writ certiorari\n",
      "search\n",
      "fourth amendment\n",
      "seizure\n",
      "fourth\n",
      "officer\n",
      "probable cause\n",
      "warrant\n",
      "immunity\n",
      "property\n",
      "arrest\n",
      "candidate\n",
      "voter\n",
      "political\n",
      "election\n",
      "plan\n",
      "voting\n",
      "gerrymander\n",
      "minority\n",
      "buckley\n",
      "party\n",
      "racial\n",
      "voter\n",
      "race\n",
      "minority\n",
      "voting\n",
      "gerrymander\n",
      "plan\n",
      "vote\n",
      "redistricting\n",
      "map\n"
     ]
    }
   ],
   "source": [
    "for column in kdataframe.columns:\n",
    "    for term in flatten_all(kdataframe[column].iloc[0]).keys():\n",
    "        print(term)"
   ]
  },
  {
   "cell_type": "code",
   "execution_count": 39,
   "metadata": {},
   "outputs": [
    {
     "data": {
      "text/plain": [
       "{0: {'slave': 32132,\n",
       "  'jurisdiction': 18601,\n",
       "  'cease': 4381,\n",
       "  'contract': 8023,\n",
       "  'pleading': 25163,\n",
       "  'warranty': 36717,\n",
       "  'illinois': 16658,\n",
       "  'order': 23343,\n",
       "  'thomas': 34487,\n",
       "  'raymond': 28678}}"
      ]
     },
     "execution_count": 39,
     "metadata": {},
     "output_type": "execute_result"
    }
   ],
   "source": [
    "kdataframe[(1870, 1880)].iloc[0]"
   ]
  },
  {
   "cell_type": "code",
   "execution_count": 111,
   "metadata": {},
   "outputs": [],
   "source": [
    "graph_df = pd.DataFrame(columns=[\"term\",\"year_1\",\"year_2\",\"topic\",\"frequency\"])\n",
    "for column in kdataframe.columns:\n",
    "    for i in range(len(kdataframe)):\n",
    "        terms = {\"term\":[],\"year_1\":[],\"year_2\":[],\"topic\":[],\"frequency\":[]}\n",
    "        for key in flatten_all(kdataframe[column].iloc[i]).keys():\n",
    "            terms[\"term\"].append(key)\n",
    "            terms[\"year_1\"].append(column[0])\n",
    "            terms[\"year_2\"].append(column[1])\n",
    "            terms[\"topic\"].append(list(kdataframe[column].iloc[i].keys())[0])\n",
    "            terms[\"frequency\"].append(flatten_all(kdataframe[column].iloc[i])[key])\n",
    "            \n",
    "        term_df = pd.DataFrame.from_dict(terms)\n",
    "        graph_df = pd.concat([graph_df, term_df], ignore_index=True)"
   ]
  },
  {
   "cell_type": "code",
   "execution_count": 114,
   "metadata": {
    "scrolled": true
   },
   "outputs": [
    {
     "data": {
      "text/plain": [
       "661     999911\n",
       "804      99597\n",
       "779      99527\n",
       "38        9914\n",
       "256      98830\n",
       "752      98432\n",
       "126      97723\n",
       "878      97697\n",
       "153      96602\n",
       "636     955325\n",
       "186      95518\n",
       "708     951284\n",
       "316      94920\n",
       "630     948016\n",
       "710     947391\n",
       "620     943066\n",
       "700     942679\n",
       "658     931027\n",
       "49        9294\n",
       "855      92832\n",
       "47        9244\n",
       "121      91710\n",
       "746       9131\n",
       "628     905596\n",
       "111       9036\n",
       "534      90133\n",
       "533      90125\n",
       "140      89505\n",
       "172      89505\n",
       "701     890486\n",
       "        ...   \n",
       "588     113933\n",
       "669    1137535\n",
       "668    1137503\n",
       "54       11273\n",
       "489     112236\n",
       "633    1121531\n",
       "262     111986\n",
       "719    1119186\n",
       "348     111700\n",
       "175     109662\n",
       "33       10795\n",
       "147     107047\n",
       "653    1067876\n",
       "641    1067876\n",
       "690    1065064\n",
       "606    1064183\n",
       "649      10635\n",
       "344     106261\n",
       "58       10614\n",
       "297     105428\n",
       "352     105221\n",
       "167     105004\n",
       "169     104998\n",
       "148     104261\n",
       "629    1036415\n",
       "376     103608\n",
       "671    1034136\n",
       "703    1007684\n",
       "298     100708\n",
       "664    1000003\n",
       "Name: frequency, Length: 900, dtype: object"
      ]
     },
     "execution_count": 114,
     "metadata": {},
     "output_type": "execute_result"
    }
   ],
   "source": [
    "graph_df.frequency.sort_values(ascending=False)"
   ]
  },
  {
   "cell_type": "code",
   "execution_count": 43,
   "metadata": {},
   "outputs": [
    {
     "data": {
      "text/html": [
       "<div>\n",
       "<style scoped>\n",
       "    .dataframe tbody tr th:only-of-type {\n",
       "        vertical-align: middle;\n",
       "    }\n",
       "\n",
       "    .dataframe tbody tr th {\n",
       "        vertical-align: top;\n",
       "    }\n",
       "\n",
       "    .dataframe thead th {\n",
       "        text-align: right;\n",
       "    }\n",
       "</style>\n",
       "<table border=\"1\" class=\"dataframe\">\n",
       "  <thead>\n",
       "    <tr style=\"text-align: right;\">\n",
       "      <th></th>\n",
       "      <th>term</th>\n",
       "      <th>year_1</th>\n",
       "      <th>year_2</th>\n",
       "      <th>topic</th>\n",
       "      <th>frequency</th>\n",
       "    </tr>\n",
       "  </thead>\n",
       "  <tbody>\n",
       "  </tbody>\n",
       "</table>\n",
       "</div>"
      ],
      "text/plain": [
       "Empty DataFrame\n",
       "Columns: [term, year_1, year_2, topic, frequency]\n",
       "Index: []"
      ]
     },
     "execution_count": 43,
     "metadata": {},
     "output_type": "execute_result"
    }
   ],
   "source": [
    "graph_df[graph_df.isna().any(axis=1)]"
   ]
  },
  {
   "cell_type": "code",
   "execution_count": 115,
   "metadata": {},
   "outputs": [],
   "source": [
    "graph_df[\"frequency\"] = graph_df[\"frequency\"].apply(lambda x: int(x))"
   ]
  },
  {
   "cell_type": "code",
   "execution_count": 116,
   "metadata": {
    "scrolled": true
   },
   "outputs": [
    {
     "data": {
      "text/plain": [
       "669    1137535\n",
       "668    1137503\n",
       "633    1121531\n",
       "719    1119186\n",
       "641    1067876\n",
       "653    1067876\n",
       "690    1065064\n",
       "606    1064183\n",
       "629    1036415\n",
       "671    1034136\n",
       "703    1007684\n",
       "664    1000003\n",
       "661     999911\n",
       "636     955325\n",
       "708     951284\n",
       "630     948016\n",
       "710     947391\n",
       "620     943066\n",
       "700     942679\n",
       "658     931027\n",
       "628     905596\n",
       "701     890486\n",
       "702     889817\n",
       "677     880340\n",
       "622     842363\n",
       "704     840292\n",
       "678     840292\n",
       "675     826944\n",
       "608     812725\n",
       "605     812666\n",
       "        ...   \n",
       "115      11416\n",
       "100      11416\n",
       "54       11273\n",
       "33       10795\n",
       "649      10635\n",
       "58       10614\n",
       "38        9914\n",
       "49        9294\n",
       "47        9244\n",
       "746       9131\n",
       "111       9036\n",
       "3         8023\n",
       "95        7971\n",
       "15        6958\n",
       "11        6094\n",
       "13        5783\n",
       "93        5601\n",
       "35        5539\n",
       "20        5000\n",
       "84        4854\n",
       "320       4643\n",
       "2         4381\n",
       "36        4348\n",
       "17        4039\n",
       "30        2750\n",
       "34        2714\n",
       "46        2225\n",
       "239       2048\n",
       "512       1414\n",
       "513       1402\n",
       "Name: frequency, Length: 900, dtype: int64"
      ]
     },
     "execution_count": 116,
     "metadata": {},
     "output_type": "execute_result"
    }
   ],
   "source": [
    "#graph_df[\"year_2\"].apply(lambda x: int(x))\n",
    "type(graph_df[\"term\"].iloc[0])\n",
    "graph_df[\"frequency\"].sort_values(ascending=False)"
   ]
  },
  {
   "cell_type": "code",
   "execution_count": null,
   "metadata": {},
   "outputs": [],
   "source": [
    "graph_df_2 = pd.DataFrame(columns=[\"year_1\", \"year_2\", \"title\", \"topic\",\"terms\", \"term_frequency\", \"lsa_bow\"])\n",
    "\n",
    "for k in topic_and_data.keys():\n",
    "    for i in range(len(topic_and_data[k][0])):\n",
    "        terms = {\"year_1\":[],\"year_2\":[], \"title\":[],\"topic\":[],\"terms\":[], \"term_frequency\":[], \"lsa_bow\":[]}\n",
    "        range_df.loc[i] = {\"year_1\":k[0],\"year_2\":k[1],\"title\":topic_and_data[k][0][i][0][0],\n",
    "                     \"topic\":topic_and_data[k][0][i][1],\"terms\":[kmb[k][topic_and_data[k][0][i][1]]],\n",
    "                     \"term_frequency\":[kmdict[k][topic_and_data[k][0][i][1]]],\"lsa_bow\":[lsat[k]]}\n",
    "    # big_df_2 = pd.concat([big_df, range_df], axis=0)"
   ]
  },
  {
   "cell_type": "code",
   "execution_count": 129,
   "metadata": {},
   "outputs": [],
   "source": [
    "# trim the dataframe\n",
    "copy = graph_df.copy()\n",
    "copy = copy[copy[\"frequency\"] > 62259]\n",
    "copy = copy[copy[\"frequency\"] < 1137536]"
   ]
  },
  {
   "cell_type": "code",
   "execution_count": 135,
   "metadata": {
    "scrolled": false
   },
   "outputs": [
    {
     "data": {
      "application/vnd.plotly.v1+json": {
       "config": {
        "plotlyServerURL": "https://plot.ly"
       },
       "data": [
        {
         "alignmentgroup": "True",
         "hoverlabel": {
          "namelength": 0
         },
         "hovertemplate": "<b>%{hovertext}</b><br><br>topic=0<br>year_1=1880<br>term=%{text}<br>frequency=%{y}",
         "hovertext": [
          "railway"
         ],
         "ids": [
          "railway"
         ],
         "legendgroup": "topic=0",
         "marker": {
          "color": "#636efa",
          "opacity": 0.5
         },
         "name": "topic=0",
         "offsetgroup": "topic=0",
         "orientation": "v",
         "showlegend": true,
         "text": [
          "railway"
         ],
         "textposition": "auto",
         "type": "bar",
         "x": [
          "railway"
         ],
         "xaxis": "x",
         "y": [
          62322
         ],
         "yaxis": "y"
        },
        {
         "alignmentgroup": "True",
         "hoverlabel": {
          "namelength": 0
         },
         "hovertemplate": "<b>%{hovertext}</b><br><br>topic=1<br>year_1=1880<br>term=%{text}<br>frequency=%{y}",
         "hovertext": [
          "trial"
         ],
         "ids": [
          "trial"
         ],
         "legendgroup": "topic=1",
         "marker": {
          "color": "#EF553B",
          "opacity": 0.5
         },
         "name": "topic=1",
         "offsetgroup": "topic=1",
         "orientation": "v",
         "showlegend": true,
         "text": [
          "trial"
         ],
         "textposition": "auto",
         "type": "bar",
         "x": [
          "trial"
         ],
         "xaxis": "x",
         "y": [
          76010
         ],
         "yaxis": "y"
        },
        {
         "alignmentgroup": "True",
         "hoverlabel": {
          "namelength": 0
         },
         "hovertemplate": "<b>%{hovertext}</b><br><br>topic=2<br>year_1=1880<br>term=%{text}<br>frequency=%{y}",
         "hovertext": [
          "yarbrough",
          "vote"
         ],
         "ids": [
          "yarbrough",
          "vote"
         ],
         "legendgroup": "topic=2",
         "marker": {
          "color": "#00cc96",
          "opacity": 0.5
         },
         "name": "topic=2",
         "offsetgroup": "topic=2",
         "orientation": "v",
         "showlegend": true,
         "text": [
          "yarbrough",
          "vote"
         ],
         "textposition": "auto",
         "type": "bar",
         "x": [
          "yarbrough",
          "vote"
         ],
         "xaxis": "x",
         "y": [
          80934,
          79212
         ],
         "yaxis": "y"
        },
        {
         "alignmentgroup": "True",
         "hoverlabel": {
          "namelength": 0
         },
         "hovertemplate": "<b>%{hovertext}</b><br><br>topic=3<br>year_1=1880<br>term=%{text}<br>frequency=%{y}",
         "hovertext": [
          "tax",
          "value"
         ],
         "ids": [
          "tax",
          "value"
         ],
         "legendgroup": "topic=3",
         "marker": {
          "color": "#ab63fa",
          "opacity": 0.5
         },
         "name": "topic=3",
         "offsetgroup": "topic=3",
         "orientation": "v",
         "showlegend": true,
         "text": [
          "tax",
          "value"
         ],
         "textposition": "auto",
         "type": "bar",
         "x": [
          "tax",
          "value"
         ],
         "xaxis": "x",
         "y": [
          73343,
          78095
         ],
         "yaxis": "y"
        },
        {
         "alignmentgroup": "True",
         "hoverlabel": {
          "namelength": 0
         },
         "hovertemplate": "<b>%{hovertext}</b><br><br>topic=4<br>year_1=1880<br>term=%{text}<br>frequency=%{y}",
         "hovertext": [
          "virginia",
          "slavery",
          "section"
         ],
         "ids": [
          "virginia",
          "slavery",
          "section"
         ],
         "legendgroup": "topic=4",
         "marker": {
          "color": "#FFA15A",
          "opacity": 0.5
         },
         "name": "topic=4",
         "offsetgroup": "topic=4",
         "orientation": "v",
         "showlegend": true,
         "text": [
          "virginia",
          "slavery",
          "section"
         ],
         "textposition": "auto",
         "type": "bar",
         "x": [
          "virginia",
          "slavery",
          "section"
         ],
         "xaxis": "x",
         "y": [
          78807,
          69933,
          68086
         ],
         "yaxis": "y"
        },
        {
         "alignmentgroup": "True",
         "hoverlabel": {
          "namelength": 0
         },
         "hovertemplate": "<b>%{hovertext}</b><br><br>topic=5<br>year_1=1880<br>term=%{text}<br>frequency=%{y}",
         "hovertext": [
          "regulation"
         ],
         "ids": [
          "regulation"
         ],
         "legendgroup": "topic=5",
         "marker": {
          "color": "#19d3f3",
          "opacity": 0.5
         },
         "name": "topic=5",
         "offsetgroup": "topic=5",
         "orientation": "v",
         "showlegend": true,
         "text": [
          "regulation"
         ],
         "textposition": "auto",
         "type": "bar",
         "x": [
          "regulation"
         ],
         "xaxis": "x",
         "y": [
          64065
         ],
         "yaxis": "y"
        }
       ],
       "frames": [
        {
         "data": [
          {
           "alignmentgroup": "True",
           "hoverlabel": {
            "namelength": 0
           },
           "hovertemplate": "<b>%{hovertext}</b><br><br>topic=0<br>year_1=1880<br>term=%{text}<br>frequency=%{y}",
           "hovertext": [
            "railway"
           ],
           "ids": [
            "railway"
           ],
           "legendgroup": "topic=0",
           "marker": {
            "color": "#636efa",
            "opacity": 0.5
           },
           "name": "topic=0",
           "offsetgroup": "topic=0",
           "orientation": "v",
           "showlegend": true,
           "text": [
            "railway"
           ],
           "textposition": "auto",
           "type": "bar",
           "x": [
            "railway"
           ],
           "xaxis": "x",
           "y": [
            62322
           ],
           "yaxis": "y"
          },
          {
           "alignmentgroup": "True",
           "hoverlabel": {
            "namelength": 0
           },
           "hovertemplate": "<b>%{hovertext}</b><br><br>topic=1<br>year_1=1880<br>term=%{text}<br>frequency=%{y}",
           "hovertext": [
            "trial"
           ],
           "ids": [
            "trial"
           ],
           "legendgroup": "topic=1",
           "marker": {
            "color": "#EF553B",
            "opacity": 0.5
           },
           "name": "topic=1",
           "offsetgroup": "topic=1",
           "orientation": "v",
           "showlegend": true,
           "text": [
            "trial"
           ],
           "textposition": "auto",
           "type": "bar",
           "x": [
            "trial"
           ],
           "xaxis": "x",
           "y": [
            76010
           ],
           "yaxis": "y"
          },
          {
           "alignmentgroup": "True",
           "hoverlabel": {
            "namelength": 0
           },
           "hovertemplate": "<b>%{hovertext}</b><br><br>topic=2<br>year_1=1880<br>term=%{text}<br>frequency=%{y}",
           "hovertext": [
            "yarbrough",
            "vote"
           ],
           "ids": [
            "yarbrough",
            "vote"
           ],
           "legendgroup": "topic=2",
           "marker": {
            "color": "#00cc96",
            "opacity": 0.5
           },
           "name": "topic=2",
           "offsetgroup": "topic=2",
           "orientation": "v",
           "showlegend": true,
           "text": [
            "yarbrough",
            "vote"
           ],
           "textposition": "auto",
           "type": "bar",
           "x": [
            "yarbrough",
            "vote"
           ],
           "xaxis": "x",
           "y": [
            80934,
            79212
           ],
           "yaxis": "y"
          },
          {
           "alignmentgroup": "True",
           "hoverlabel": {
            "namelength": 0
           },
           "hovertemplate": "<b>%{hovertext}</b><br><br>topic=3<br>year_1=1880<br>term=%{text}<br>frequency=%{y}",
           "hovertext": [
            "tax",
            "value"
           ],
           "ids": [
            "tax",
            "value"
           ],
           "legendgroup": "topic=3",
           "marker": {
            "color": "#ab63fa",
            "opacity": 0.5
           },
           "name": "topic=3",
           "offsetgroup": "topic=3",
           "orientation": "v",
           "showlegend": true,
           "text": [
            "tax",
            "value"
           ],
           "textposition": "auto",
           "type": "bar",
           "x": [
            "tax",
            "value"
           ],
           "xaxis": "x",
           "y": [
            73343,
            78095
           ],
           "yaxis": "y"
          },
          {
           "alignmentgroup": "True",
           "hoverlabel": {
            "namelength": 0
           },
           "hovertemplate": "<b>%{hovertext}</b><br><br>topic=4<br>year_1=1880<br>term=%{text}<br>frequency=%{y}",
           "hovertext": [
            "virginia",
            "slavery",
            "section"
           ],
           "ids": [
            "virginia",
            "slavery",
            "section"
           ],
           "legendgroup": "topic=4",
           "marker": {
            "color": "#FFA15A",
            "opacity": 0.5
           },
           "name": "topic=4",
           "offsetgroup": "topic=4",
           "orientation": "v",
           "showlegend": true,
           "text": [
            "virginia",
            "slavery",
            "section"
           ],
           "textposition": "auto",
           "type": "bar",
           "x": [
            "virginia",
            "slavery",
            "section"
           ],
           "xaxis": "x",
           "y": [
            78807,
            69933,
            68086
           ],
           "yaxis": "y"
          },
          {
           "alignmentgroup": "True",
           "hoverlabel": {
            "namelength": 0
           },
           "hovertemplate": "<b>%{hovertext}</b><br><br>topic=5<br>year_1=1880<br>term=%{text}<br>frequency=%{y}",
           "hovertext": [
            "regulation"
           ],
           "ids": [
            "regulation"
           ],
           "legendgroup": "topic=5",
           "marker": {
            "color": "#19d3f3",
            "opacity": 0.5
           },
           "name": "topic=5",
           "offsetgroup": "topic=5",
           "orientation": "v",
           "showlegend": true,
           "text": [
            "regulation"
           ],
           "textposition": "auto",
           "type": "bar",
           "x": [
            "regulation"
           ],
           "xaxis": "x",
           "y": [
            64065
           ],
           "yaxis": "y"
          }
         ],
         "name": "1880"
        },
        {
         "data": [
          {
           "alignmentgroup": "True",
           "hoverlabel": {
            "namelength": 0
           },
           "hovertemplate": "<b>%{hovertext}</b><br><br>topic=0<br>year_1=1890<br>term=%{text}<br>frequency=%{y}",
           "hovertext": [
            "property",
            "land",
            "improvement",
            "street",
            "question",
            "lot",
            "tax",
            "public"
           ],
           "ids": [
            "property",
            "land",
            "improvement",
            "street",
            "question",
            "lot",
            "tax",
            "public"
           ],
           "legendgroup": "topic=0",
           "marker": {
            "color": "#636efa",
            "opacity": 0.5
           },
           "name": "topic=0",
           "offsetgroup": "topic=0",
           "orientation": "v",
           "showlegend": true,
           "text": [
            "property",
            "land",
            "improvement",
            "street",
            "question",
            "lot",
            "tax",
            "public"
           ],
           "textposition": "auto",
           "type": "bar",
           "x": [
            "property",
            "land",
            "improvement",
            "street",
            "question",
            "lot",
            "tax",
            "public"
           ],
           "xaxis": "x",
           "y": [
            127094,
            91710,
            80558,
            153949,
            131944,
            97723,
            158087,
            130170
           ],
           "yaxis": "y"
          },
          {
           "alignmentgroup": "True",
           "hoverlabel": {
            "namelength": 0
           },
           "hovertemplate": "<b>%{hovertext}</b><br><br>topic=1<br>year_1=1890<br>term=%{text}<br>frequency=%{y}",
           "hovertext": [
            "railroad",
            "rate",
            "property",
            "road",
            "public",
            "power",
            "tax"
           ],
           "ids": [
            "railroad",
            "rate",
            "property",
            "road",
            "public",
            "power",
            "tax"
           ],
           "legendgroup": "topic=1",
           "marker": {
            "color": "#EF553B",
            "opacity": 0.5
           },
           "name": "topic=1",
           "offsetgroup": "topic=1",
           "orientation": "v",
           "showlegend": true,
           "text": [
            "railroad",
            "rate",
            "property",
            "road",
            "public",
            "power",
            "tax"
           ],
           "textposition": "auto",
           "type": "bar",
           "x": [
            "railroad",
            "rate",
            "property",
            "road",
            "public",
            "power",
            "tax"
           ],
           "xaxis": "x",
           "y": [
            133114,
            134214,
            127094,
            144363,
            130170,
            120990,
            158087
           ],
           "yaxis": "y"
          },
          {
           "alignmentgroup": "True",
           "hoverlabel": {
            "namelength": 0
           },
           "hovertemplate": "<b>%{hovertext}</b><br><br>topic=2<br>year_1=1890<br>term=%{text}<br>frequency=%{y}",
           "hovertext": [
            "jury",
            "verdict",
            "trial",
            "tennessee",
            "train",
            "fact",
            "new trial",
            "motion",
            "grant new"
           ],
           "ids": [
            "jury",
            "verdict",
            "trial",
            "tennessee",
            "train",
            "fact",
            "new trial",
            "motion",
            "grant new"
           ],
           "legendgroup": "topic=2",
           "marker": {
            "color": "#00cc96",
            "opacity": 0.5
           },
           "name": "topic=2",
           "offsetgroup": "topic=2",
           "orientation": "v",
           "showlegend": true,
           "text": [
            "jury",
            "verdict",
            "trial",
            "tennessee",
            "train",
            "fact",
            "new trial",
            "motion",
            "grant new"
           ],
           "textposition": "auto",
           "type": "bar",
           "x": [
            "jury",
            "verdict",
            "trial",
            "tennessee",
            "train",
            "fact",
            "new trial",
            "motion",
            "grant new"
           ],
           "xaxis": "x",
           "y": [
            89505,
            170504,
            165412,
            159987,
            164485,
            65383,
            107047,
            104261,
            73814
           ],
           "yaxis": "y"
          },
          {
           "alignmentgroup": "True",
           "hoverlabel": {
            "namelength": 0
           },
           "hovertemplate": "<b>%{hovertext}</b><br><br>topic=3<br>year_1=1890<br>term=%{text}<br>frequency=%{y}",
           "hovertext": [
            "power",
            "liquor",
            "person",
            "race"
           ],
           "ids": [
            "power",
            "liquor",
            "person",
            "race"
           ],
           "legendgroup": "topic=3",
           "marker": {
            "color": "#ab63fa",
            "opacity": 0.5
           },
           "name": "topic=3",
           "offsetgroup": "topic=3",
           "orientation": "v",
           "showlegend": true,
           "text": [
            "power",
            "liquor",
            "person",
            "race"
           ],
           "textposition": "auto",
           "type": "bar",
           "x": [
            "power",
            "liquor",
            "person",
            "race"
           ],
           "xaxis": "x",
           "y": [
            120990,
            96602,
            117779,
            132888
           ],
           "yaxis": "y"
          },
          {
           "alignmentgroup": "True",
           "hoverlabel": {
            "namelength": 0
           },
           "hovertemplate": "<b>%{hovertext}</b><br><br>topic=4<br>year_1=1890<br>term=%{text}<br>frequency=%{y}",
           "hovertext": [
            "tax",
            "taxation",
            "property",
            "value",
            "share",
            "national bank",
            "stock",
            "national"
           ],
           "ids": [
            "tax",
            "taxation",
            "property",
            "value",
            "share",
            "national bank",
            "stock",
            "national"
           ],
           "legendgroup": "topic=4",
           "marker": {
            "color": "#FFA15A",
            "opacity": 0.5
           },
           "name": "topic=4",
           "offsetgroup": "topic=4",
           "orientation": "v",
           "showlegend": true,
           "text": [
            "tax",
            "taxation",
            "property",
            "value",
            "share",
            "national bank",
            "stock",
            "national"
           ],
           "textposition": "auto",
           "type": "bar",
           "x": [
            "tax",
            "taxation",
            "property",
            "value",
            "share",
            "national bank",
            "stock",
            "national"
           ],
           "xaxis": "x",
           "y": [
            158087,
            158911,
            127094,
            169986,
            149123,
            105004,
            153473,
            104998
           ],
           "yaxis": "y"
          },
          {
           "alignmentgroup": "True",
           "hoverlabel": {
            "namelength": 0
           },
           "hovertemplate": "<b>%{hovertext}</b><br><br>topic=5<br>year_1=1890<br>term=%{text}<br>frequency=%{y}",
           "hovertext": [
            "writ",
            "trial",
            "jury",
            "question",
            "judge",
            "offence",
            "jurisdiction"
           ],
           "ids": [
            "writ",
            "trial",
            "jury",
            "question",
            "judge",
            "offence",
            "jurisdiction"
           ],
           "legendgroup": "topic=5",
           "marker": {
            "color": "#19d3f3",
            "opacity": 0.5
           },
           "name": "topic=5",
           "offsetgroup": "topic=5",
           "orientation": "v",
           "showlegend": true,
           "text": [
            "writ",
            "trial",
            "jury",
            "question",
            "judge",
            "offence",
            "jurisdiction"
           ],
           "textposition": "auto",
           "type": "bar",
           "x": [
            "writ",
            "trial",
            "jury",
            "question",
            "judge",
            "offence",
            "jurisdiction"
           ],
           "xaxis": "x",
           "y": [
            175716,
            165412,
            89505,
            131944,
            88227,
            109662,
            88936
           ],
           "yaxis": "y"
          }
         ],
         "name": "1890"
        },
        {
         "data": [
          {
           "alignmentgroup": "True",
           "hoverlabel": {
            "namelength": 0
           },
           "hovertemplate": "<b>%{hovertext}</b><br><br>topic=0<br>year_1=1900<br>term=%{text}<br>frequency=%{y}",
           "hovertext": [
            "depot",
            "village",
            "station",
            "emmons",
            "passenger",
            "railroad",
            "fare",
            "railway",
            "road",
            "depot station"
           ],
           "ids": [
            "depot",
            "village",
            "station",
            "emmons",
            "passenger",
            "railroad",
            "fare",
            "railway",
            "road",
            "depot station"
           ],
           "legendgroup": "topic=0",
           "marker": {
            "color": "#636efa",
            "opacity": 0.5
           },
           "name": "topic=0",
           "offsetgroup": "topic=0",
           "orientation": "v",
           "showlegend": true,
           "text": [
            "depot",
            "village",
            "station",
            "emmons",
            "passenger",
            "railroad",
            "fare",
            "railway",
            "road",
            "depot station"
           ],
           "textposition": "auto",
           "type": "bar",
           "x": [
            "depot",
            "village",
            "station",
            "emmons",
            "passenger",
            "railroad",
            "fare",
            "railway",
            "road",
            "depot station"
           ],
           "xaxis": "x",
           "y": [
            70756,
            245996,
            220036,
            82479,
            166728,
            191096,
            95518,
            191717,
            207027,
            70777
           ],
           "yaxis": "y"
          },
          {
           "alignmentgroup": "True",
           "hoverlabel": {
            "namelength": 0
           },
           "hovertemplate": "<b>%{hovertext}</b><br><br>topic=1<br>year_1=1900<br>term=%{text}<br>frequency=%{y}",
           "hovertext": [
            "improvement",
            "pave",
            "street",
            "property",
            "land",
            "owner"
           ],
           "ids": [
            "improvement",
            "pave",
            "street",
            "property",
            "land",
            "owner"
           ],
           "legendgroup": "topic=1",
           "marker": {
            "color": "#EF553B",
            "opacity": 0.5
           },
           "name": "topic=1",
           "offsetgroup": "topic=1",
           "orientation": "v",
           "showlegend": true,
           "text": [
            "improvement",
            "pave",
            "street",
            "property",
            "land",
            "owner"
           ],
           "textposition": "auto",
           "type": "bar",
           "x": [
            "improvement",
            "pave",
            "street",
            "property",
            "land",
            "owner"
           ],
           "xaxis": "x",
           "y": [
            116548,
            167156,
            221506,
            183387,
            132304,
            163374
           ],
           "yaxis": "y"
          },
          {
           "alignmentgroup": "True",
           "hoverlabel": {
            "namelength": 0
           },
           "hovertemplate": "<b>%{hovertext}</b><br><br>topic=2<br>year_1=1900<br>term=%{text}<br>frequency=%{y}",
           "hovertext": [
            "power",
            "water",
            "railroad",
            "public"
           ],
           "ids": [
            "power",
            "water",
            "railroad",
            "public"
           ],
           "legendgroup": "topic=2",
           "marker": {
            "color": "#00cc96",
            "opacity": 0.5
           },
           "name": "topic=2",
           "offsetgroup": "topic=2",
           "orientation": "v",
           "showlegend": true,
           "text": [
            "power",
            "water",
            "railroad",
            "public"
           ],
           "textposition": "auto",
           "type": "bar",
           "x": [
            "power",
            "water",
            "railroad",
            "public"
           ],
           "xaxis": "x",
           "y": [
            174652,
            248525,
            191096,
            187309
           ],
           "yaxis": "y"
          },
          {
           "alignmentgroup": "True",
           "hoverlabel": {
            "namelength": 0
           },
           "hovertemplate": "<b>%{hovertext}</b><br><br>topic=3<br>year_1=1900<br>term=%{text}<br>frequency=%{y}",
           "hovertext": [
            "tax",
            "property",
            "taxation",
            "stock",
            "value",
            "land",
            "sale",
            "estate"
           ],
           "ids": [
            "tax",
            "property",
            "taxation",
            "stock",
            "value",
            "land",
            "sale",
            "estate"
           ],
           "legendgroup": "topic=3",
           "marker": {
            "color": "#ab63fa",
            "opacity": 0.5
           },
           "name": "topic=3",
           "offsetgroup": "topic=3",
           "orientation": "v",
           "showlegend": true,
           "text": [
            "tax",
            "property",
            "taxation",
            "stock",
            "value",
            "land",
            "sale",
            "estate"
           ],
           "textposition": "auto",
           "type": "bar",
           "x": [
            "tax",
            "property",
            "taxation",
            "stock",
            "value",
            "land",
            "sale",
            "estate"
           ],
           "xaxis": "x",
           "y": [
            227479,
            183387,
            228317,
            220689,
            244243,
            132304,
            208467,
            87546
           ],
           "yaxis": "y"
          },
          {
           "alignmentgroup": "True",
           "hoverlabel": {
            "namelength": 0
           },
           "hovertemplate": "<b>%{hovertext}</b><br><br>topic=4<br>year_1=1900<br>term=%{text}<br>frequency=%{y}",
           "hovertext": [
            "insurance",
            "policy",
            "life",
            "missouri",
            "life insurance",
            "insured"
           ],
           "ids": [
            "insurance",
            "policy",
            "life",
            "missouri",
            "life insurance",
            "insured"
           ],
           "legendgroup": "topic=4",
           "marker": {
            "color": "#FFA15A",
            "opacity": 0.5
           },
           "name": "topic=4",
           "offsetgroup": "topic=4",
           "orientation": "v",
           "showlegend": true,
           "text": [
            "insurance",
            "policy",
            "life",
            "missouri",
            "life insurance",
            "insured"
           ],
           "textposition": "auto",
           "type": "bar",
           "x": [
            "insurance",
            "policy",
            "life",
            "missouri",
            "life insurance",
            "insured"
           ],
           "xaxis": "x",
           "y": [
            122522,
            172973,
            137387,
            148901,
            137446,
            122737
           ],
           "yaxis": "y"
          },
          {
           "alignmentgroup": "True",
           "hoverlabel": {
            "namelength": 0
           },
           "hovertemplate": "<b>%{hovertext}</b><br><br>topic=5<br>year_1=1900<br>term=%{text}<br>frequency=%{y}",
           "hovertext": [
            "trial",
            "jury",
            "defendant",
            "jurisdiction",
            "person",
            "motion"
           ],
           "ids": [
            "trial",
            "jury",
            "defendant",
            "jurisdiction",
            "person",
            "motion"
           ],
           "legendgroup": "topic=5",
           "marker": {
            "color": "#19d3f3",
            "opacity": 0.5
           },
           "name": "topic=5",
           "offsetgroup": "topic=5",
           "orientation": "v",
           "showlegend": true,
           "text": [
            "trial",
            "jury",
            "defendant",
            "jurisdiction",
            "person",
            "motion"
           ],
           "textposition": "auto",
           "type": "bar",
           "x": [
            "trial",
            "jury",
            "defendant",
            "jurisdiction",
            "person",
            "motion"
           ],
           "xaxis": "x",
           "y": [
            237278,
            129234,
            67412,
            128397,
            169842,
            150449
           ],
           "yaxis": "y"
          }
         ],
         "name": "1900"
        },
        {
         "data": [
          {
           "alignmentgroup": "True",
           "hoverlabel": {
            "namelength": 0
           },
           "hovertemplate": "<b>%{hovertext}</b><br><br>topic=0<br>year_1=1910<br>term=%{text}<br>frequency=%{y}",
           "hovertext": [
            "tax",
            "property",
            "insurance",
            "kentucky",
            "taxation",
            "question",
            "policy"
           ],
           "ids": [
            "tax",
            "property",
            "insurance",
            "kentucky",
            "taxation",
            "question",
            "policy"
           ],
           "legendgroup": "topic=0",
           "marker": {
            "color": "#636efa",
            "opacity": 0.5
           },
           "name": "topic=0",
           "offsetgroup": "topic=0",
           "orientation": "v",
           "showlegend": true,
           "text": [
            "tax",
            "property",
            "insurance",
            "kentucky",
            "taxation",
            "question",
            "policy"
           ],
           "textposition": "auto",
           "type": "bar",
           "x": [
            "tax",
            "property",
            "insurance",
            "kentucky",
            "taxation",
            "question",
            "policy"
           ],
           "xaxis": "x",
           "y": [
            226546,
            182034,
            120810,
            128459,
            227368,
            188223,
            171901
           ],
           "yaxis": "y"
          },
          {
           "alignmentgroup": "True",
           "hoverlabel": {
            "namelength": 0
           },
           "hovertemplate": "<b>%{hovertext}</b><br><br>topic=1<br>year_1=1910<br>term=%{text}<br>frequency=%{y}",
           "hovertext": [
            "sale",
            "liquor",
            "sell",
            "defendant",
            "power",
            "package",
            "food",
            "person",
            "dealer",
            "question"
           ],
           "ids": [
            "sale",
            "liquor",
            "sell",
            "defendant",
            "power",
            "package",
            "food",
            "person",
            "dealer",
            "question"
           ],
           "legendgroup": "topic=1",
           "marker": {
            "color": "#EF553B",
            "opacity": 0.5
           },
           "name": "topic=1",
           "offsetgroup": "topic=1",
           "orientation": "v",
           "showlegend": true,
           "text": [
            "sale",
            "liquor",
            "sell",
            "defendant",
            "power",
            "package",
            "food",
            "person",
            "dealer",
            "question"
           ],
           "textposition": "auto",
           "type": "bar",
           "x": [
            "sale",
            "liquor",
            "sell",
            "defendant",
            "power",
            "package",
            "food",
            "person",
            "dealer",
            "question"
           ],
           "xaxis": "x",
           "y": [
            207664,
            137159,
            210705,
            66902,
            173389,
            163132,
            98830,
            168734,
            63626,
            188223
           ],
           "yaxis": "y"
          },
          {
           "alignmentgroup": "True",
           "hoverlabel": {
            "namelength": 0
           },
           "hovertemplate": "<b>%{hovertext}</b><br><br>topic=2<br>year_1=1910<br>term=%{text}<br>frequency=%{y}",
           "hovertext": [
            "employer",
            "employee",
            "hour",
            "employment",
            "labor",
            "injury",
            "workman",
            "work",
            "negligence"
           ],
           "ids": [
            "employer",
            "employee",
            "hour",
            "employment",
            "labor",
            "injury",
            "workman",
            "work",
            "negligence"
           ],
           "legendgroup": "topic=2",
           "marker": {
            "color": "#00cc96",
            "opacity": 0.5
           },
           "name": "topic=2",
           "offsetgroup": "topic=2",
           "orientation": "v",
           "showlegend": true,
           "text": [
            "employer",
            "employee",
            "hour",
            "employment",
            "labor",
            "injury",
            "workman",
            "work",
            "negligence"
           ],
           "textposition": "auto",
           "type": "bar",
           "x": [
            "employer",
            "employee",
            "hour",
            "employment",
            "labor",
            "injury",
            "workman",
            "work",
            "negligence"
           ],
           "xaxis": "x",
           "y": [
            82327,
            82147,
            111986,
            82745,
            129976,
            119158,
            250375,
            249959,
            152029
           ],
           "yaxis": "y"
          },
          {
           "alignmentgroup": "True",
           "hoverlabel": {
            "namelength": 0
           },
           "hovertemplate": "<b>%{hovertext}</b><br><br>topic=3<br>year_1=1910<br>term=%{text}<br>frequency=%{y}",
           "hovertext": [
            "land",
            "water",
            "river",
            "irrigation",
            "public",
            "owner",
            "question"
           ],
           "ids": [
            "land",
            "water",
            "river",
            "irrigation",
            "public",
            "owner",
            "question"
           ],
           "legendgroup": "topic=3",
           "marker": {
            "color": "#ab63fa",
            "opacity": 0.5
           },
           "name": "topic=3",
           "offsetgroup": "topic=3",
           "orientation": "v",
           "showlegend": true,
           "text": [
            "land",
            "water",
            "river",
            "irrigation",
            "public",
            "owner",
            "question"
           ],
           "textposition": "auto",
           "type": "bar",
           "x": [
            "land",
            "water",
            "river",
            "irrigation",
            "public",
            "owner",
            "question"
           ],
           "xaxis": "x",
           "y": [
            130494,
            246470,
            205536,
            124097,
            185721,
            162500,
            188223
           ],
           "yaxis": "y"
          },
          {
           "alignmentgroup": "True",
           "hoverlabel": {
            "namelength": 0
           },
           "hovertemplate": "<b>%{hovertext}</b><br><br>topic=4<br>year_1=1910<br>term=%{text}<br>frequency=%{y}",
           "hovertext": [
            "railroad",
            "rate",
            "order",
            "railway",
            "passenger",
            "line",
            "train"
           ],
           "ids": [
            "railroad",
            "rate",
            "order",
            "railway",
            "passenger",
            "line",
            "train"
           ],
           "legendgroup": "topic=4",
           "marker": {
            "color": "#FFA15A",
            "opacity": 0.5
           },
           "name": "topic=4",
           "offsetgroup": "topic=4",
           "orientation": "v",
           "showlegend": true,
           "text": [
            "railroad",
            "rate",
            "order",
            "railway",
            "passenger",
            "line",
            "train"
           ],
           "textposition": "auto",
           "type": "bar",
           "x": [
            "railroad",
            "rate",
            "order",
            "railway",
            "passenger",
            "line",
            "train"
           ],
           "xaxis": "x",
           "y": [
            189513,
            191102,
            159591,
            190218,
            165493,
            136699,
            234344
           ],
           "yaxis": "y"
          },
          {
           "alignmentgroup": "True",
           "hoverlabel": {
            "namelength": 0
           },
           "hovertemplate": "<b>%{hovertext}</b><br><br>topic=5<br>year_1=1910<br>term=%{text}<br>frequency=%{y}",
           "hovertext": [
            "ordinance",
            "street",
            "power",
            "water",
            "property",
            "railway",
            "grant",
            "franchise",
            "public"
           ],
           "ids": [
            "ordinance",
            "street",
            "power",
            "water",
            "property",
            "railway",
            "grant",
            "franchise",
            "public"
           ],
           "legendgroup": "topic=5",
           "marker": {
            "color": "#19d3f3",
            "opacity": 0.5
           },
           "name": "topic=5",
           "offsetgroup": "topic=5",
           "orientation": "v",
           "showlegend": true,
           "text": [
            "ordinance",
            "street",
            "power",
            "water",
            "property",
            "railway",
            "grant",
            "franchise",
            "public"
           ],
           "textposition": "auto",
           "type": "bar",
           "x": [
            "ordinance",
            "street",
            "power",
            "water",
            "property",
            "railway",
            "grant",
            "franchise",
            "public"
           ],
           "xaxis": "x",
           "y": [
            160260,
            220242,
            173389,
            246470,
            182034,
            190218,
            105428,
            100708,
            185721
           ],
           "yaxis": "y"
          }
         ],
         "name": "1910"
        },
        {
         "data": [
          {
           "alignmentgroup": "True",
           "hoverlabel": {
            "namelength": 0
           },
           "hovertemplate": "<b>%{hovertext}</b><br><br>topic=0<br>year_1=1920<br>term=%{text}<br>frequency=%{y}",
           "hovertext": [
            "rate",
            "order",
            "water",
            "public",
            "service",
            "ordinance",
            "street"
           ],
           "ids": [
            "rate",
            "order",
            "water",
            "public",
            "service",
            "ordinance",
            "street"
           ],
           "legendgroup": "topic=0",
           "marker": {
            "color": "#636efa",
            "opacity": 0.5
           },
           "name": "topic=0",
           "offsetgroup": "topic=0",
           "orientation": "v",
           "showlegend": true,
           "text": [
            "rate",
            "order",
            "water",
            "public",
            "service",
            "ordinance",
            "street"
           ],
           "textposition": "auto",
           "type": "bar",
           "x": [
            "rate",
            "order",
            "water",
            "public",
            "service",
            "ordinance",
            "street"
           ],
           "xaxis": "x",
           "y": [
            172836,
            145210,
            223064,
            168424,
            191747,
            145816,
            199442
           ],
           "yaxis": "y"
          },
          {
           "alignmentgroup": "True",
           "hoverlabel": {
            "namelength": 0
           },
           "hovertemplate": "<b>%{hovertext}</b><br><br>topic=1<br>year_1=1920<br>term=%{text}<br>frequency=%{y}",
           "hovertext": [
            "trust",
            "tax",
            "trustee",
            "transfer",
            "property",
            "gift",
            "estate"
           ],
           "ids": [
            "trust",
            "tax",
            "trustee",
            "transfer",
            "property",
            "gift",
            "estate"
           ],
           "legendgroup": "topic=1",
           "marker": {
            "color": "#EF553B",
            "opacity": 0.5
           },
           "name": "topic=1",
           "offsetgroup": "topic=1",
           "orientation": "v",
           "showlegend": true,
           "text": [
            "trust",
            "tax",
            "trustee",
            "transfer",
            "property",
            "gift",
            "estate"
           ],
           "textposition": "auto",
           "type": "bar",
           "x": [
            "trust",
            "tax",
            "trustee",
            "transfer",
            "property",
            "gift",
            "estate"
           ],
           "xaxis": "x",
           "y": [
            213727,
            204902,
            213935,
            212145,
            165047,
            94920,
            79288
           ],
           "yaxis": "y"
          },
          {
           "alignmentgroup": "True",
           "hoverlabel": {
            "namelength": 0
           },
           "hovertemplate": "<b>%{hovertext}</b><br><br>topic=2<br>year_1=1920<br>term=%{text}<br>frequency=%{y}",
           "hovertext": [
            "syndicalism",
            "language",
            "teach",
            "taught",
            "school",
            "sabotage",
            "organization"
           ],
           "ids": [
            "syndicalism",
            "language",
            "teach",
            "taught",
            "school",
            "sabotage",
            "organization"
           ],
           "legendgroup": "topic=2",
           "marker": {
            "color": "#00cc96",
            "opacity": 0.5
           },
           "name": "topic=2",
           "offsetgroup": "topic=2",
           "orientation": "v",
           "showlegend": true,
           "text": [
            "syndicalism",
            "language",
            "teach",
            "taught",
            "school",
            "sabotage",
            "organization"
           ],
           "textposition": "auto",
           "type": "bar",
           "x": [
            "syndicalism",
            "language",
            "teach",
            "taught",
            "school",
            "sabotage",
            "organization"
           ],
           "xaxis": "x",
           "y": [
            204456,
            119399,
            206515,
            204865,
            188670,
            187230,
            146475
           ],
           "yaxis": "y"
          },
          {
           "alignmentgroup": "True",
           "hoverlabel": {
            "namelength": 0
           },
           "hovertemplate": "<b>%{hovertext}</b><br><br>topic=3<br>year_1=1920<br>term=%{text}<br>frequency=%{y}",
           "hovertext": [
            "public",
            "power",
            "employee",
            "question",
            "use",
            "land",
            "property"
           ],
           "ids": [
            "public",
            "power",
            "employee",
            "question",
            "use",
            "land",
            "property"
           ],
           "legendgroup": "topic=3",
           "marker": {
            "color": "#ab63fa",
            "opacity": 0.5
           },
           "name": "topic=3",
           "offsetgroup": "topic=3",
           "orientation": "v",
           "showlegend": true,
           "text": [
            "public",
            "power",
            "employee",
            "question",
            "use",
            "land",
            "property"
           ],
           "textposition": "auto",
           "type": "bar",
           "x": [
            "public",
            "power",
            "employee",
            "question",
            "use",
            "land",
            "property"
           ],
           "xaxis": "x",
           "y": [
            168424,
            157041,
            74151,
            170672,
            217239,
            118857,
            165047
           ],
           "yaxis": "y"
          },
          {
           "alignmentgroup": "True",
           "hoverlabel": {
            "namelength": 0
           },
           "hovertemplate": "<b>%{hovertext}</b><br><br>topic=4<br>year_1=1920<br>term=%{text}<br>frequency=%{y}",
           "hovertext": [
            "tax",
            "property",
            "income",
            "value",
            "stock",
            "taxation",
            "interstate"
           ],
           "ids": [
            "tax",
            "property",
            "income",
            "value",
            "stock",
            "taxation",
            "interstate"
           ],
           "legendgroup": "topic=4",
           "marker": {
            "color": "#FFA15A",
            "opacity": 0.5
           },
           "name": "topic=4",
           "offsetgroup": "topic=4",
           "orientation": "v",
           "showlegend": true,
           "text": [
            "tax",
            "property",
            "income",
            "value",
            "stock",
            "taxation",
            "interstate"
           ],
           "textposition": "auto",
           "type": "bar",
           "x": [
            "tax",
            "property",
            "income",
            "value",
            "stock",
            "taxation",
            "interstate"
           ],
           "xaxis": "x",
           "y": [
            204902,
            165047,
            106261,
            219080,
            198753,
            205882,
            111700
           ],
           "yaxis": "y"
          },
          {
           "alignmentgroup": "True",
           "hoverlabel": {
            "namelength": 0
           },
           "hovertemplate": "<b>%{hovertext}</b><br><br>topic=5<br>year_1=1920<br>term=%{text}<br>frequency=%{y}",
           "hovertext": [
            "improvement",
            "tax",
            "land",
            "drainage",
            "property"
           ],
           "ids": [
            "improvement",
            "tax",
            "land",
            "drainage",
            "property"
           ],
           "legendgroup": "topic=5",
           "marker": {
            "color": "#19d3f3",
            "opacity": 0.5
           },
           "name": "topic=5",
           "offsetgroup": "topic=5",
           "orientation": "v",
           "showlegend": true,
           "text": [
            "improvement",
            "tax",
            "land",
            "drainage",
            "property"
           ],
           "textposition": "auto",
           "type": "bar",
           "x": [
            "improvement",
            "tax",
            "land",
            "drainage",
            "property"
           ],
           "xaxis": "x",
           "y": [
            105221,
            204902,
            118857,
            70483,
            165047
           ],
           "yaxis": "y"
          }
         ],
         "name": "1920"
        },
        {
         "data": [
          {
           "alignmentgroup": "True",
           "hoverlabel": {
            "namelength": 0
           },
           "hovertemplate": "<b>%{hovertext}</b><br><br>topic=0<br>year_1=1930<br>term=%{text}<br>frequency=%{y}",
           "hovertext": [
            "highway",
            "vehicle",
            "motor",
            "transportation",
            "private carrier",
            "public",
            "motor vehicle"
           ],
           "ids": [
            "highway",
            "vehicle",
            "motor",
            "transportation",
            "private carrier",
            "public",
            "motor vehicle"
           ],
           "legendgroup": "topic=0",
           "marker": {
            "color": "#636efa",
            "opacity": 0.5
           },
           "name": "topic=0",
           "offsetgroup": "topic=0",
           "orientation": "v",
           "showlegend": true,
           "text": [
            "highway",
            "vehicle",
            "motor",
            "transportation",
            "private carrier",
            "public",
            "motor vehicle"
           ],
           "textposition": "auto",
           "type": "bar",
           "x": [
            "highway",
            "vehicle",
            "motor",
            "transportation",
            "private carrier",
            "public",
            "motor vehicle"
           ],
           "xaxis": "x",
           "y": [
            132409,
            287621,
            177308,
            277248,
            211155,
            219612,
            177342
           ],
           "yaxis": "y"
          },
          {
           "alignmentgroup": "True",
           "hoverlabel": {
            "namelength": 0
           },
           "hovertemplate": "<b>%{hovertext}</b><br><br>topic=1<br>year_1=1930<br>term=%{text}<br>frequency=%{y}",
           "hovertext": [
            "tax",
            "property",
            "trust",
            "income",
            "taxation",
            "death",
            "estate",
            "situs",
            "intangible",
            "decedent"
           ],
           "ids": [
            "tax",
            "property",
            "trust",
            "income",
            "taxation",
            "death",
            "estate",
            "situs",
            "intangible",
            "decedent"
           ],
           "legendgroup": "topic=1",
           "marker": {
            "color": "#EF553B",
            "opacity": 0.5
           },
           "name": "topic=1",
           "offsetgroup": "topic=1",
           "orientation": "v",
           "showlegend": true,
           "text": [
            "tax",
            "property",
            "trust",
            "income",
            "taxation",
            "death",
            "estate",
            "situs",
            "intangible",
            "decedent"
           ],
           "textposition": "auto",
           "type": "bar",
           "x": [
            "tax",
            "property",
            "trust",
            "income",
            "taxation",
            "death",
            "estate",
            "situs",
            "intangible",
            "decedent"
           ],
           "xaxis": "x",
           "y": [
            267406,
            215727,
            278982,
            139281,
            268710,
            76227,
            103608,
            253705,
            145450,
            76848
           ],
           "yaxis": "y"
          },
          {
           "alignmentgroup": "True",
           "hoverlabel": {
            "namelength": 0
           },
           "hovertemplate": "<b>%{hovertext}</b><br><br>topic=2<br>year_1=1930<br>term=%{text}<br>frequency=%{y}",
           "hovertext": [
            "milk",
            "power",
            "contract",
            "question",
            "order",
            "new",
            "defendant",
            "provision",
            "public"
           ],
           "ids": [
            "milk",
            "power",
            "contract",
            "question",
            "order",
            "new",
            "defendant",
            "provision",
            "public"
           ],
           "legendgroup": "topic=2",
           "marker": {
            "color": "#00cc96",
            "opacity": 0.5
           },
           "name": "topic=2",
           "offsetgroup": "topic=2",
           "orientation": "v",
           "showlegend": true,
           "text": [
            "milk",
            "power",
            "contract",
            "question",
            "order",
            "new",
            "defendant",
            "provision",
            "public"
           ],
           "textposition": "auto",
           "type": "bar",
           "x": [
            "milk",
            "power",
            "contract",
            "question",
            "order",
            "new",
            "defendant",
            "provision",
            "public"
           ],
           "xaxis": "x",
           "y": [
            173852,
            204669,
            66160,
            222393,
            189161,
            180593,
            79635,
            218818,
            219612
           ],
           "yaxis": "y"
          },
          {
           "alignmentgroup": "True",
           "hoverlabel": {
            "namelength": 0
           },
           "hovertemplate": "<b>%{hovertext}</b><br><br>topic=3<br>year_1=1930<br>term=%{text}<br>frequency=%{y}",
           "hovertext": [
            "tax",
            "ordinance",
            "street",
            "corporation",
            "store",
            "property",
            "franchise",
            "public"
           ],
           "ids": [
            "tax",
            "ordinance",
            "street",
            "corporation",
            "store",
            "property",
            "franchise",
            "public"
           ],
           "legendgroup": "topic=3",
           "marker": {
            "color": "#ab63fa",
            "opacity": 0.5
           },
           "name": "topic=3",
           "offsetgroup": "topic=3",
           "orientation": "v",
           "showlegend": true,
           "text": [
            "tax",
            "ordinance",
            "street",
            "corporation",
            "store",
            "property",
            "franchise",
            "public"
           ],
           "textposition": "auto",
           "type": "bar",
           "x": [
            "tax",
            "ordinance",
            "street",
            "corporation",
            "store",
            "property",
            "franchise",
            "public"
           ],
           "xaxis": "x",
           "y": [
            267406,
            190029,
            260546,
            69117,
            260033,
            215727,
            119882,
            219612
           ],
           "yaxis": "y"
          },
          {
           "alignmentgroup": "True",
           "hoverlabel": {
            "namelength": 0
           },
           "hovertemplate": "<b>%{hovertext}</b><br><br>topic=4<br>year_1=1930<br>term=%{text}<br>frequency=%{y}",
           "hovertext": [
            "tax",
            "interstate",
            "gasoline",
            "use",
            "highway",
            "oil",
            "sale",
            "vehicle"
           ],
           "ids": [
            "tax",
            "interstate",
            "gasoline",
            "use",
            "highway",
            "oil",
            "sale",
            "vehicle"
           ],
           "legendgroup": "topic=4",
           "marker": {
            "color": "#FFA15A",
            "opacity": 0.5
           },
           "name": "topic=4",
           "offsetgroup": "topic=4",
           "orientation": "v",
           "showlegend": true,
           "text": [
            "tax",
            "interstate",
            "gasoline",
            "use",
            "highway",
            "oil",
            "sale",
            "vehicle"
           ],
           "textposition": "auto",
           "type": "bar",
           "x": [
            "tax",
            "interstate",
            "gasoline",
            "use",
            "highway",
            "oil",
            "sale",
            "vehicle"
           ],
           "xaxis": "x",
           "y": [
            267406,
            146689,
            122876,
            284316,
            132409,
            186745,
            244307,
            287621
           ],
           "yaxis": "y"
          },
          {
           "alignmentgroup": "True",
           "hoverlabel": {
            "namelength": 0
           },
           "hovertemplate": "<b>%{hovertext}</b><br><br>topic=5<br>year_1=1930<br>term=%{text}<br>frequency=%{y}",
           "hovertext": [
            "rate",
            "gas",
            "order",
            "value",
            "service",
            "cost",
            "utility",
            "depreciation"
           ],
           "ids": [
            "rate",
            "gas",
            "order",
            "value",
            "service",
            "cost",
            "utility",
            "depreciation"
           ],
           "legendgroup": "topic=5",
           "marker": {
            "color": "#19d3f3",
            "opacity": 0.5
           },
           "name": "topic=5",
           "offsetgroup": "topic=5",
           "orientation": "v",
           "showlegend": true,
           "text": [
            "rate",
            "gas",
            "order",
            "value",
            "service",
            "cost",
            "utility",
            "depreciation"
           ],
           "textposition": "auto",
           "type": "bar",
           "x": [
            "rate",
            "gas",
            "order",
            "value",
            "service",
            "cost",
            "utility",
            "depreciation"
           ],
           "xaxis": "x",
           "y": [
            224726,
            122522,
            189161,
            286506,
            250023,
            70129,
            285322,
            83314
           ],
           "yaxis": "y"
          }
         ],
         "name": "1930"
        },
        {
         "data": [
          {
           "alignmentgroup": "True",
           "hoverlabel": {
            "namelength": 0
           },
           "hovertemplate": "<b>%{hovertext}</b><br><br>topic=0<br>year_1=1940<br>term=%{text}<br>frequency=%{y}",
           "hovertext": [
            "confession",
            "officer",
            "trial",
            "police",
            "evidence",
            "mcnabb",
            "jury",
            "testimony",
            "jail"
           ],
           "ids": [
            "confession",
            "officer",
            "trial",
            "police",
            "evidence",
            "mcnabb",
            "jury",
            "testimony",
            "jail"
           ],
           "legendgroup": "topic=0",
           "marker": {
            "color": "#636efa",
            "opacity": 0.5
           },
           "name": "topic=0",
           "offsetgroup": "topic=0",
           "orientation": "v",
           "showlegend": true,
           "text": [
            "confession",
            "officer",
            "trial",
            "police",
            "evidence",
            "mcnabb",
            "jury",
            "testimony",
            "jail"
           ],
           "textposition": "auto",
           "type": "bar",
           "x": [
            "confession",
            "officer",
            "trial",
            "police",
            "evidence",
            "mcnabb",
            "jury",
            "testimony",
            "jail"
           ],
           "xaxis": "x",
           "y": [
            69537,
            227106,
            338152,
            246961,
            124377,
            206970,
            185541,
            329777,
            181491
           ],
           "yaxis": "y"
          },
          {
           "alignmentgroup": "True",
           "hoverlabel": {
            "namelength": 0
           },
           "hovertemplate": "<b>%{hovertext}</b><br><br>topic=1<br>year_1=1940<br>term=%{text}<br>frequency=%{y}",
           "hovertext": [
            "gas",
            "rate",
            "order",
            "oil",
            "employer",
            "land",
            "oklahoma",
            "property"
           ],
           "ids": [
            "gas",
            "rate",
            "order",
            "oil",
            "employer",
            "land",
            "oklahoma",
            "property"
           ],
           "legendgroup": "topic=1",
           "marker": {
            "color": "#EF553B",
            "opacity": 0.5
           },
           "name": "topic=1",
           "offsetgroup": "topic=1",
           "orientation": "v",
           "showlegend": true,
           "text": [
            "gas",
            "rate",
            "order",
            "oil",
            "employer",
            "land",
            "oklahoma",
            "property"
           ],
           "textposition": "auto",
           "type": "bar",
           "x": [
            "gas",
            "rate",
            "order",
            "oil",
            "employer",
            "land",
            "oklahoma",
            "property"
           ],
           "xaxis": "x",
           "y": [
            146161,
            273602,
            230664,
            228235,
            117479,
            189862,
            228410,
            263246
           ],
           "yaxis": "y"
          },
          {
           "alignmentgroup": "True",
           "hoverlabel": {
            "namelength": 0
           },
           "hovertemplate": "<b>%{hovertext}</b><br><br>topic=2<br>year_1=1940<br>term=%{text}<br>frequency=%{y}",
           "hovertext": [
            "jury",
            "religious",
            "public",
            "power",
            "picket",
            "union",
            "freedom",
            "speech",
            "ordinance",
            "order"
           ],
           "ids": [
            "jury",
            "religious",
            "public",
            "power",
            "picket",
            "union",
            "freedom",
            "speech",
            "ordinance",
            "order"
           ],
           "legendgroup": "topic=2",
           "marker": {
            "color": "#00cc96",
            "opacity": 0.5
           },
           "name": "topic=2",
           "offsetgroup": "topic=2",
           "orientation": "v",
           "showlegend": true,
           "text": [
            "jury",
            "religious",
            "public",
            "power",
            "picket",
            "union",
            "freedom",
            "speech",
            "ordinance",
            "order"
           ],
           "textposition": "auto",
           "type": "bar",
           "x": [
            "jury",
            "religious",
            "public",
            "power",
            "picket",
            "union",
            "freedom",
            "speech",
            "ordinance",
            "order"
           ],
           "xaxis": "x",
           "y": [
            185541,
            283968,
            267771,
            249611,
            244220,
            343781,
            143704,
            312670,
            231606,
            230664
           ],
           "yaxis": "y"
          },
          {
           "alignmentgroup": "True",
           "hoverlabel": {
            "namelength": 0
           },
           "hovertemplate": "<b>%{hovertext}</b><br><br>topic=3<br>year_1=1940<br>term=%{text}<br>frequency=%{y}",
           "hovertext": [
            "tax",
            "property",
            "estate",
            "corporation",
            "taxation",
            "wisconsin",
            "income",
            "trust",
            "trustee",
            "sale"
           ],
           "ids": [
            "tax",
            "property",
            "estate",
            "corporation",
            "taxation",
            "wisconsin",
            "income",
            "trust",
            "trustee",
            "sale"
           ],
           "legendgroup": "topic=3",
           "marker": {
            "color": "#ab63fa",
            "opacity": 0.5
           },
           "name": "topic=3",
           "offsetgroup": "topic=3",
           "orientation": "v",
           "showlegend": true,
           "text": [
            "tax",
            "property",
            "estate",
            "corporation",
            "taxation",
            "wisconsin",
            "income",
            "trust",
            "trustee",
            "sale"
           ],
           "textposition": "auto",
           "type": "bar",
           "x": [
            "tax",
            "property",
            "estate",
            "corporation",
            "taxation",
            "wisconsin",
            "income",
            "trust",
            "trustee",
            "sale"
           ],
           "xaxis": "x",
           "y": [
            325712,
            263246,
            123392,
            82387,
            326757,
            358877,
            167979,
            339619,
            339919,
            297232
           ],
           "yaxis": "y"
          },
          {
           "alignmentgroup": "True",
           "hoverlabel": {
            "namelength": 0
           },
           "hovertemplate": "<b>%{hovertext}</b><br><br>topic=4<br>year_1=1940<br>term=%{text}<br>frequency=%{y}",
           "hovertext": [
            "insurance",
            "interstate",
            "license",
            "labor",
            "congress",
            "regulation",
            "power"
           ],
           "ids": [
            "insurance",
            "interstate",
            "license",
            "labor",
            "congress",
            "regulation",
            "power"
           ],
           "legendgroup": "topic=4",
           "marker": {
            "color": "#FFA15A",
            "opacity": 0.5
           },
           "name": "topic=4",
           "offsetgroup": "topic=4",
           "orientation": "v",
           "showlegend": true,
           "text": [
            "insurance",
            "interstate",
            "license",
            "labor",
            "congress",
            "regulation",
            "power"
           ],
           "textposition": "auto",
           "type": "bar",
           "x": [
            "insurance",
            "interstate",
            "license",
            "labor",
            "congress",
            "regulation",
            "power"
           ],
           "xaxis": "x",
           "y": [
            174871,
            177240,
            195599,
            189185,
            70896,
            280899,
            249611
           ],
           "yaxis": "y"
          },
          {
           "alignmentgroup": "True",
           "hoverlabel": {
            "namelength": 0
           },
           "hovertemplate": "<b>%{hovertext}</b><br><br>topic=5<br>year_1=1940<br>term=%{text}<br>frequency=%{y}",
           "hovertext": [
            "counsel",
            "habeas",
            "habeas corpus",
            "corpus",
            "illinois",
            "plea",
            "guilty",
            "trial",
            "writ",
            "plea guilty"
           ],
           "ids": [
            "counsel",
            "habeas",
            "habeas corpus",
            "corpus",
            "illinois",
            "plea",
            "guilty",
            "trial",
            "writ",
            "plea guilty"
           ],
           "legendgroup": "topic=5",
           "marker": {
            "color": "#19d3f3",
            "opacity": 0.5
           },
           "name": "topic=5",
           "offsetgroup": "topic=5",
           "orientation": "v",
           "showlegend": true,
           "text": [
            "counsel",
            "habeas",
            "habeas corpus",
            "corpus",
            "illinois",
            "plea",
            "guilty",
            "trial",
            "writ",
            "plea guilty"
           ],
           "textposition": "auto",
           "type": "bar",
           "x": [
            "counsel",
            "habeas",
            "habeas corpus",
            "corpus",
            "illinois",
            "plea",
            "guilty",
            "trial",
            "writ",
            "plea guilty"
           ],
           "xaxis": "x",
           "y": [
            83817,
            153443,
            153444,
            82824,
            163402,
            246070,
            153075,
            338152,
            361448,
            246121
           ],
           "yaxis": "y"
          }
         ],
         "name": "1940"
        },
        {
         "data": [
          {
           "alignmentgroup": "True",
           "hoverlabel": {
            "namelength": 0
           },
           "hovertemplate": "<b>%{hovertext}</b><br><br>topic=0<br>year_1=1950<br>term=%{text}<br>frequency=%{y}",
           "hovertext": [
            "trial",
            "habeas",
            "habeas corpus",
            "transcript",
            "corpus",
            "illinois",
            "writ",
            "florida"
           ],
           "ids": [
            "trial",
            "habeas",
            "habeas corpus",
            "transcript",
            "corpus",
            "illinois",
            "writ",
            "florida"
           ],
           "legendgroup": "topic=0",
           "marker": {
            "color": "#636efa",
            "opacity": 0.5
           },
           "name": "topic=0",
           "offsetgroup": "topic=0",
           "orientation": "v",
           "showlegend": true,
           "text": [
            "trial",
            "habeas",
            "habeas corpus",
            "transcript",
            "corpus",
            "illinois",
            "writ",
            "florida"
           ],
           "textposition": "auto",
           "type": "bar",
           "x": [
            "trial",
            "habeas",
            "habeas corpus",
            "transcript",
            "corpus",
            "illinois",
            "writ",
            "florida"
           ],
           "xaxis": "x",
           "y": [
            274710,
            124011,
            124014,
            273819,
            66937,
            132358,
            293606,
            112236
           ],
           "yaxis": "y"
          },
          {
           "alignmentgroup": "True",
           "hoverlabel": {
            "namelength": 0
           },
           "hovertemplate": "<b>%{hovertext}</b><br><br>topic=1<br>year_1=1950<br>term=%{text}<br>frequency=%{y}",
           "hovertext": [
            "tax",
            "interstate",
            "property",
            "interstate commerce",
            "ohio",
            "taxation"
           ],
           "ids": [
            "tax",
            "interstate",
            "property",
            "interstate commerce",
            "ohio",
            "taxation"
           ],
           "legendgroup": "topic=1",
           "marker": {
            "color": "#EF553B",
            "opacity": 0.5
           },
           "name": "topic=1",
           "offsetgroup": "topic=1",
           "orientation": "v",
           "showlegend": true,
           "text": [
            "tax",
            "interstate",
            "property",
            "interstate commerce",
            "ohio",
            "taxation"
           ],
           "textposition": "auto",
           "type": "bar",
           "x": [
            "tax",
            "interstate",
            "property",
            "interstate commerce",
            "ohio",
            "taxation"
           ],
           "xaxis": "x",
           "y": [
            265462,
            143868,
            214959,
            143879,
            185827,
            266097
           ],
           "yaxis": "y"
          },
          {
           "alignmentgroup": "True",
           "hoverlabel": {
            "namelength": 0
           },
           "hovertemplate": "<b>%{hovertext}</b><br><br>topic=2<br>year_1=1950<br>term=%{text}<br>frequency=%{y}",
           "hovertext": [
            "jury",
            "grand",
            "trial",
            "grand jury",
            "counsel",
            "negro",
            "sheriff",
            "insane",
            "judge"
           ],
           "ids": [
            "jury",
            "grand",
            "trial",
            "grand jury",
            "counsel",
            "negro",
            "sheriff",
            "insane",
            "judge"
           ],
           "legendgroup": "topic=2",
           "marker": {
            "color": "#00cc96",
            "opacity": 0.5
           },
           "name": "topic=2",
           "offsetgroup": "topic=2",
           "orientation": "v",
           "showlegend": true,
           "text": [
            "jury",
            "grand",
            "trial",
            "grand jury",
            "counsel",
            "negro",
            "sheriff",
            "insane",
            "judge"
           ],
           "textposition": "auto",
           "type": "bar",
           "x": [
            "jury",
            "grand",
            "trial",
            "grand jury",
            "counsel",
            "negro",
            "sheriff",
            "insane",
            "judge"
           ],
           "xaxis": "x",
           "y": [
            150797,
            121251,
            274710,
            121255,
            67756,
            178375,
            248824,
            140939,
            148920
           ],
           "yaxis": "y"
          },
          {
           "alignmentgroup": "True",
           "hoverlabel": {
            "namelength": 0
           },
           "hovertemplate": "<b>%{hovertext}</b><br><br>topic=3<br>year_1=1950<br>term=%{text}<br>frequency=%{y}",
           "hovertext": [
            "insurance",
            "highway",
            "motorist",
            "limited access",
            "venue",
            "resident"
           ],
           "ids": [
            "insurance",
            "highway",
            "motorist",
            "limited access",
            "venue",
            "resident"
           ],
           "legendgroup": "topic=3",
           "marker": {
            "color": "#ab63fa",
            "opacity": 0.5
           },
           "name": "topic=3",
           "offsetgroup": "topic=3",
           "orientation": "v",
           "showlegend": true,
           "text": [
            "insurance",
            "highway",
            "motorist",
            "limited access",
            "venue",
            "resident"
           ],
           "textposition": "auto",
           "type": "bar",
           "x": [
            "insurance",
            "highway",
            "motorist",
            "limited access",
            "venue",
            "resident"
           ],
           "xaxis": "x",
           "y": [
            142285,
            128494,
            174986,
            160882,
            284316,
            235479
           ],
           "yaxis": "y"
          },
          {
           "alignmentgroup": "True",
           "hoverlabel": {
            "namelength": 0
           },
           "hovertemplate": "<b>%{hovertext}</b><br><br>topic=4<br>year_1=1950<br>term=%{text}<br>frequency=%{y}",
           "hovertext": [
            "new",
            "government",
            "public",
            "school",
            "picket",
            "question",
            "person",
            "power",
            "speech"
           ],
           "ids": [
            "new",
            "government",
            "public",
            "school",
            "picket",
            "question",
            "person",
            "power",
            "speech"
           ],
           "legendgroup": "topic=4",
           "marker": {
            "color": "#FFA15A",
            "opacity": 0.5
           },
           "name": "topic=4",
           "offsetgroup": "topic=4",
           "orientation": "v",
           "showlegend": true,
           "text": [
            "new",
            "government",
            "public",
            "school",
            "picket",
            "question",
            "person",
            "power",
            "speech"
           ],
           "textposition": "auto",
           "type": "bar",
           "x": [
            "new",
            "government",
            "public",
            "school",
            "picket",
            "question",
            "person",
            "power",
            "speech"
           ],
           "xaxis": "x",
           "y": [
            178818,
            120062,
            218570,
            243250,
            199015,
            221206,
            197143,
            203788,
            254039
           ],
           "yaxis": "y"
          },
          {
           "alignmentgroup": "True",
           "hoverlabel": {
            "namelength": 0
           },
           "hovertemplate": "<b>%{hovertext}</b><br><br>topic=5<br>year_1=1950<br>term=%{text}<br>frequency=%{y}",
           "hovertext": [
            "jeopardy",
            "trial",
            "prosecution",
            "double",
            "double jeopardy",
            "offense",
            "jury",
            "second",
            "conviction",
            "robbery"
           ],
           "ids": [
            "jeopardy",
            "trial",
            "prosecution",
            "double",
            "double jeopardy",
            "offense",
            "jury",
            "second",
            "conviction",
            "robbery"
           ],
           "legendgroup": "topic=5",
           "marker": {
            "color": "#19d3f3",
            "opacity": 0.5
           },
           "name": "topic=5",
           "offsetgroup": "topic=5",
           "orientation": "v",
           "showlegend": true,
           "text": [
            "jeopardy",
            "trial",
            "prosecution",
            "double",
            "double jeopardy",
            "offense",
            "jury",
            "second",
            "conviction",
            "robbery"
           ],
           "textposition": "auto",
           "type": "bar",
           "x": [
            "jeopardy",
            "trial",
            "prosecution",
            "double",
            "double jeopardy",
            "offense",
            "jury",
            "second",
            "conviction",
            "robbery"
           ],
           "xaxis": "x",
           "y": [
            147908,
            274710,
            216002,
            90125,
            90133,
            184346,
            150797,
            244458,
            65604,
            239966
           ],
           "yaxis": "y"
          }
         ],
         "name": "1950"
        },
        {
         "data": [
          {
           "alignmentgroup": "True",
           "hoverlabel": {
            "namelength": 0
           },
           "hovertemplate": "<b>%{hovertext}</b><br><br>topic=0<br>year_1=1960<br>term=%{text}<br>frequency=%{y}",
           "hovertext": [
            "search",
            "officer",
            "warrant",
            "fourth amendment",
            "fourth",
            "evidence",
            "police",
            "probable cause",
            "seizure"
           ],
           "ids": [
            "search",
            "officer",
            "warrant",
            "fourth amendment",
            "fourth",
            "evidence",
            "police",
            "probable cause",
            "seizure"
           ],
           "legendgroup": "topic=0",
           "marker": {
            "color": "#636efa",
            "opacity": 0.5
           },
           "name": "topic=0",
           "offsetgroup": "topic=0",
           "orientation": "v",
           "showlegend": true,
           "text": [
            "search",
            "officer",
            "warrant",
            "fourth amendment",
            "fourth",
            "evidence",
            "police",
            "probable cause",
            "seizure"
           ],
           "textposition": "auto",
           "type": "bar",
           "x": [
            "search",
            "officer",
            "warrant",
            "fourth amendment",
            "fourth",
            "evidence",
            "police",
            "probable cause",
            "seizure"
           ],
           "xaxis": "x",
           "y": [
            542864,
            410389,
            643726,
            255075,
            255073,
            222618,
            445031,
            465995,
            547285
           ],
           "yaxis": "y"
          },
          {
           "alignmentgroup": "True",
           "hoverlabel": {
            "namelength": 0
           },
           "hovertemplate": "<b>%{hovertext}</b><br><br>topic=1<br>year_1=1960<br>term=%{text}<br>frequency=%{y}",
           "hovertext": [
            "election",
            "population",
            "county",
            "vote",
            "legislature",
            "plan",
            "voter",
            "house",
            "representative"
           ],
           "ids": [
            "election",
            "population",
            "county",
            "vote",
            "legislature",
            "plan",
            "voter",
            "house",
            "representative"
           ],
           "legendgroup": "topic=1",
           "marker": {
            "color": "#EF553B",
            "opacity": 0.5
           },
           "name": "topic=1",
           "offsetgroup": "topic=1",
           "orientation": "v",
           "showlegend": true,
           "text": [
            "election",
            "population",
            "county",
            "vote",
            "legislature",
            "plan",
            "voter",
            "house",
            "representative"
           ],
           "textposition": "auto",
           "type": "bar",
           "x": [
            "election",
            "population",
            "county",
            "vote",
            "legislature",
            "plan",
            "voter",
            "house",
            "representative"
           ],
           "xaxis": "x",
           "y": [
            206537,
            447441,
            150548,
            640166,
            349124,
            442486,
            640780,
            288525,
            518305
           ],
           "yaxis": "y"
          },
          {
           "alignmentgroup": "True",
           "hoverlabel": {
            "namelength": 0
           },
           "hovertemplate": "<b>%{hovertext}</b><br><br>topic=2<br>year_1=1960<br>term=%{text}<br>frequency=%{y}",
           "hovertext": [
            "trial",
            "jury",
            "counsel",
            "defendant",
            "witness",
            "conviction",
            "criminal",
            "evidence",
            "judge"
           ],
           "ids": [
            "trial",
            "jury",
            "counsel",
            "defendant",
            "witness",
            "conviction",
            "criminal",
            "evidence",
            "judge"
           ],
           "legendgroup": "topic=2",
           "marker": {
            "color": "#00cc96",
            "opacity": 0.5
           },
           "name": "topic=2",
           "offsetgroup": "topic=2",
           "orientation": "v",
           "showlegend": true,
           "text": [
            "trial",
            "jury",
            "counsel",
            "defendant",
            "witness",
            "conviction",
            "criminal",
            "evidence",
            "judge"
           ],
           "textposition": "auto",
           "type": "bar",
           "x": [
            "trial",
            "jury",
            "counsel",
            "defendant",
            "witness",
            "conviction",
            "criminal",
            "evidence",
            "judge"
           ],
           "xaxis": "x",
           "y": [
            612933,
            333411,
            148397,
            169111,
            651747,
            144432,
            156008,
            222618,
            329735
           ],
           "yaxis": "y"
          },
          {
           "alignmentgroup": "True",
           "hoverlabel": {
            "namelength": 0
           },
           "hovertemplate": "<b>%{hovertext}</b><br><br>topic=3<br>year_1=1960<br>term=%{text}<br>frequency=%{y}",
           "hovertext": [
            "confession",
            "habeas",
            "trial",
            "habeas corpus",
            "corpus",
            "police",
            "counsel",
            "evidence",
            "prisoner",
            "voluntariness"
           ],
           "ids": [
            "confession",
            "habeas",
            "trial",
            "habeas corpus",
            "corpus",
            "police",
            "counsel",
            "evidence",
            "prisoner",
            "voluntariness"
           ],
           "legendgroup": "topic=3",
           "marker": {
            "color": "#ab63fa",
            "opacity": 0.5
           },
           "name": "topic=3",
           "offsetgroup": "topic=3",
           "orientation": "v",
           "showlegend": true,
           "text": [
            "confession",
            "habeas",
            "trial",
            "habeas corpus",
            "corpus",
            "police",
            "counsel",
            "evidence",
            "prisoner",
            "voluntariness"
           ],
           "textposition": "auto",
           "type": "bar",
           "x": [
            "confession",
            "habeas",
            "trial",
            "habeas corpus",
            "corpus",
            "police",
            "counsel",
            "evidence",
            "prisoner",
            "voluntariness"
           ],
           "xaxis": "x",
           "y": [
            124961,
            274550,
            612933,
            274569,
            146909,
            445031,
            148397,
            222618,
            464281,
            639768
           ],
           "yaxis": "y"
          },
          {
           "alignmentgroup": "True",
           "hoverlabel": {
            "namelength": 0
           },
           "hovertemplate": "<b>%{hovertext}</b><br><br>topic=4<br>year_1=1960<br>term=%{text}<br>frequency=%{y}",
           "hovertext": [
            "school",
            "congress",
            "public",
            "board",
            "person",
            "new",
            "power",
            "question",
            "communist",
            "constitutional"
           ],
           "ids": [
            "school",
            "congress",
            "public",
            "board",
            "person",
            "new",
            "power",
            "question",
            "communist",
            "constitutional"
           ],
           "legendgroup": "topic=4",
           "marker": {
            "color": "#FFA15A",
            "opacity": 0.5
           },
           "name": "topic=4",
           "offsetgroup": "topic=4",
           "orientation": "v",
           "showlegend": true,
           "text": [
            "school",
            "congress",
            "public",
            "board",
            "person",
            "new",
            "power",
            "question",
            "communist",
            "constitutional"
           ],
           "textposition": "auto",
           "type": "bar",
           "x": [
            "school",
            "congress",
            "public",
            "board",
            "person",
            "new",
            "power",
            "question",
            "communist",
            "constitutional"
           ],
           "xaxis": "x",
           "y": [
            540403,
            127046,
            483228,
            68918,
            436407,
            395716,
            451044,
            489047,
            113933,
            134681
           ],
           "yaxis": "y"
          },
          {
           "alignmentgroup": "True",
           "hoverlabel": {
            "namelength": 0
           },
           "hovertemplate": "<b>%{hovertext}</b><br><br>topic=5<br>year_1=1960<br>term=%{text}<br>frequency=%{y}",
           "hovertext": [
            "obscene",
            "obscenity",
            "book",
            "film",
            "ordinance",
            "material",
            "publication",
            "roth",
            "censorship",
            "milk"
           ],
           "ids": [
            "obscene",
            "obscenity",
            "book",
            "film",
            "ordinance",
            "material",
            "publication",
            "roth",
            "censorship",
            "milk"
           ],
           "legendgroup": "topic=5",
           "marker": {
            "color": "#19d3f3",
            "opacity": 0.5
           },
           "name": "topic=5",
           "offsetgroup": "topic=5",
           "orientation": "v",
           "showlegend": true,
           "text": [
            "obscene",
            "obscenity",
            "book",
            "film",
            "ordinance",
            "material",
            "publication",
            "roth",
            "censorship",
            "milk"
           ],
           "textposition": "auto",
           "type": "bar",
           "x": [
            "obscene",
            "obscenity",
            "book",
            "film",
            "ordinance",
            "material",
            "publication",
            "roth",
            "censorship",
            "milk"
           ],
           "xaxis": "x",
           "y": [
            405060,
            405285,
            70466,
            245785,
            417627,
            371139,
            484099,
            534779,
            86635,
            381619
           ],
           "yaxis": "y"
          }
         ],
         "name": "1960"
        },
        {
         "data": [
          {
           "alignmentgroup": "True",
           "hoverlabel": {
            "namelength": 0
           },
           "hovertemplate": "<b>%{hovertext}</b><br><br>topic=0<br>year_1=1970<br>term=%{text}<br>frequency=%{y}",
           "hovertext": [
            "inmate",
            "parole",
            "prison",
            "juvenile",
            "prisoner",
            "probation",
            "transfer",
            "hearing",
            "probation officer",
            "parolee"
           ],
           "ids": [
            "inmate",
            "parole",
            "prison",
            "juvenile",
            "prisoner",
            "probation",
            "transfer",
            "hearing",
            "probation officer",
            "parolee"
           ],
           "legendgroup": "topic=0",
           "marker": {
            "color": "#636efa",
            "opacity": 0.5
           },
           "name": "topic=0",
           "offsetgroup": "topic=0",
           "orientation": "v",
           "showlegend": true,
           "text": [
            "inmate",
            "parole",
            "prison",
            "juvenile",
            "prisoner",
            "probation",
            "transfer",
            "hearing",
            "probation officer",
            "parolee"
           ],
           "textposition": "auto",
           "type": "bar",
           "x": [
            "inmate",
            "parole",
            "prison",
            "juvenile",
            "prisoner",
            "probation",
            "transfer",
            "hearing",
            "probation officer",
            "parolee"
           ],
           "xaxis": "x",
           "y": [
            546182,
            742535,
            808919,
            590150,
            809424,
            812666,
            1064183,
            488585,
            812725,
            742874
           ],
           "yaxis": "y"
          },
          {
           "alignmentgroup": "True",
           "hoverlabel": {
            "namelength": 0
           },
           "hovertemplate": "<b>%{hovertext}</b><br><br>topic=1<br>year_1=1970<br>term=%{text}<br>frequency=%{y}",
           "hovertext": [
            "obscene",
            "material",
            "obscenity",
            "miller",
            "paris adult",
            "film",
            "paris",
            "miller california"
           ],
           "ids": [
            "obscene",
            "material",
            "obscenity",
            "miller",
            "paris adult",
            "film",
            "paris",
            "miller california"
           ],
           "legendgroup": "topic=1",
           "marker": {
            "color": "#EF553B",
            "opacity": 0.5
           },
           "name": "topic=1",
           "offsetgroup": "topic=1",
           "orientation": "v",
           "showlegend": true,
           "text": [
            "obscene",
            "material",
            "obscenity",
            "miller",
            "paris adult",
            "film",
            "paris",
            "miller california"
           ],
           "textposition": "auto",
           "type": "bar",
           "x": [
            "obscene",
            "material",
            "obscenity",
            "miller",
            "paris adult",
            "film",
            "paris",
            "miller california"
           ],
           "xaxis": "x",
           "y": [
            708038,
            647624,
            708305,
            665369,
            741774,
            431682,
            741773,
            665405
           ],
           "yaxis": "y"
          },
          {
           "alignmentgroup": "True",
           "hoverlabel": {
            "namelength": 0
           },
           "hovertemplate": "<b>%{hovertext}</b><br><br>topic=2<br>year_1=1970<br>term=%{text}<br>frequency=%{y}",
           "hovertext": [
            "school",
            "child",
            "public",
            "board",
            "decision",
            "election",
            "require",
            "tax"
           ],
           "ids": [
            "school",
            "child",
            "public",
            "board",
            "decision",
            "election",
            "require",
            "tax"
           ],
           "legendgroup": "topic=2",
           "marker": {
            "color": "#00cc96",
            "opacity": 0.5
           },
           "name": "topic=2",
           "offsetgroup": "topic=2",
           "orientation": "v",
           "showlegend": true,
           "text": [
            "school",
            "child",
            "public",
            "board",
            "decision",
            "election",
            "require",
            "tax"
           ],
           "textposition": "auto",
           "type": "bar",
           "x": [
            "school",
            "child",
            "public",
            "board",
            "decision",
            "election",
            "require",
            "tax"
           ],
           "xaxis": "x",
           "y": [
            943066,
            167786,
            842363,
            123837,
            286190,
            361838,
            905596,
            1036415
           ],
           "yaxis": "y"
          },
          {
           "alignmentgroup": "True",
           "hoverlabel": {
            "namelength": 0
           },
           "hovertemplate": "<b>%{hovertext}</b><br><br>topic=3<br>year_1=1970<br>term=%{text}<br>frequency=%{y}",
           "hovertext": [
            "search",
            "fourth amendment",
            "fourth",
            "warrant",
            "arrest",
            "police",
            "seizure",
            "probable cause",
            "officer",
            "evidence"
           ],
           "ids": [
            "search",
            "fourth amendment",
            "fourth",
            "warrant",
            "arrest",
            "police",
            "seizure",
            "probable cause",
            "officer",
            "evidence"
           ],
           "legendgroup": "topic=3",
           "marker": {
            "color": "#ab63fa",
            "opacity": 0.5
           },
           "name": "topic=3",
           "offsetgroup": "topic=3",
           "orientation": "v",
           "showlegend": true,
           "text": [
            "search",
            "fourth amendment",
            "fourth",
            "warrant",
            "arrest",
            "police",
            "seizure",
            "probable cause",
            "officer",
            "evidence"
           ],
           "textposition": "auto",
           "type": "bar",
           "x": [
            "search",
            "fourth amendment",
            "fourth",
            "warrant",
            "arrest",
            "police",
            "seizure",
            "probable cause",
            "officer",
            "evidence"
           ],
           "xaxis": "x",
           "y": [
            948016,
            447475,
            447471,
            1121531,
            80564,
            776667,
            955325,
            812336,
            717078,
            391232
           ],
           "yaxis": "y"
          },
          {
           "alignmentgroup": "True",
           "hoverlabel": {
            "namelength": 0
           },
           "hovertemplate": "<b>%{hovertext}</b><br><br>topic=4<br>year_1=1970<br>term=%{text}<br>frequency=%{y}",
           "hovertext": [
            "jury",
            "trial",
            "defendant",
            "death",
            "counsel",
            "criminal",
            "evidence",
            "judge",
            "murder"
           ],
           "ids": [
            "jury",
            "trial",
            "defendant",
            "death",
            "counsel",
            "criminal",
            "evidence",
            "judge",
            "murder"
           ],
           "legendgroup": "topic=4",
           "marker": {
            "color": "#FFA15A",
            "opacity": 0.5
           },
           "name": "topic=4",
           "offsetgroup": "topic=4",
           "orientation": "v",
           "showlegend": true,
           "text": [
            "jury",
            "trial",
            "defendant",
            "death",
            "counsel",
            "criminal",
            "evidence",
            "judge",
            "murder"
           ],
           "textposition": "auto",
           "type": "bar",
           "x": [
            "jury",
            "trial",
            "defendant",
            "death",
            "counsel",
            "criminal",
            "evidence",
            "judge",
            "murder"
           ],
           "xaxis": "x",
           "y": [
            585502,
            1067876,
            292819,
            282524,
            259159,
            270395,
            391232,
            579119,
            679956
           ],
           "yaxis": "y"
          },
          {
           "alignmentgroup": "True",
           "hoverlabel": {
            "namelength": 0
           },
           "hovertemplate": "<b>%{hovertext}</b><br><br>topic=5<br>year_1=1970<br>term=%{text}<br>frequency=%{y}",
           "hovertext": [
            "jeopardy",
            "double jeopardy",
            "double",
            "trial",
            "jeopardy clause",
            "ashe",
            "charge",
            "jury",
            "robbery",
            "murder"
           ],
           "ids": [
            "jeopardy",
            "double jeopardy",
            "double",
            "trial",
            "jeopardy clause",
            "ashe",
            "charge",
            "jury",
            "robbery",
            "murder"
           ],
           "legendgroup": "topic=5",
           "marker": {
            "color": "#19d3f3",
            "opacity": 0.5
           },
           "name": "topic=5",
           "offsetgroup": "topic=5",
           "orientation": "v",
           "showlegend": true,
           "text": [
            "jeopardy",
            "double jeopardy",
            "double",
            "trial",
            "jeopardy clause",
            "ashe",
            "charge",
            "jury",
            "robbery",
            "murder"
           ],
           "textposition": "auto",
           "type": "bar",
           "x": [
            "jeopardy",
            "double jeopardy",
            "double",
            "trial",
            "jeopardy clause",
            "ashe",
            "charge",
            "jury",
            "robbery",
            "murder"
           ],
           "xaxis": "x",
           "y": [
            575240,
            346159,
            346109,
            1067876,
            575285,
            83672,
            164734,
            585502,
            931027,
            679956
           ],
           "yaxis": "y"
          }
         ],
         "name": "1970"
        },
        {
         "data": [
          {
           "alignmentgroup": "True",
           "hoverlabel": {
            "namelength": 0
           },
           "hovertemplate": "<b>%{hovertext}</b><br><br>topic=0<br>year_1=1980<br>term=%{text}<br>frequency=%{y}",
           "hovertext": [
            "death",
            "stay",
            "execution",
            "application stay",
            "stay execution",
            "death penalty",
            "certiorari",
            "penalty",
            "writ",
            "writ certiorari"
           ],
           "ids": [
            "death",
            "stay",
            "execution",
            "application stay",
            "stay execution",
            "death penalty",
            "certiorari",
            "penalty",
            "writ",
            "writ certiorari"
           ],
           "legendgroup": "topic=0",
           "marker": {
            "color": "#636efa",
            "opacity": 0.5
           },
           "name": "topic=0",
           "offsetgroup": "topic=0",
           "orientation": "v",
           "showlegend": true,
           "text": [
            "death",
            "stay",
            "execution",
            "application stay",
            "stay execution",
            "death penalty",
            "certiorari",
            "penalty",
            "writ",
            "writ certiorari"
           ],
           "textposition": "auto",
           "type": "bar",
           "x": [
            "death",
            "stay",
            "execution",
            "application stay",
            "stay execution",
            "death penalty",
            "certiorari",
            "penalty",
            "writ",
            "writ certiorari"
           ],
           "xaxis": "x",
           "y": [
            280198,
            999911,
            398643,
            65653,
            1000003,
            280925,
            157932,
            753114,
            1137503,
            1137535
           ],
           "yaxis": "y"
          },
          {
           "alignmentgroup": "True",
           "hoverlabel": {
            "namelength": 0
           },
           "hovertemplate": "<b>%{hovertext}</b><br><br>topic=1<br>year_1=1980<br>term=%{text}<br>frequency=%{y}",
           "hovertext": [
            "congress",
            "tax",
            "city",
            "property",
            "party",
            "regulation",
            "public",
            "decision"
           ],
           "ids": [
            "congress",
            "tax",
            "city",
            "property",
            "party",
            "regulation",
            "public",
            "decision"
           ],
           "legendgroup": "topic=1",
           "marker": {
            "color": "#EF553B",
            "opacity": 0.5
           },
           "name": "topic=1",
           "offsetgroup": "topic=1",
           "orientation": "v",
           "showlegend": true,
           "text": [
            "congress",
            "tax",
            "city",
            "property",
            "party",
            "regulation",
            "public",
            "decision"
           ],
           "textposition": "auto",
           "type": "bar",
           "x": [
            "congress",
            "tax",
            "city",
            "property",
            "party",
            "regulation",
            "public",
            "decision"
           ],
           "xaxis": "x",
           "y": [
            222862,
            1034136,
            176204,
            826944,
            745893,
            880340,
            840292,
            284242
           ],
           "yaxis": "y"
          },
          {
           "alignmentgroup": "True",
           "hoverlabel": {
            "namelength": 0
           },
           "hovertemplate": "<b>%{hovertext}</b><br><br>topic=2<br>year_1=1980<br>term=%{text}<br>frequency=%{y}",
           "hovertext": [
            "death",
            "jury",
            "death penalty",
            "penalty",
            "capital",
            "mitigate",
            "defendant",
            "juror"
           ],
           "ids": [
            "death",
            "jury",
            "death penalty",
            "penalty",
            "capital",
            "mitigate",
            "defendant",
            "juror"
           ],
           "legendgroup": "topic=2",
           "marker": {
            "color": "#00cc96",
            "opacity": 0.5
           },
           "name": "topic=2",
           "offsetgroup": "topic=2",
           "orientation": "v",
           "showlegend": true,
           "text": [
            "death",
            "jury",
            "death penalty",
            "penalty",
            "capital",
            "mitigate",
            "defendant",
            "juror"
           ],
           "textposition": "auto",
           "type": "bar",
           "x": [
            "death",
            "jury",
            "death penalty",
            "penalty",
            "capital",
            "mitigate",
            "defendant",
            "juror"
           ],
           "xaxis": "x",
           "y": [
            280198,
            585792,
            280925,
            753114,
            146412,
            672725,
            291016,
            584974
           ],
           "yaxis": "y"
          },
          {
           "alignmentgroup": "True",
           "hoverlabel": {
            "namelength": 0
           },
           "hovertemplate": "<b>%{hovertext}</b><br><br>topic=3<br>year_1=1980<br>term=%{text}<br>frequency=%{y}",
           "hovertext": [
            "trial",
            "defendant",
            "counsel",
            "jury",
            "criminal",
            "jeopardy",
            "conviction",
            "evidence",
            "double jeopardy"
           ],
           "ids": [
            "trial",
            "defendant",
            "counsel",
            "jury",
            "criminal",
            "jeopardy",
            "conviction",
            "evidence",
            "double jeopardy"
           ],
           "legendgroup": "topic=3",
           "marker": {
            "color": "#ab63fa",
            "opacity": 0.5
           },
           "name": "topic=3",
           "offsetgroup": "topic=3",
           "orientation": "v",
           "showlegend": true,
           "text": [
            "trial",
            "defendant",
            "counsel",
            "jury",
            "criminal",
            "jeopardy",
            "conviction",
            "evidence",
            "double jeopardy"
           ],
           "textposition": "auto",
           "type": "bar",
           "x": [
            "trial",
            "defendant",
            "counsel",
            "jury",
            "criminal",
            "jeopardy",
            "conviction",
            "evidence",
            "double jeopardy"
           ],
           "xaxis": "x",
           "y": [
            1065064,
            291016,
            257093,
            585792,
            267789,
            575116,
            250154,
            388984,
            344375
           ],
           "yaxis": "y"
          },
          {
           "alignmentgroup": "True",
           "hoverlabel": {
            "namelength": 0
           },
           "hovertemplate": "<b>%{hovertext}</b><br><br>topic=4<br>year_1=1980<br>term=%{text}<br>frequency=%{y}",
           "hovertext": [
            "school",
            "religious",
            "religion",
            "student",
            "public",
            "education",
            "establishment clause",
            "establishment",
            "secular",
            "board"
           ],
           "ids": [
            "school",
            "religious",
            "religion",
            "student",
            "public",
            "education",
            "establishment clause",
            "establishment",
            "secular",
            "board"
           ],
           "legendgroup": "topic=4",
           "marker": {
            "color": "#FFA15A",
            "opacity": 0.5
           },
           "name": "topic=4",
           "offsetgroup": "topic=4",
           "orientation": "v",
           "showlegend": true,
           "text": [
            "school",
            "religious",
            "religion",
            "student",
            "public",
            "education",
            "establishment clause",
            "establishment",
            "secular",
            "board"
           ],
           "textposition": "auto",
           "type": "bar",
           "x": [
            "school",
            "religious",
            "religion",
            "student",
            "public",
            "education",
            "establishment clause",
            "establishment",
            "secular",
            "board"
           ],
           "xaxis": "x",
           "y": [
            942679,
            890486,
            889817,
            1007684,
            840292,
            353345,
            385501,
            385467,
            951284,
            124170
           ],
           "yaxis": "y"
          },
          {
           "alignmentgroup": "True",
           "hoverlabel": {
            "namelength": 0
           },
           "hovertemplate": "<b>%{hovertext}</b><br><br>topic=5<br>year_1=1980<br>term=%{text}<br>frequency=%{y}",
           "hovertext": [
            "search",
            "police",
            "child",
            "fourth amendment",
            "officer",
            "miranda",
            "arrest",
            "fourth",
            "confession",
            "warrant"
           ],
           "ids": [
            "search",
            "police",
            "child",
            "fourth amendment",
            "officer",
            "miranda",
            "arrest",
            "fourth",
            "confession",
            "warrant"
           ],
           "legendgroup": "topic=5",
           "marker": {
            "color": "#19d3f3",
            "opacity": 0.5
           },
           "name": "topic=5",
           "offsetgroup": "topic=5",
           "orientation": "v",
           "showlegend": true,
           "text": [
            "search",
            "police",
            "child",
            "fourth amendment",
            "officer",
            "miranda",
            "arrest",
            "fourth",
            "confession",
            "warrant"
           ],
           "textposition": "auto",
           "type": "bar",
           "x": [
            "search",
            "police",
            "child",
            "fourth amendment",
            "officer",
            "miranda",
            "arrest",
            "fourth",
            "confession",
            "warrant"
           ],
           "xaxis": "x",
           "y": [
            947391,
            775935,
            167723,
            447263,
            717672,
            669091,
            79506,
            447256,
            219681,
            1119186
           ],
           "yaxis": "y"
          }
         ],
         "name": "1980"
        },
        {
         "data": [
          {
           "alignmentgroup": "True",
           "hoverlabel": {
            "namelength": 0
           },
           "hovertemplate": "<b>%{hovertext}</b><br><br>topic=0<br>year_1=1990<br>term=%{text}<br>frequency=%{y}",
           "hovertext": [
            "search",
            "fourth amendment",
            "seizure",
            "fourth",
            "officer",
            "probable cause",
            "warrant",
            "immunity",
            "property"
           ],
           "ids": [
            "search",
            "fourth amendment",
            "seizure",
            "fourth",
            "officer",
            "probable cause",
            "warrant",
            "immunity",
            "property"
           ],
           "legendgroup": "topic=0",
           "marker": {
            "color": "#636efa",
            "opacity": 0.5
           },
           "name": "topic=0",
           "offsetgroup": "topic=0",
           "orientation": "v",
           "showlegend": true,
           "text": [
            "search",
            "fourth amendment",
            "seizure",
            "fourth",
            "officer",
            "probable cause",
            "warrant",
            "immunity",
            "property"
           ],
           "textposition": "auto",
           "type": "bar",
           "x": [
            "search",
            "fourth amendment",
            "seizure",
            "fourth",
            "officer",
            "probable cause",
            "warrant",
            "immunity",
            "property"
           ],
           "xaxis": "x",
           "y": [
            654027,
            308913,
            658157,
            308907,
            494774,
            560793,
            771995,
            357107,
            571673
           ],
           "yaxis": "y"
          },
          {
           "alignmentgroup": "True",
           "hoverlabel": {
            "namelength": 0
           },
           "hovertemplate": "<b>%{hovertext}</b><br><br>topic=1<br>year_1=1990<br>term=%{text}<br>frequency=%{y}",
           "hovertext": [
            "trial",
            "defendant",
            "habeas",
            "evidence",
            "criminal",
            "conviction",
            "miranda",
            "process",
            "offense",
            "counsel"
           ],
           "ids": [
            "trial",
            "defendant",
            "habeas",
            "evidence",
            "criminal",
            "conviction",
            "miranda",
            "process",
            "offense",
            "counsel"
           ],
           "legendgroup": "topic=1",
           "marker": {
            "color": "#EF553B",
            "opacity": 0.5
           },
           "name": "topic=1",
           "offsetgroup": "topic=1",
           "orientation": "v",
           "showlegend": true,
           "text": [
            "trial",
            "defendant",
            "habeas",
            "evidence",
            "criminal",
            "conviction",
            "miranda",
            "process",
            "offense",
            "counsel"
           ],
           "textposition": "auto",
           "type": "bar",
           "x": [
            "trial",
            "defendant",
            "habeas",
            "evidence",
            "criminal",
            "conviction",
            "miranda",
            "process",
            "offense",
            "counsel"
           ],
           "xaxis": "x",
           "y": [
            735475,
            201855,
            332217,
            269085,
            185212,
            173084,
            462232,
            564058,
            493110,
            177865
           ],
           "yaxis": "y"
          },
          {
           "alignmentgroup": "True",
           "hoverlabel": {
            "namelength": 0
           },
           "hovertemplate": "<b>%{hovertext}</b><br><br>topic=2<br>year_1=1990<br>term=%{text}<br>frequency=%{y}",
           "hovertext": [
            "congress",
            "government",
            "immunity",
            "peremptory",
            "peremptory challenge",
            "power",
            "sovereign",
            "suit",
            "sovereign immunity"
           ],
           "ids": [
            "congress",
            "government",
            "immunity",
            "peremptory",
            "peremptory challenge",
            "power",
            "sovereign",
            "suit",
            "sovereign immunity"
           ],
           "legendgroup": "topic=2",
           "marker": {
            "color": "#00cc96",
            "opacity": 0.5
           },
           "name": "topic=2",
           "offsetgroup": "topic=2",
           "orientation": "v",
           "showlegend": true,
           "text": [
            "congress",
            "government",
            "immunity",
            "peremptory",
            "peremptory challenge",
            "power",
            "sovereign",
            "suit",
            "sovereign immunity"
           ],
           "textposition": "auto",
           "type": "bar",
           "x": [
            "congress",
            "government",
            "immunity",
            "peremptory",
            "peremptory challenge",
            "power",
            "sovereign",
            "suit",
            "sovereign immunity"
           ],
           "xaxis": "x",
           "y": [
            153567,
            322948,
            357107,
            522871,
            522874,
            543198,
            679230,
            703798,
            679338
           ],
           "yaxis": "y"
          },
          {
           "alignmentgroup": "True",
           "hoverlabel": {
            "namelength": 0
           },
           "hovertemplate": "<b>%{hovertext}</b><br><br>topic=3<br>year_1=1990<br>term=%{text}<br>frequency=%{y}",
           "hovertext": [
            "voting",
            "election",
            "candidate",
            "voter",
            "plan",
            "political",
            "party",
            "race",
            "minority",
            "racial"
           ],
           "ids": [
            "voting",
            "election",
            "candidate",
            "voter",
            "plan",
            "political",
            "party",
            "race",
            "minority",
            "racial"
           ],
           "legendgroup": "topic=3",
           "marker": {
            "color": "#ab63fa",
            "opacity": 0.5
           },
           "name": "topic=3",
           "offsetgroup": "topic=3",
           "orientation": "v",
           "showlegend": true,
           "text": [
            "voting",
            "election",
            "candidate",
            "voter",
            "plan",
            "political",
            "party",
            "race",
            "minority",
            "racial"
           ],
           "textposition": "auto",
           "type": "bar",
           "x": [
            "voting",
            "election",
            "candidate",
            "voter",
            "plan",
            "political",
            "party",
            "race",
            "minority",
            "racial"
           ],
           "xaxis": "x",
           "y": [
            769286,
            248940,
            98432,
            768826,
            532129,
            537251,
            514817,
            591135,
            461713,
            591796
           ],
           "yaxis": "y"
          },
          {
           "alignmentgroup": "True",
           "hoverlabel": {
            "namelength": 0
           },
           "hovertemplate": "<b>%{hovertext}</b><br><br>topic=4<br>year_1=1990<br>term=%{text}<br>frequency=%{y}",
           "hovertext": [
            "tax",
            "speech",
            "religious",
            "school",
            "public",
            "religion",
            "student",
            "government",
            "clause",
            "property"
           ],
           "ids": [
            "tax",
            "speech",
            "religious",
            "school",
            "public",
            "religion",
            "student",
            "government",
            "clause",
            "property"
           ],
           "legendgroup": "topic=4",
           "marker": {
            "color": "#FFA15A",
            "opacity": 0.5
           },
           "name": "topic=4",
           "offsetgroup": "topic=4",
           "orientation": "v",
           "showlegend": true,
           "text": [
            "tax",
            "speech",
            "religious",
            "school",
            "public",
            "religion",
            "student",
            "government",
            "clause",
            "property"
           ],
           "textposition": "auto",
           "type": "bar",
           "x": [
            "tax",
            "speech",
            "religious",
            "school",
            "public",
            "religion",
            "student",
            "government",
            "clause",
            "property"
           ],
           "xaxis": "x",
           "y": [
            713438,
            682229,
            616304,
            650571,
            581737,
            615759,
            695631,
            322948,
            124350,
            571673
           ],
           "yaxis": "y"
          },
          {
           "alignmentgroup": "True",
           "hoverlabel": {
            "namelength": 0
           },
           "hovertemplate": "<b>%{hovertext}</b><br><br>topic=5<br>year_1=1990<br>term=%{text}<br>frequency=%{y}",
           "hovertext": [
            "jury",
            "death",
            "mitigate",
            "instruction",
            "defendant",
            "death penalty",
            "penalty",
            "evidence",
            "capital"
           ],
           "ids": [
            "jury",
            "death",
            "mitigate",
            "instruction",
            "defendant",
            "death penalty",
            "penalty",
            "evidence",
            "capital"
           ],
           "legendgroup": "topic=5",
           "marker": {
            "color": "#19d3f3",
            "opacity": 0.5
           },
           "name": "topic=5",
           "offsetgroup": "topic=5",
           "orientation": "v",
           "showlegend": true,
           "text": [
            "jury",
            "death",
            "mitigate",
            "instruction",
            "defendant",
            "death penalty",
            "penalty",
            "evidence",
            "capital"
           ],
           "textposition": "auto",
           "type": "bar",
           "x": [
            "jury",
            "death",
            "mitigate",
            "instruction",
            "defendant",
            "death penalty",
            "penalty",
            "evidence",
            "capital"
           ],
           "xaxis": "x",
           "y": [
            404410,
            194186,
            464515,
            381597,
            201855,
            194708,
            519999,
            269085,
            99527
           ],
           "yaxis": "y"
          }
         ],
         "name": "1990"
        },
        {
         "data": [
          {
           "alignmentgroup": "True",
           "hoverlabel": {
            "namelength": 0
           },
           "hovertemplate": "<b>%{hovertext}</b><br><br>topic=0<br>year_1=2000<br>term=%{text}<br>frequency=%{y}",
           "hovertext": [
            "candidate",
            "voter",
            "political",
            "election",
            "plan",
            "voting",
            "gerrymander",
            "minority",
            "buckley",
            "party"
           ],
           "ids": [
            "candidate",
            "voter",
            "political",
            "election",
            "plan",
            "voting",
            "gerrymander",
            "minority",
            "buckley",
            "party"
           ],
           "legendgroup": "topic=0",
           "marker": {
            "color": "#636efa",
            "opacity": 0.5
           },
           "name": "topic=0",
           "offsetgroup": "topic=0",
           "orientation": "v",
           "showlegend": true,
           "text": [
            "candidate",
            "voter",
            "political",
            "election",
            "plan",
            "voting",
            "gerrymander",
            "minority",
            "buckley",
            "party"
           ],
           "textposition": "auto",
           "type": "bar",
           "x": [
            "candidate",
            "voter",
            "political",
            "election",
            "plan",
            "voting",
            "gerrymander",
            "minority",
            "buckley",
            "party"
           ],
           "xaxis": "x",
           "y": [
            79551,
            607598,
            423426,
            195772,
            418801,
            608193,
            251396,
            362721,
            74514,
            405492
           ],
           "yaxis": "y"
          },
          {
           "alignmentgroup": "True",
           "hoverlabel": {
            "namelength": 0
           },
           "hovertemplate": "<b>%{hovertext}</b><br><br>topic=1<br>year_1=2000<br>term=%{text}<br>frequency=%{y}",
           "hovertext": [
            "school",
            "student",
            "religious",
            "university",
            "tssaa",
            "public",
            "public school",
            "race",
            "program",
            "speech"
           ],
           "ids": [
            "school",
            "student",
            "religious",
            "university",
            "tssaa",
            "public",
            "public school",
            "race",
            "program",
            "speech"
           ],
           "legendgroup": "topic=1",
           "marker": {
            "color": "#EF553B",
            "opacity": 0.5
           },
           "name": "topic=1",
           "offsetgroup": "topic=1",
           "orientation": "v",
           "showlegend": true,
           "text": [
            "school",
            "student",
            "religious",
            "university",
            "tssaa",
            "public",
            "public school",
            "race",
            "program",
            "speech"
           ],
           "textposition": "auto",
           "type": "bar",
           "x": [
            "school",
            "student",
            "religious",
            "university",
            "tssaa",
            "public",
            "public school",
            "race",
            "program",
            "speech"
           ],
           "xaxis": "x",
           "y": [
            511114,
            546864,
            484812,
            591866,
            584471,
            456868,
            457376,
            464334,
            446375,
            535964
           ],
           "yaxis": "y"
          },
          {
           "alignmentgroup": "True",
           "hoverlabel": {
            "namelength": 0
           },
           "hovertemplate": "<b>%{hovertext}</b><br><br>topic=2<br>year_1=2000<br>term=%{text}<br>frequency=%{y}",
           "hovertext": [
            "congress",
            "government",
            "public",
            "property",
            "clause",
            "tribe",
            "speech",
            "use",
            "process",
            "person"
           ],
           "ids": [
            "congress",
            "government",
            "public",
            "property",
            "clause",
            "tribe",
            "speech",
            "use",
            "process",
            "person"
           ],
           "legendgroup": "topic=2",
           "marker": {
            "color": "#00cc96",
            "opacity": 0.5
           },
           "name": "topic=2",
           "offsetgroup": "topic=2",
           "orientation": "v",
           "showlegend": true,
           "text": [
            "congress",
            "government",
            "public",
            "property",
            "clause",
            "tribe",
            "speech",
            "use",
            "process",
            "person"
           ],
           "textposition": "auto",
           "type": "bar",
           "x": [
            "congress",
            "government",
            "public",
            "property",
            "clause",
            "tribe",
            "speech",
            "use",
            "process",
            "person"
           ],
           "xaxis": "x",
           "y": [
            121567,
            253978,
            456868,
            449539,
            99597,
            582457,
            535964,
            596243,
            444100,
            414138
           ],
           "yaxis": "y"
          },
          {
           "alignmentgroup": "True",
           "hoverlabel": {
            "namelength": 0
           },
           "hovertemplate": "<b>%{hovertext}</b><br><br>topic=3<br>year_1=2000<br>term=%{text}<br>frequency=%{y}",
           "hovertext": [
            "inmate",
            "prison",
            "osp",
            "prisoner",
            "cdc",
            "turner",
            "ltsu",
            "visitation",
            "regulation",
            "policy"
           ],
           "ids": [
            "inmate",
            "prison",
            "osp",
            "prisoner",
            "cdc",
            "turner",
            "ltsu",
            "visitation",
            "regulation",
            "policy"
           ],
           "legendgroup": "topic=3",
           "marker": {
            "color": "#ab63fa",
            "opacity": 0.5
           },
           "name": "topic=3",
           "offsetgroup": "topic=3",
           "orientation": "v",
           "showlegend": true,
           "text": [
            "inmate",
            "prison",
            "osp",
            "prisoner",
            "cdc",
            "turner",
            "ltsu",
            "visitation",
            "regulation",
            "policy"
           ],
           "textposition": "auto",
           "type": "bar",
           "x": [
            "inmate",
            "prison",
            "osp",
            "prisoner",
            "cdc",
            "turner",
            "ltsu",
            "visitation",
            "regulation",
            "policy"
           ],
           "xaxis": "x",
           "y": [
            296626,
            439672,
            398440,
            440068,
            84788,
            585247,
            344527,
            606274,
            479472,
            422613
           ],
           "yaxis": "y"
          },
          {
           "alignmentgroup": "True",
           "hoverlabel": {
            "namelength": 0
           },
           "hovertemplate": "<b>%{hovertext}</b><br><br>topic=4<br>year_1=2000<br>term=%{text}<br>frequency=%{y}",
           "hovertext": [
            "jury",
            "defendant",
            "death",
            "trial",
            "evidence",
            "juror",
            "death penalty",
            "penalty",
            "capital",
            "judge"
           ],
           "ids": [
            "jury",
            "defendant",
            "death",
            "trial",
            "evidence",
            "juror",
            "death penalty",
            "penalty",
            "capital",
            "judge"
           ],
           "legendgroup": "topic=4",
           "marker": {
            "color": "#FFA15A",
            "opacity": 0.5
           },
           "name": "topic=4",
           "offsetgroup": "topic=4",
           "orientation": "v",
           "showlegend": true,
           "text": [
            "jury",
            "defendant",
            "death",
            "trial",
            "evidence",
            "juror",
            "death penalty",
            "penalty",
            "capital",
            "judge"
           ],
           "textposition": "auto",
           "type": "bar",
           "x": [
            "jury",
            "defendant",
            "death",
            "trial",
            "evidence",
            "juror",
            "death penalty",
            "penalty",
            "capital",
            "judge"
           ],
           "xaxis": "x",
           "y": [
            317630,
            158603,
            153016,
            581199,
            211295,
            317223,
            153359,
            409150,
            80707,
            314305
           ],
           "yaxis": "y"
          },
          {
           "alignmentgroup": "True",
           "hoverlabel": {
            "namelength": 0
           },
           "hovertemplate": "<b>%{hovertext}</b><br><br>topic=5<br>year_1=2000<br>term=%{text}<br>frequency=%{y}",
           "hovertext": [
            "miranda",
            "kaupp",
            "officer",
            "confession",
            "probable cause",
            "probable",
            "interrogation",
            "warning"
           ],
           "ids": [
            "miranda",
            "kaupp",
            "officer",
            "confession",
            "probable cause",
            "probable",
            "interrogation",
            "warning"
           ],
           "legendgroup": "topic=5",
           "marker": {
            "color": "#19d3f3",
            "opacity": 0.5
           },
           "name": "topic=5",
           "offsetgroup": "topic=5",
           "orientation": "v",
           "showlegend": true,
           "text": [
            "miranda",
            "kaupp",
            "officer",
            "confession",
            "probable cause",
            "probable",
            "interrogation",
            "warning"
           ],
           "textposition": "auto",
           "type": "bar",
           "x": [
            "miranda",
            "kaupp",
            "officer",
            "confession",
            "probable cause",
            "probable",
            "interrogation",
            "warning"
           ],
           "xaxis": "x",
           "y": [
            363108,
            320695,
            389372,
            119949,
            441376,
            441372,
            303877,
            610481
           ],
           "yaxis": "y"
          }
         ],
         "name": "2000"
        },
        {
         "data": [
          {
           "alignmentgroup": "True",
           "hoverlabel": {
            "namelength": 0
           },
           "hovertemplate": "<b>%{hovertext}</b><br><br>topic=0<br>year_1=2010<br>term=%{text}<br>frequency=%{y}",
           "hovertext": [
            "racial",
            "voter",
            "race",
            "minority",
            "voting",
            "gerrymander",
            "plan",
            "vote",
            "redistricting",
            "map"
           ],
           "ids": [
            "racial",
            "voter",
            "race",
            "minority",
            "voting",
            "gerrymander",
            "plan",
            "vote",
            "redistricting",
            "map"
           ],
           "legendgroup": "topic=0",
           "marker": {
            "color": "#636efa",
            "opacity": 0.5
           },
           "name": "topic=0",
           "offsetgroup": "topic=0",
           "orientation": "v",
           "showlegend": true,
           "text": [
            "racial",
            "voter",
            "race",
            "minority",
            "voting",
            "gerrymander",
            "plan",
            "vote",
            "redistricting",
            "map"
           ],
           "textposition": "auto",
           "type": "bar",
           "x": [
            "racial",
            "voter",
            "race",
            "minority",
            "voting",
            "gerrymander",
            "plan",
            "vote",
            "redistricting",
            "map"
           ],
           "xaxis": "x",
           "y": [
            416204,
            557586,
            415791,
            322327,
            558127,
            220301,
            376675,
            557164,
            424442,
            310337
           ],
           "yaxis": "y"
          },
          {
           "alignmentgroup": "True",
           "hoverlabel": {
            "namelength": 0
           },
           "hovertemplate": "<b>%{hovertext}</b><br><br>topic=1<br>year_1=2010<br>term=%{text}<br>frequency=%{y}",
           "hovertext": [
            "trial",
            "juror",
            "defendant",
            "plea",
            "prosecution",
            "clause",
            "government",
            "counsel",
            "officer",
            "immunity"
           ],
           "ids": [
            "trial",
            "juror",
            "defendant",
            "plea",
            "prosecution",
            "clause",
            "government",
            "counsel",
            "officer",
            "immunity"
           ],
           "legendgroup": "topic=1",
           "marker": {
            "color": "#EF553B",
            "opacity": 0.5
           },
           "name": "topic=1",
           "offsetgroup": "topic=1",
           "orientation": "v",
           "showlegend": true,
           "text": [
            "trial",
            "juror",
            "defendant",
            "plea",
            "prosecution",
            "clause",
            "government",
            "counsel",
            "officer",
            "immunity"
           ],
           "textposition": "auto",
           "type": "bar",
           "x": [
            "trial",
            "juror",
            "defendant",
            "plea",
            "prosecution",
            "clause",
            "government",
            "counsel",
            "officer",
            "immunity"
           ],
           "xaxis": "x",
           "y": [
            534956,
            283056,
            142432,
            377786,
            404531,
            92832,
            222770,
            123640,
            346705,
            248111
           ],
           "yaxis": "y"
          },
          {
           "alignmentgroup": "True",
           "hoverlabel": {
            "namelength": 0
           },
           "hovertemplate": "<b>%{hovertext}</b><br><br>topic=2<br>year_1=2010<br>term=%{text}<br>frequency=%{y}",
           "hovertext": [
            "juvenile",
            "parole",
            "life parole",
            "graham",
            "prison",
            "offender",
            "life",
            "miller",
            "prisoner",
            "roper"
           ],
           "ids": [
            "juvenile",
            "parole",
            "life parole",
            "graham",
            "prison",
            "offender",
            "life",
            "miller",
            "prisoner",
            "roper"
           ],
           "legendgroup": "topic=2",
           "marker": {
            "color": "#00cc96",
            "opacity": 0.5
           },
           "name": "topic=2",
           "offsetgroup": "topic=2",
           "orientation": "v",
           "showlegend": true,
           "text": [
            "juvenile",
            "parole",
            "life parole",
            "graham",
            "prison",
            "offender",
            "life",
            "miller",
            "prisoner",
            "roper"
           ],
           "textposition": "auto",
           "type": "bar",
           "x": [
            "juvenile",
            "parole",
            "life parole",
            "graham",
            "prison",
            "offender",
            "life",
            "miller",
            "prisoner",
            "roper"
           ],
           "xaxis": "x",
           "y": [
            285439,
            364343,
            298343,
            224563,
            395389,
            345254,
            298128,
            321199,
            395702,
            449308
           ],
           "yaxis": "y"
          },
          {
           "alignmentgroup": "True",
           "hoverlabel": {
            "namelength": 0
           },
           "hovertemplate": "<b>%{hovertext}</b><br><br>topic=3<br>year_1=2010<br>term=%{text}<br>frequency=%{y}",
           "hovertext": [
            "cake",
            "phillips",
            "speech",
            "prayer",
            "wedding",
            "religious",
            "town",
            "hastings",
            "colorado",
            "content"
           ],
           "ids": [
            "cake",
            "phillips",
            "speech",
            "prayer",
            "wedding",
            "religious",
            "town",
            "hastings",
            "colorado",
            "content"
           ],
           "legendgroup": "topic=3",
           "marker": {
            "color": "#ab63fa",
            "opacity": 0.5
           },
           "name": "topic=3",
           "offsetgroup": "topic=3",
           "orientation": "v",
           "showlegend": true,
           "text": [
            "cake",
            "phillips",
            "speech",
            "prayer",
            "wedding",
            "religious",
            "town",
            "hastings",
            "colorado",
            "content"
           ],
           "textposition": "auto",
           "type": "bar",
           "x": [
            "cake",
            "phillips",
            "speech",
            "prayer",
            "wedding",
            "religious",
            "town",
            "hastings",
            "colorado",
            "content"
           ],
           "xaxis": "x",
           "y": [
            74317,
            374639,
            478080,
            387289,
            562969,
            432166,
            532334,
            232420,
            97697,
            117448
           ],
           "yaxis": "y"
          },
          {
           "alignmentgroup": "True",
           "hoverlabel": {
            "namelength": 0
           },
           "hovertemplate": "<b>%{hovertext}</b><br><br>topic=4<br>year_1=2010<br>term=%{text}<br>frequency=%{y}",
           "hovertext": [
            "jurisdiction",
            "mcintyre",
            "daimler",
            "manufacturer",
            "contact",
            "personal jurisdiction",
            "nicastro",
            "forum",
            "uk",
            "new jersey"
           ],
           "ids": [
            "jurisdiction",
            "mcintyre",
            "daimler",
            "manufacturer",
            "contact",
            "personal jurisdiction",
            "nicastro",
            "forum",
            "uk",
            "new jersey"
           ],
           "legendgroup": "topic=4",
           "marker": {
            "color": "#FFA15A",
            "opacity": 0.5
           },
           "name": "topic=4",
           "offsetgroup": "topic=4",
           "orientation": "v",
           "showlegend": true,
           "text": [
            "jurisdiction",
            "mcintyre",
            "daimler",
            "manufacturer",
            "contact",
            "personal jurisdiction",
            "nicastro",
            "forum",
            "uk",
            "new jersey"
           ],
           "textposition": "auto",
           "type": "bar",
           "x": [
            "jurisdiction",
            "mcintyre",
            "daimler",
            "manufacturer",
            "contact",
            "personal jurisdiction",
            "nicastro",
            "forum",
            "uk",
            "new jersey"
           ],
           "xaxis": "x",
           "y": [
            281990,
            314590,
            135703,
            310096,
            116530,
            373324,
            334346,
            212447,
            539573,
            333429
           ],
           "yaxis": "y"
          },
          {
           "alignmentgroup": "True",
           "hoverlabel": {
            "namelength": 0
           },
           "hovertemplate": "<b>%{hovertext}</b><br><br>topic=5<br>year_1=2010<br>term=%{text}<br>frequency=%{y}",
           "hovertext": [
            "tax",
            "taxpayer",
            "flast",
            "winn",
            "tax credit",
            "religious",
            "expenditure",
            "tuition",
            "school tuition"
           ],
           "ids": [
            "tax",
            "taxpayer",
            "flast",
            "winn",
            "tax credit",
            "religious",
            "expenditure",
            "tuition",
            "school tuition"
           ],
           "legendgroup": "topic=5",
           "marker": {
            "color": "#19d3f3",
            "opacity": 0.5
           },
           "name": "topic=5",
           "offsetgroup": "topic=5",
           "orientation": "v",
           "showlegend": true,
           "text": [
            "tax",
            "taxpayer",
            "flast",
            "winn",
            "tax credit",
            "religious",
            "expenditure",
            "tuition",
            "school tuition"
           ],
           "textposition": "auto",
           "type": "bar",
           "x": [
            "tax",
            "taxpayer",
            "flast",
            "winn",
            "tax credit",
            "religious",
            "expenditure",
            "tuition",
            "school tuition"
           ],
           "xaxis": "x",
           "y": [
            499905,
            500138,
            206854,
            568039,
            499932,
            432166,
            193018,
            537690,
            454562
           ],
           "yaxis": "y"
          }
         ],
         "name": "2010"
        }
       ],
       "layout": {
        "barmode": "relative",
        "height": 600,
        "legend": {
         "tracegroupgap": 0
        },
        "margin": {
         "t": 60
        },
        "sliders": [
         {
          "active": 0,
          "currentvalue": {
           "prefix": "year_1="
          },
          "len": 0.9,
          "pad": {
           "b": 10,
           "t": 60
          },
          "steps": [
           {
            "args": [
             [
              "1880"
             ],
             {
              "frame": {
               "duration": 0,
               "redraw": true
              },
              "fromcurrent": true,
              "mode": "immediate",
              "transition": {
               "duration": 0,
               "easing": "linear"
              }
             }
            ],
            "label": "1880",
            "method": "animate"
           },
           {
            "args": [
             [
              "1890"
             ],
             {
              "frame": {
               "duration": 0,
               "redraw": true
              },
              "fromcurrent": true,
              "mode": "immediate",
              "transition": {
               "duration": 0,
               "easing": "linear"
              }
             }
            ],
            "label": "1890",
            "method": "animate"
           },
           {
            "args": [
             [
              "1900"
             ],
             {
              "frame": {
               "duration": 0,
               "redraw": true
              },
              "fromcurrent": true,
              "mode": "immediate",
              "transition": {
               "duration": 0,
               "easing": "linear"
              }
             }
            ],
            "label": "1900",
            "method": "animate"
           },
           {
            "args": [
             [
              "1910"
             ],
             {
              "frame": {
               "duration": 0,
               "redraw": true
              },
              "fromcurrent": true,
              "mode": "immediate",
              "transition": {
               "duration": 0,
               "easing": "linear"
              }
             }
            ],
            "label": "1910",
            "method": "animate"
           },
           {
            "args": [
             [
              "1920"
             ],
             {
              "frame": {
               "duration": 0,
               "redraw": true
              },
              "fromcurrent": true,
              "mode": "immediate",
              "transition": {
               "duration": 0,
               "easing": "linear"
              }
             }
            ],
            "label": "1920",
            "method": "animate"
           },
           {
            "args": [
             [
              "1930"
             ],
             {
              "frame": {
               "duration": 0,
               "redraw": true
              },
              "fromcurrent": true,
              "mode": "immediate",
              "transition": {
               "duration": 0,
               "easing": "linear"
              }
             }
            ],
            "label": "1930",
            "method": "animate"
           },
           {
            "args": [
             [
              "1940"
             ],
             {
              "frame": {
               "duration": 0,
               "redraw": true
              },
              "fromcurrent": true,
              "mode": "immediate",
              "transition": {
               "duration": 0,
               "easing": "linear"
              }
             }
            ],
            "label": "1940",
            "method": "animate"
           },
           {
            "args": [
             [
              "1950"
             ],
             {
              "frame": {
               "duration": 0,
               "redraw": true
              },
              "fromcurrent": true,
              "mode": "immediate",
              "transition": {
               "duration": 0,
               "easing": "linear"
              }
             }
            ],
            "label": "1950",
            "method": "animate"
           },
           {
            "args": [
             [
              "1960"
             ],
             {
              "frame": {
               "duration": 0,
               "redraw": true
              },
              "fromcurrent": true,
              "mode": "immediate",
              "transition": {
               "duration": 0,
               "easing": "linear"
              }
             }
            ],
            "label": "1960",
            "method": "animate"
           },
           {
            "args": [
             [
              "1970"
             ],
             {
              "frame": {
               "duration": 0,
               "redraw": true
              },
              "fromcurrent": true,
              "mode": "immediate",
              "transition": {
               "duration": 0,
               "easing": "linear"
              }
             }
            ],
            "label": "1970",
            "method": "animate"
           },
           {
            "args": [
             [
              "1980"
             ],
             {
              "frame": {
               "duration": 0,
               "redraw": true
              },
              "fromcurrent": true,
              "mode": "immediate",
              "transition": {
               "duration": 0,
               "easing": "linear"
              }
             }
            ],
            "label": "1980",
            "method": "animate"
           },
           {
            "args": [
             [
              "1990"
             ],
             {
              "frame": {
               "duration": 0,
               "redraw": true
              },
              "fromcurrent": true,
              "mode": "immediate",
              "transition": {
               "duration": 0,
               "easing": "linear"
              }
             }
            ],
            "label": "1990",
            "method": "animate"
           },
           {
            "args": [
             [
              "2000"
             ],
             {
              "frame": {
               "duration": 0,
               "redraw": true
              },
              "fromcurrent": true,
              "mode": "immediate",
              "transition": {
               "duration": 0,
               "easing": "linear"
              }
             }
            ],
            "label": "2000",
            "method": "animate"
           },
           {
            "args": [
             [
              "2010"
             ],
             {
              "frame": {
               "duration": 0,
               "redraw": true
              },
              "fromcurrent": true,
              "mode": "immediate",
              "transition": {
               "duration": 0,
               "easing": "linear"
              }
             }
            ],
            "label": "2010",
            "method": "animate"
           }
          ],
          "x": 0.1,
          "xanchor": "left",
          "y": 0,
          "yanchor": "top"
         }
        ],
        "template": {
         "data": {
          "bar": [
           {
            "error_x": {
             "color": "#f2f5fa"
            },
            "error_y": {
             "color": "#f2f5fa"
            },
            "marker": {
             "line": {
              "color": "rgb(17,17,17)",
              "width": 0.5
             }
            },
            "type": "bar"
           }
          ],
          "barpolar": [
           {
            "marker": {
             "line": {
              "color": "rgb(17,17,17)",
              "width": 0.5
             }
            },
            "type": "barpolar"
           }
          ],
          "carpet": [
           {
            "aaxis": {
             "endlinecolor": "#A2B1C6",
             "gridcolor": "#506784",
             "linecolor": "#506784",
             "minorgridcolor": "#506784",
             "startlinecolor": "#A2B1C6"
            },
            "baxis": {
             "endlinecolor": "#A2B1C6",
             "gridcolor": "#506784",
             "linecolor": "#506784",
             "minorgridcolor": "#506784",
             "startlinecolor": "#A2B1C6"
            },
            "type": "carpet"
           }
          ],
          "choropleth": [
           {
            "colorbar": {
             "outlinewidth": 0,
             "ticks": ""
            },
            "type": "choropleth"
           }
          ],
          "contour": [
           {
            "colorbar": {
             "outlinewidth": 0,
             "ticks": ""
            },
            "colorscale": [
             [
              0,
              "#0d0887"
             ],
             [
              0.1111111111111111,
              "#46039f"
             ],
             [
              0.2222222222222222,
              "#7201a8"
             ],
             [
              0.3333333333333333,
              "#9c179e"
             ],
             [
              0.4444444444444444,
              "#bd3786"
             ],
             [
              0.5555555555555556,
              "#d8576b"
             ],
             [
              0.6666666666666666,
              "#ed7953"
             ],
             [
              0.7777777777777778,
              "#fb9f3a"
             ],
             [
              0.8888888888888888,
              "#fdca26"
             ],
             [
              1,
              "#f0f921"
             ]
            ],
            "type": "contour"
           }
          ],
          "contourcarpet": [
           {
            "colorbar": {
             "outlinewidth": 0,
             "ticks": ""
            },
            "type": "contourcarpet"
           }
          ],
          "heatmap": [
           {
            "colorbar": {
             "outlinewidth": 0,
             "ticks": ""
            },
            "colorscale": [
             [
              0,
              "#0d0887"
             ],
             [
              0.1111111111111111,
              "#46039f"
             ],
             [
              0.2222222222222222,
              "#7201a8"
             ],
             [
              0.3333333333333333,
              "#9c179e"
             ],
             [
              0.4444444444444444,
              "#bd3786"
             ],
             [
              0.5555555555555556,
              "#d8576b"
             ],
             [
              0.6666666666666666,
              "#ed7953"
             ],
             [
              0.7777777777777778,
              "#fb9f3a"
             ],
             [
              0.8888888888888888,
              "#fdca26"
             ],
             [
              1,
              "#f0f921"
             ]
            ],
            "type": "heatmap"
           }
          ],
          "heatmapgl": [
           {
            "colorbar": {
             "outlinewidth": 0,
             "ticks": ""
            },
            "colorscale": [
             [
              0,
              "#0d0887"
             ],
             [
              0.1111111111111111,
              "#46039f"
             ],
             [
              0.2222222222222222,
              "#7201a8"
             ],
             [
              0.3333333333333333,
              "#9c179e"
             ],
             [
              0.4444444444444444,
              "#bd3786"
             ],
             [
              0.5555555555555556,
              "#d8576b"
             ],
             [
              0.6666666666666666,
              "#ed7953"
             ],
             [
              0.7777777777777778,
              "#fb9f3a"
             ],
             [
              0.8888888888888888,
              "#fdca26"
             ],
             [
              1,
              "#f0f921"
             ]
            ],
            "type": "heatmapgl"
           }
          ],
          "histogram": [
           {
            "marker": {
             "colorbar": {
              "outlinewidth": 0,
              "ticks": ""
             }
            },
            "type": "histogram"
           }
          ],
          "histogram2d": [
           {
            "colorbar": {
             "outlinewidth": 0,
             "ticks": ""
            },
            "colorscale": [
             [
              0,
              "#0d0887"
             ],
             [
              0.1111111111111111,
              "#46039f"
             ],
             [
              0.2222222222222222,
              "#7201a8"
             ],
             [
              0.3333333333333333,
              "#9c179e"
             ],
             [
              0.4444444444444444,
              "#bd3786"
             ],
             [
              0.5555555555555556,
              "#d8576b"
             ],
             [
              0.6666666666666666,
              "#ed7953"
             ],
             [
              0.7777777777777778,
              "#fb9f3a"
             ],
             [
              0.8888888888888888,
              "#fdca26"
             ],
             [
              1,
              "#f0f921"
             ]
            ],
            "type": "histogram2d"
           }
          ],
          "histogram2dcontour": [
           {
            "colorbar": {
             "outlinewidth": 0,
             "ticks": ""
            },
            "colorscale": [
             [
              0,
              "#0d0887"
             ],
             [
              0.1111111111111111,
              "#46039f"
             ],
             [
              0.2222222222222222,
              "#7201a8"
             ],
             [
              0.3333333333333333,
              "#9c179e"
             ],
             [
              0.4444444444444444,
              "#bd3786"
             ],
             [
              0.5555555555555556,
              "#d8576b"
             ],
             [
              0.6666666666666666,
              "#ed7953"
             ],
             [
              0.7777777777777778,
              "#fb9f3a"
             ],
             [
              0.8888888888888888,
              "#fdca26"
             ],
             [
              1,
              "#f0f921"
             ]
            ],
            "type": "histogram2dcontour"
           }
          ],
          "mesh3d": [
           {
            "colorbar": {
             "outlinewidth": 0,
             "ticks": ""
            },
            "type": "mesh3d"
           }
          ],
          "parcoords": [
           {
            "line": {
             "colorbar": {
              "outlinewidth": 0,
              "ticks": ""
             }
            },
            "type": "parcoords"
           }
          ],
          "scatter": [
           {
            "marker": {
             "line": {
              "color": "#283442"
             }
            },
            "type": "scatter"
           }
          ],
          "scatter3d": [
           {
            "line": {
             "colorbar": {
              "outlinewidth": 0,
              "ticks": ""
             }
            },
            "marker": {
             "colorbar": {
              "outlinewidth": 0,
              "ticks": ""
             }
            },
            "type": "scatter3d"
           }
          ],
          "scattercarpet": [
           {
            "marker": {
             "colorbar": {
              "outlinewidth": 0,
              "ticks": ""
             }
            },
            "type": "scattercarpet"
           }
          ],
          "scattergeo": [
           {
            "marker": {
             "colorbar": {
              "outlinewidth": 0,
              "ticks": ""
             }
            },
            "type": "scattergeo"
           }
          ],
          "scattergl": [
           {
            "marker": {
             "line": {
              "color": "#283442"
             }
            },
            "type": "scattergl"
           }
          ],
          "scattermapbox": [
           {
            "marker": {
             "colorbar": {
              "outlinewidth": 0,
              "ticks": ""
             }
            },
            "type": "scattermapbox"
           }
          ],
          "scatterpolar": [
           {
            "marker": {
             "colorbar": {
              "outlinewidth": 0,
              "ticks": ""
             }
            },
            "type": "scatterpolar"
           }
          ],
          "scatterpolargl": [
           {
            "marker": {
             "colorbar": {
              "outlinewidth": 0,
              "ticks": ""
             }
            },
            "type": "scatterpolargl"
           }
          ],
          "scatterternary": [
           {
            "marker": {
             "colorbar": {
              "outlinewidth": 0,
              "ticks": ""
             }
            },
            "type": "scatterternary"
           }
          ],
          "surface": [
           {
            "colorbar": {
             "outlinewidth": 0,
             "ticks": ""
            },
            "colorscale": [
             [
              0,
              "#0d0887"
             ],
             [
              0.1111111111111111,
              "#46039f"
             ],
             [
              0.2222222222222222,
              "#7201a8"
             ],
             [
              0.3333333333333333,
              "#9c179e"
             ],
             [
              0.4444444444444444,
              "#bd3786"
             ],
             [
              0.5555555555555556,
              "#d8576b"
             ],
             [
              0.6666666666666666,
              "#ed7953"
             ],
             [
              0.7777777777777778,
              "#fb9f3a"
             ],
             [
              0.8888888888888888,
              "#fdca26"
             ],
             [
              1,
              "#f0f921"
             ]
            ],
            "type": "surface"
           }
          ],
          "table": [
           {
            "cells": {
             "fill": {
              "color": "#506784"
             },
             "line": {
              "color": "rgb(17,17,17)"
             }
            },
            "header": {
             "fill": {
              "color": "#2a3f5f"
             },
             "line": {
              "color": "rgb(17,17,17)"
             }
            },
            "type": "table"
           }
          ]
         },
         "layout": {
          "annotationdefaults": {
           "arrowcolor": "#f2f5fa",
           "arrowhead": 0,
           "arrowwidth": 1
          },
          "colorscale": {
           "diverging": [
            [
             0,
             "#8e0152"
            ],
            [
             0.1,
             "#c51b7d"
            ],
            [
             0.2,
             "#de77ae"
            ],
            [
             0.3,
             "#f1b6da"
            ],
            [
             0.4,
             "#fde0ef"
            ],
            [
             0.5,
             "#f7f7f7"
            ],
            [
             0.6,
             "#e6f5d0"
            ],
            [
             0.7,
             "#b8e186"
            ],
            [
             0.8,
             "#7fbc41"
            ],
            [
             0.9,
             "#4d9221"
            ],
            [
             1,
             "#276419"
            ]
           ],
           "sequential": [
            [
             0,
             "#0d0887"
            ],
            [
             0.1111111111111111,
             "#46039f"
            ],
            [
             0.2222222222222222,
             "#7201a8"
            ],
            [
             0.3333333333333333,
             "#9c179e"
            ],
            [
             0.4444444444444444,
             "#bd3786"
            ],
            [
             0.5555555555555556,
             "#d8576b"
            ],
            [
             0.6666666666666666,
             "#ed7953"
            ],
            [
             0.7777777777777778,
             "#fb9f3a"
            ],
            [
             0.8888888888888888,
             "#fdca26"
            ],
            [
             1,
             "#f0f921"
            ]
           ],
           "sequentialminus": [
            [
             0,
             "#0d0887"
            ],
            [
             0.1111111111111111,
             "#46039f"
            ],
            [
             0.2222222222222222,
             "#7201a8"
            ],
            [
             0.3333333333333333,
             "#9c179e"
            ],
            [
             0.4444444444444444,
             "#bd3786"
            ],
            [
             0.5555555555555556,
             "#d8576b"
            ],
            [
             0.6666666666666666,
             "#ed7953"
            ],
            [
             0.7777777777777778,
             "#fb9f3a"
            ],
            [
             0.8888888888888888,
             "#fdca26"
            ],
            [
             1,
             "#f0f921"
            ]
           ]
          },
          "colorway": [
           "#636efa",
           "#EF553B",
           "#00cc96",
           "#ab63fa",
           "#FFA15A",
           "#19d3f3",
           "#FF6692",
           "#B6E880",
           "#FF97FF",
           "#FECB52"
          ],
          "font": {
           "color": "#f2f5fa"
          },
          "geo": {
           "bgcolor": "rgb(17,17,17)",
           "lakecolor": "rgb(17,17,17)",
           "landcolor": "rgb(17,17,17)",
           "showlakes": true,
           "showland": true,
           "subunitcolor": "#506784"
          },
          "hoverlabel": {
           "align": "left"
          },
          "hovermode": "closest",
          "mapbox": {
           "style": "dark"
          },
          "paper_bgcolor": "rgb(17,17,17)",
          "plot_bgcolor": "rgb(17,17,17)",
          "polar": {
           "angularaxis": {
            "gridcolor": "#506784",
            "linecolor": "#506784",
            "ticks": ""
           },
           "bgcolor": "rgb(17,17,17)",
           "radialaxis": {
            "gridcolor": "#506784",
            "linecolor": "#506784",
            "ticks": ""
           }
          },
          "scene": {
           "xaxis": {
            "backgroundcolor": "rgb(17,17,17)",
            "gridcolor": "#506784",
            "gridwidth": 2,
            "linecolor": "#506784",
            "showbackground": true,
            "ticks": "",
            "zerolinecolor": "#C8D4E3"
           },
           "yaxis": {
            "backgroundcolor": "rgb(17,17,17)",
            "gridcolor": "#506784",
            "gridwidth": 2,
            "linecolor": "#506784",
            "showbackground": true,
            "ticks": "",
            "zerolinecolor": "#C8D4E3"
           },
           "zaxis": {
            "backgroundcolor": "rgb(17,17,17)",
            "gridcolor": "#506784",
            "gridwidth": 2,
            "linecolor": "#506784",
            "showbackground": true,
            "ticks": "",
            "zerolinecolor": "#C8D4E3"
           }
          },
          "shapedefaults": {
           "line": {
            "color": "#f2f5fa"
           }
          },
          "sliderdefaults": {
           "bgcolor": "#C8D4E3",
           "bordercolor": "rgb(17,17,17)",
           "borderwidth": 1,
           "tickwidth": 0
          },
          "ternary": {
           "aaxis": {
            "gridcolor": "#506784",
            "linecolor": "#506784",
            "ticks": ""
           },
           "baxis": {
            "gridcolor": "#506784",
            "linecolor": "#506784",
            "ticks": ""
           },
           "bgcolor": "rgb(17,17,17)",
           "caxis": {
            "gridcolor": "#506784",
            "linecolor": "#506784",
            "ticks": ""
           }
          },
          "title": {
           "x": 0.05
          },
          "updatemenudefaults": {
           "bgcolor": "#506784",
           "borderwidth": 0
          },
          "xaxis": {
           "automargin": true,
           "gridcolor": "#283442",
           "linecolor": "#506784",
           "ticks": "",
           "zerolinecolor": "#283442",
           "zerolinewidth": 2
          },
          "yaxis": {
           "automargin": true,
           "gridcolor": "#283442",
           "linecolor": "#506784",
           "ticks": "",
           "zerolinecolor": "#283442",
           "zerolinewidth": 2
          }
         }
        },
        "updatemenus": [
         {
          "buttons": [
           {
            "args": [
             null,
             {
              "frame": {
               "duration": 500,
               "redraw": true
              },
              "fromcurrent": true,
              "mode": "immediate",
              "transition": {
               "duration": 500,
               "easing": "linear"
              }
             }
            ],
            "label": "&#9654;",
            "method": "animate"
           },
           {
            "args": [
             [
              null
             ],
             {
              "frame": {
               "duration": 0,
               "redraw": true
              },
              "fromcurrent": true,
              "mode": "immediate",
              "transition": {
               "duration": 0,
               "easing": "linear"
              }
             }
            ],
            "label": "&#9724;",
            "method": "animate"
           }
          ],
          "direction": "left",
          "pad": {
           "r": 10,
           "t": 70
          },
          "showactive": false,
          "type": "buttons",
          "x": 0.1,
          "xanchor": "right",
          "y": 0,
          "yanchor": "top"
         }
        ],
        "xaxis": {
         "anchor": "y",
         "domain": [
          0,
          0.98
         ],
         "range": [
          -1,
          36
         ],
         "showticklabels": false,
         "title": {
          "text": "term"
         }
        },
        "yaxis": {
         "anchor": "x",
         "domain": [
          0,
          1
         ],
         "range": [
          0,
          1137535
         ],
         "title": {
          "text": "frequency"
         }
        }
       }
      },
      "text/html": [
       "<div>\n",
       "        \n",
       "        \n",
       "            <div id=\"ebadfa84-15c1-43d9-801d-02ee75002bbd\" class=\"plotly-graph-div\" style=\"height:600px; width:100%;\"></div>\n",
       "            <script type=\"text/javascript\">\n",
       "                require([\"plotly\"], function(Plotly) {\n",
       "                    window.PLOTLYENV=window.PLOTLYENV || {};\n",
       "                    \n",
       "                if (document.getElementById(\"ebadfa84-15c1-43d9-801d-02ee75002bbd\")) {\n",
       "                    Plotly.newPlot(\n",
       "                        'ebadfa84-15c1-43d9-801d-02ee75002bbd',\n",
       "                        [{\"alignmentgroup\": \"True\", \"hoverlabel\": {\"namelength\": 0}, \"hovertemplate\": \"<b>%{hovertext}</b><br><br>topic=0<br>year_1=1880<br>term=%{text}<br>frequency=%{y}\", \"hovertext\": [\"railway\"], \"ids\": [\"railway\"], \"legendgroup\": \"topic=0\", \"marker\": {\"color\": \"#636efa\", \"opacity\": 0.5}, \"name\": \"topic=0\", \"offsetgroup\": \"topic=0\", \"orientation\": \"v\", \"showlegend\": true, \"text\": [\"railway\"], \"textposition\": \"auto\", \"type\": \"bar\", \"x\": [\"railway\"], \"xaxis\": \"x\", \"y\": [62322], \"yaxis\": \"y\"}, {\"alignmentgroup\": \"True\", \"hoverlabel\": {\"namelength\": 0}, \"hovertemplate\": \"<b>%{hovertext}</b><br><br>topic=1<br>year_1=1880<br>term=%{text}<br>frequency=%{y}\", \"hovertext\": [\"trial\"], \"ids\": [\"trial\"], \"legendgroup\": \"topic=1\", \"marker\": {\"color\": \"#EF553B\", \"opacity\": 0.5}, \"name\": \"topic=1\", \"offsetgroup\": \"topic=1\", \"orientation\": \"v\", \"showlegend\": true, \"text\": [\"trial\"], \"textposition\": \"auto\", \"type\": \"bar\", \"x\": [\"trial\"], \"xaxis\": \"x\", \"y\": [76010], \"yaxis\": \"y\"}, {\"alignmentgroup\": \"True\", \"hoverlabel\": {\"namelength\": 0}, \"hovertemplate\": \"<b>%{hovertext}</b><br><br>topic=2<br>year_1=1880<br>term=%{text}<br>frequency=%{y}\", \"hovertext\": [\"yarbrough\", \"vote\"], \"ids\": [\"yarbrough\", \"vote\"], \"legendgroup\": \"topic=2\", \"marker\": {\"color\": \"#00cc96\", \"opacity\": 0.5}, \"name\": \"topic=2\", \"offsetgroup\": \"topic=2\", \"orientation\": \"v\", \"showlegend\": true, \"text\": [\"yarbrough\", \"vote\"], \"textposition\": \"auto\", \"type\": \"bar\", \"x\": [\"yarbrough\", \"vote\"], \"xaxis\": \"x\", \"y\": [80934, 79212], \"yaxis\": \"y\"}, {\"alignmentgroup\": \"True\", \"hoverlabel\": {\"namelength\": 0}, \"hovertemplate\": \"<b>%{hovertext}</b><br><br>topic=3<br>year_1=1880<br>term=%{text}<br>frequency=%{y}\", \"hovertext\": [\"tax\", \"value\"], \"ids\": [\"tax\", \"value\"], \"legendgroup\": \"topic=3\", \"marker\": {\"color\": \"#ab63fa\", \"opacity\": 0.5}, \"name\": \"topic=3\", \"offsetgroup\": \"topic=3\", \"orientation\": \"v\", \"showlegend\": true, \"text\": [\"tax\", \"value\"], \"textposition\": \"auto\", \"type\": \"bar\", \"x\": [\"tax\", \"value\"], \"xaxis\": \"x\", \"y\": [73343, 78095], \"yaxis\": \"y\"}, {\"alignmentgroup\": \"True\", \"hoverlabel\": {\"namelength\": 0}, \"hovertemplate\": \"<b>%{hovertext}</b><br><br>topic=4<br>year_1=1880<br>term=%{text}<br>frequency=%{y}\", \"hovertext\": [\"virginia\", \"slavery\", \"section\"], \"ids\": [\"virginia\", \"slavery\", \"section\"], \"legendgroup\": \"topic=4\", \"marker\": {\"color\": \"#FFA15A\", \"opacity\": 0.5}, \"name\": \"topic=4\", \"offsetgroup\": \"topic=4\", \"orientation\": \"v\", \"showlegend\": true, \"text\": [\"virginia\", \"slavery\", \"section\"], \"textposition\": \"auto\", \"type\": \"bar\", \"x\": [\"virginia\", \"slavery\", \"section\"], \"xaxis\": \"x\", \"y\": [78807, 69933, 68086], \"yaxis\": \"y\"}, {\"alignmentgroup\": \"True\", \"hoverlabel\": {\"namelength\": 0}, \"hovertemplate\": \"<b>%{hovertext}</b><br><br>topic=5<br>year_1=1880<br>term=%{text}<br>frequency=%{y}\", \"hovertext\": [\"regulation\"], \"ids\": [\"regulation\"], \"legendgroup\": \"topic=5\", \"marker\": {\"color\": \"#19d3f3\", \"opacity\": 0.5}, \"name\": \"topic=5\", \"offsetgroup\": \"topic=5\", \"orientation\": \"v\", \"showlegend\": true, \"text\": [\"regulation\"], \"textposition\": \"auto\", \"type\": \"bar\", \"x\": [\"regulation\"], \"xaxis\": \"x\", \"y\": [64065], \"yaxis\": \"y\"}],\n",
       "                        {\"barmode\": \"relative\", \"height\": 600, \"legend\": {\"tracegroupgap\": 0}, \"margin\": {\"t\": 60}, \"sliders\": [{\"active\": 0, \"currentvalue\": {\"prefix\": \"year_1=\"}, \"len\": 0.9, \"pad\": {\"b\": 10, \"t\": 60}, \"steps\": [{\"args\": [[\"1880\"], {\"frame\": {\"duration\": 0, \"redraw\": true}, \"fromcurrent\": true, \"mode\": \"immediate\", \"transition\": {\"duration\": 0, \"easing\": \"linear\"}}], \"label\": \"1880\", \"method\": \"animate\"}, {\"args\": [[\"1890\"], {\"frame\": {\"duration\": 0, \"redraw\": true}, \"fromcurrent\": true, \"mode\": \"immediate\", \"transition\": {\"duration\": 0, \"easing\": \"linear\"}}], \"label\": \"1890\", \"method\": \"animate\"}, {\"args\": [[\"1900\"], {\"frame\": {\"duration\": 0, \"redraw\": true}, \"fromcurrent\": true, \"mode\": \"immediate\", \"transition\": {\"duration\": 0, \"easing\": \"linear\"}}], \"label\": \"1900\", \"method\": \"animate\"}, {\"args\": [[\"1910\"], {\"frame\": {\"duration\": 0, \"redraw\": true}, \"fromcurrent\": true, \"mode\": \"immediate\", \"transition\": {\"duration\": 0, \"easing\": \"linear\"}}], \"label\": \"1910\", \"method\": \"animate\"}, {\"args\": [[\"1920\"], {\"frame\": {\"duration\": 0, \"redraw\": true}, \"fromcurrent\": true, \"mode\": \"immediate\", \"transition\": {\"duration\": 0, \"easing\": \"linear\"}}], \"label\": \"1920\", \"method\": \"animate\"}, {\"args\": [[\"1930\"], {\"frame\": {\"duration\": 0, \"redraw\": true}, \"fromcurrent\": true, \"mode\": \"immediate\", \"transition\": {\"duration\": 0, \"easing\": \"linear\"}}], \"label\": \"1930\", \"method\": \"animate\"}, {\"args\": [[\"1940\"], {\"frame\": {\"duration\": 0, \"redraw\": true}, \"fromcurrent\": true, \"mode\": \"immediate\", \"transition\": {\"duration\": 0, \"easing\": \"linear\"}}], \"label\": \"1940\", \"method\": \"animate\"}, {\"args\": [[\"1950\"], {\"frame\": {\"duration\": 0, \"redraw\": true}, \"fromcurrent\": true, \"mode\": \"immediate\", \"transition\": {\"duration\": 0, \"easing\": \"linear\"}}], \"label\": \"1950\", \"method\": \"animate\"}, {\"args\": [[\"1960\"], {\"frame\": {\"duration\": 0, \"redraw\": true}, \"fromcurrent\": true, \"mode\": \"immediate\", \"transition\": {\"duration\": 0, \"easing\": \"linear\"}}], \"label\": \"1960\", \"method\": \"animate\"}, {\"args\": [[\"1970\"], {\"frame\": {\"duration\": 0, \"redraw\": true}, \"fromcurrent\": true, \"mode\": \"immediate\", \"transition\": {\"duration\": 0, \"easing\": \"linear\"}}], \"label\": \"1970\", \"method\": \"animate\"}, {\"args\": [[\"1980\"], {\"frame\": {\"duration\": 0, \"redraw\": true}, \"fromcurrent\": true, \"mode\": \"immediate\", \"transition\": {\"duration\": 0, \"easing\": \"linear\"}}], \"label\": \"1980\", \"method\": \"animate\"}, {\"args\": [[\"1990\"], {\"frame\": {\"duration\": 0, \"redraw\": true}, \"fromcurrent\": true, \"mode\": \"immediate\", \"transition\": {\"duration\": 0, \"easing\": \"linear\"}}], \"label\": \"1990\", \"method\": \"animate\"}, {\"args\": [[\"2000\"], {\"frame\": {\"duration\": 0, \"redraw\": true}, \"fromcurrent\": true, \"mode\": \"immediate\", \"transition\": {\"duration\": 0, \"easing\": \"linear\"}}], \"label\": \"2000\", \"method\": \"animate\"}, {\"args\": [[\"2010\"], {\"frame\": {\"duration\": 0, \"redraw\": true}, \"fromcurrent\": true, \"mode\": \"immediate\", \"transition\": {\"duration\": 0, \"easing\": \"linear\"}}], \"label\": \"2010\", \"method\": \"animate\"}], \"x\": 0.1, \"xanchor\": \"left\", \"y\": 0, \"yanchor\": \"top\"}], \"template\": {\"data\": {\"bar\": [{\"error_x\": {\"color\": \"#f2f5fa\"}, \"error_y\": {\"color\": \"#f2f5fa\"}, \"marker\": {\"line\": {\"color\": \"rgb(17,17,17)\", \"width\": 0.5}}, \"type\": \"bar\"}], \"barpolar\": [{\"marker\": {\"line\": {\"color\": \"rgb(17,17,17)\", \"width\": 0.5}}, \"type\": \"barpolar\"}], \"carpet\": [{\"aaxis\": {\"endlinecolor\": \"#A2B1C6\", \"gridcolor\": \"#506784\", \"linecolor\": \"#506784\", \"minorgridcolor\": \"#506784\", \"startlinecolor\": \"#A2B1C6\"}, \"baxis\": {\"endlinecolor\": \"#A2B1C6\", \"gridcolor\": \"#506784\", \"linecolor\": \"#506784\", \"minorgridcolor\": \"#506784\", \"startlinecolor\": \"#A2B1C6\"}, \"type\": \"carpet\"}], \"choropleth\": [{\"colorbar\": {\"outlinewidth\": 0, \"ticks\": \"\"}, \"type\": \"choropleth\"}], \"contour\": [{\"colorbar\": {\"outlinewidth\": 0, \"ticks\": \"\"}, \"colorscale\": [[0.0, \"#0d0887\"], [0.1111111111111111, \"#46039f\"], [0.2222222222222222, \"#7201a8\"], [0.3333333333333333, \"#9c179e\"], [0.4444444444444444, \"#bd3786\"], [0.5555555555555556, \"#d8576b\"], [0.6666666666666666, \"#ed7953\"], [0.7777777777777778, \"#fb9f3a\"], [0.8888888888888888, \"#fdca26\"], [1.0, \"#f0f921\"]], \"type\": \"contour\"}], \"contourcarpet\": [{\"colorbar\": {\"outlinewidth\": 0, \"ticks\": \"\"}, \"type\": \"contourcarpet\"}], \"heatmap\": [{\"colorbar\": {\"outlinewidth\": 0, \"ticks\": \"\"}, \"colorscale\": [[0.0, \"#0d0887\"], [0.1111111111111111, \"#46039f\"], [0.2222222222222222, \"#7201a8\"], [0.3333333333333333, \"#9c179e\"], [0.4444444444444444, \"#bd3786\"], [0.5555555555555556, \"#d8576b\"], [0.6666666666666666, \"#ed7953\"], [0.7777777777777778, \"#fb9f3a\"], [0.8888888888888888, \"#fdca26\"], [1.0, \"#f0f921\"]], \"type\": \"heatmap\"}], \"heatmapgl\": [{\"colorbar\": {\"outlinewidth\": 0, \"ticks\": \"\"}, \"colorscale\": [[0.0, \"#0d0887\"], [0.1111111111111111, \"#46039f\"], [0.2222222222222222, \"#7201a8\"], [0.3333333333333333, \"#9c179e\"], [0.4444444444444444, \"#bd3786\"], [0.5555555555555556, \"#d8576b\"], [0.6666666666666666, \"#ed7953\"], [0.7777777777777778, \"#fb9f3a\"], [0.8888888888888888, \"#fdca26\"], [1.0, \"#f0f921\"]], \"type\": \"heatmapgl\"}], \"histogram\": [{\"marker\": {\"colorbar\": {\"outlinewidth\": 0, \"ticks\": \"\"}}, \"type\": \"histogram\"}], \"histogram2d\": [{\"colorbar\": {\"outlinewidth\": 0, \"ticks\": \"\"}, \"colorscale\": [[0.0, \"#0d0887\"], [0.1111111111111111, \"#46039f\"], [0.2222222222222222, \"#7201a8\"], [0.3333333333333333, \"#9c179e\"], [0.4444444444444444, \"#bd3786\"], [0.5555555555555556, \"#d8576b\"], [0.6666666666666666, \"#ed7953\"], [0.7777777777777778, \"#fb9f3a\"], [0.8888888888888888, \"#fdca26\"], [1.0, \"#f0f921\"]], \"type\": \"histogram2d\"}], \"histogram2dcontour\": [{\"colorbar\": {\"outlinewidth\": 0, \"ticks\": \"\"}, \"colorscale\": [[0.0, \"#0d0887\"], [0.1111111111111111, \"#46039f\"], [0.2222222222222222, \"#7201a8\"], [0.3333333333333333, \"#9c179e\"], [0.4444444444444444, \"#bd3786\"], [0.5555555555555556, \"#d8576b\"], [0.6666666666666666, \"#ed7953\"], [0.7777777777777778, \"#fb9f3a\"], [0.8888888888888888, \"#fdca26\"], [1.0, \"#f0f921\"]], \"type\": \"histogram2dcontour\"}], \"mesh3d\": [{\"colorbar\": {\"outlinewidth\": 0, \"ticks\": \"\"}, \"type\": \"mesh3d\"}], \"parcoords\": [{\"line\": {\"colorbar\": {\"outlinewidth\": 0, \"ticks\": \"\"}}, \"type\": \"parcoords\"}], \"scatter\": [{\"marker\": {\"line\": {\"color\": \"#283442\"}}, \"type\": \"scatter\"}], \"scatter3d\": [{\"line\": {\"colorbar\": {\"outlinewidth\": 0, \"ticks\": \"\"}}, \"marker\": {\"colorbar\": {\"outlinewidth\": 0, \"ticks\": \"\"}}, \"type\": \"scatter3d\"}], \"scattercarpet\": [{\"marker\": {\"colorbar\": {\"outlinewidth\": 0, \"ticks\": \"\"}}, \"type\": \"scattercarpet\"}], \"scattergeo\": [{\"marker\": {\"colorbar\": {\"outlinewidth\": 0, \"ticks\": \"\"}}, \"type\": \"scattergeo\"}], \"scattergl\": [{\"marker\": {\"line\": {\"color\": \"#283442\"}}, \"type\": \"scattergl\"}], \"scattermapbox\": [{\"marker\": {\"colorbar\": {\"outlinewidth\": 0, \"ticks\": \"\"}}, \"type\": \"scattermapbox\"}], \"scatterpolar\": [{\"marker\": {\"colorbar\": {\"outlinewidth\": 0, \"ticks\": \"\"}}, \"type\": \"scatterpolar\"}], \"scatterpolargl\": [{\"marker\": {\"colorbar\": {\"outlinewidth\": 0, \"ticks\": \"\"}}, \"type\": \"scatterpolargl\"}], \"scatterternary\": [{\"marker\": {\"colorbar\": {\"outlinewidth\": 0, \"ticks\": \"\"}}, \"type\": \"scatterternary\"}], \"surface\": [{\"colorbar\": {\"outlinewidth\": 0, \"ticks\": \"\"}, \"colorscale\": [[0.0, \"#0d0887\"], [0.1111111111111111, \"#46039f\"], [0.2222222222222222, \"#7201a8\"], [0.3333333333333333, \"#9c179e\"], [0.4444444444444444, \"#bd3786\"], [0.5555555555555556, \"#d8576b\"], [0.6666666666666666, \"#ed7953\"], [0.7777777777777778, \"#fb9f3a\"], [0.8888888888888888, \"#fdca26\"], [1.0, \"#f0f921\"]], \"type\": \"surface\"}], \"table\": [{\"cells\": {\"fill\": {\"color\": \"#506784\"}, \"line\": {\"color\": \"rgb(17,17,17)\"}}, \"header\": {\"fill\": {\"color\": \"#2a3f5f\"}, \"line\": {\"color\": \"rgb(17,17,17)\"}}, \"type\": \"table\"}]}, \"layout\": {\"annotationdefaults\": {\"arrowcolor\": \"#f2f5fa\", \"arrowhead\": 0, \"arrowwidth\": 1}, \"colorscale\": {\"diverging\": [[0, \"#8e0152\"], [0.1, \"#c51b7d\"], [0.2, \"#de77ae\"], [0.3, \"#f1b6da\"], [0.4, \"#fde0ef\"], [0.5, \"#f7f7f7\"], [0.6, \"#e6f5d0\"], [0.7, \"#b8e186\"], [0.8, \"#7fbc41\"], [0.9, \"#4d9221\"], [1, \"#276419\"]], \"sequential\": [[0.0, \"#0d0887\"], [0.1111111111111111, \"#46039f\"], [0.2222222222222222, \"#7201a8\"], [0.3333333333333333, \"#9c179e\"], [0.4444444444444444, \"#bd3786\"], [0.5555555555555556, \"#d8576b\"], [0.6666666666666666, \"#ed7953\"], [0.7777777777777778, \"#fb9f3a\"], [0.8888888888888888, \"#fdca26\"], [1.0, \"#f0f921\"]], \"sequentialminus\": [[0.0, \"#0d0887\"], [0.1111111111111111, \"#46039f\"], [0.2222222222222222, \"#7201a8\"], [0.3333333333333333, \"#9c179e\"], [0.4444444444444444, \"#bd3786\"], [0.5555555555555556, \"#d8576b\"], [0.6666666666666666, \"#ed7953\"], [0.7777777777777778, \"#fb9f3a\"], [0.8888888888888888, \"#fdca26\"], [1.0, \"#f0f921\"]]}, \"colorway\": [\"#636efa\", \"#EF553B\", \"#00cc96\", \"#ab63fa\", \"#FFA15A\", \"#19d3f3\", \"#FF6692\", \"#B6E880\", \"#FF97FF\", \"#FECB52\"], \"font\": {\"color\": \"#f2f5fa\"}, \"geo\": {\"bgcolor\": \"rgb(17,17,17)\", \"lakecolor\": \"rgb(17,17,17)\", \"landcolor\": \"rgb(17,17,17)\", \"showlakes\": true, \"showland\": true, \"subunitcolor\": \"#506784\"}, \"hoverlabel\": {\"align\": \"left\"}, \"hovermode\": \"closest\", \"mapbox\": {\"style\": \"dark\"}, \"paper_bgcolor\": \"rgb(17,17,17)\", \"plot_bgcolor\": \"rgb(17,17,17)\", \"polar\": {\"angularaxis\": {\"gridcolor\": \"#506784\", \"linecolor\": \"#506784\", \"ticks\": \"\"}, \"bgcolor\": \"rgb(17,17,17)\", \"radialaxis\": {\"gridcolor\": \"#506784\", \"linecolor\": \"#506784\", \"ticks\": \"\"}}, \"scene\": {\"xaxis\": {\"backgroundcolor\": \"rgb(17,17,17)\", \"gridcolor\": \"#506784\", \"gridwidth\": 2, \"linecolor\": \"#506784\", \"showbackground\": true, \"ticks\": \"\", \"zerolinecolor\": \"#C8D4E3\"}, \"yaxis\": {\"backgroundcolor\": \"rgb(17,17,17)\", \"gridcolor\": \"#506784\", \"gridwidth\": 2, \"linecolor\": \"#506784\", \"showbackground\": true, \"ticks\": \"\", \"zerolinecolor\": \"#C8D4E3\"}, \"zaxis\": {\"backgroundcolor\": \"rgb(17,17,17)\", \"gridcolor\": \"#506784\", \"gridwidth\": 2, \"linecolor\": \"#506784\", \"showbackground\": true, \"ticks\": \"\", \"zerolinecolor\": \"#C8D4E3\"}}, \"shapedefaults\": {\"line\": {\"color\": \"#f2f5fa\"}}, \"sliderdefaults\": {\"bgcolor\": \"#C8D4E3\", \"bordercolor\": \"rgb(17,17,17)\", \"borderwidth\": 1, \"tickwidth\": 0}, \"ternary\": {\"aaxis\": {\"gridcolor\": \"#506784\", \"linecolor\": \"#506784\", \"ticks\": \"\"}, \"baxis\": {\"gridcolor\": \"#506784\", \"linecolor\": \"#506784\", \"ticks\": \"\"}, \"bgcolor\": \"rgb(17,17,17)\", \"caxis\": {\"gridcolor\": \"#506784\", \"linecolor\": \"#506784\", \"ticks\": \"\"}}, \"title\": {\"x\": 0.05}, \"updatemenudefaults\": {\"bgcolor\": \"#506784\", \"borderwidth\": 0}, \"xaxis\": {\"automargin\": true, \"gridcolor\": \"#283442\", \"linecolor\": \"#506784\", \"ticks\": \"\", \"zerolinecolor\": \"#283442\", \"zerolinewidth\": 2}, \"yaxis\": {\"automargin\": true, \"gridcolor\": \"#283442\", \"linecolor\": \"#506784\", \"ticks\": \"\", \"zerolinecolor\": \"#283442\", \"zerolinewidth\": 2}}}, \"updatemenus\": [{\"buttons\": [{\"args\": [null, {\"frame\": {\"duration\": 500, \"redraw\": true}, \"fromcurrent\": true, \"mode\": \"immediate\", \"transition\": {\"duration\": 500, \"easing\": \"linear\"}}], \"label\": \"&#9654;\", \"method\": \"animate\"}, {\"args\": [[null], {\"frame\": {\"duration\": 0, \"redraw\": true}, \"fromcurrent\": true, \"mode\": \"immediate\", \"transition\": {\"duration\": 0, \"easing\": \"linear\"}}], \"label\": \"&#9724;\", \"method\": \"animate\"}], \"direction\": \"left\", \"pad\": {\"r\": 10, \"t\": 70}, \"showactive\": false, \"type\": \"buttons\", \"x\": 0.1, \"xanchor\": \"right\", \"y\": 0, \"yanchor\": \"top\"}], \"xaxis\": {\"anchor\": \"y\", \"domain\": [0.0, 0.98], \"range\": [-1, 36], \"showticklabels\": false, \"title\": {\"text\": \"term\"}}, \"yaxis\": {\"anchor\": \"x\", \"domain\": [0.0, 1.0], \"range\": [0, 1137535], \"title\": {\"text\": \"frequency\"}}},\n",
       "                        {\"responsive\": true}\n",
       "                    ).then(function(){\n",
       "                            Plotly.addFrames('ebadfa84-15c1-43d9-801d-02ee75002bbd', [{\"data\": [{\"alignmentgroup\": \"True\", \"hoverlabel\": {\"namelength\": 0}, \"hovertemplate\": \"<b>%{hovertext}</b><br><br>topic=0<br>year_1=1880<br>term=%{text}<br>frequency=%{y}\", \"hovertext\": [\"railway\"], \"ids\": [\"railway\"], \"legendgroup\": \"topic=0\", \"marker\": {\"color\": \"#636efa\", \"opacity\": 0.5}, \"name\": \"topic=0\", \"offsetgroup\": \"topic=0\", \"orientation\": \"v\", \"showlegend\": true, \"text\": [\"railway\"], \"textposition\": \"auto\", \"x\": [\"railway\"], \"xaxis\": \"x\", \"y\": [62322], \"yaxis\": \"y\", \"type\": \"bar\"}, {\"alignmentgroup\": \"True\", \"hoverlabel\": {\"namelength\": 0}, \"hovertemplate\": \"<b>%{hovertext}</b><br><br>topic=1<br>year_1=1880<br>term=%{text}<br>frequency=%{y}\", \"hovertext\": [\"trial\"], \"ids\": [\"trial\"], \"legendgroup\": \"topic=1\", \"marker\": {\"color\": \"#EF553B\", \"opacity\": 0.5}, \"name\": \"topic=1\", \"offsetgroup\": \"topic=1\", \"orientation\": \"v\", \"showlegend\": true, \"text\": [\"trial\"], \"textposition\": \"auto\", \"x\": [\"trial\"], \"xaxis\": \"x\", \"y\": [76010], \"yaxis\": \"y\", \"type\": \"bar\"}, {\"alignmentgroup\": \"True\", \"hoverlabel\": {\"namelength\": 0}, \"hovertemplate\": \"<b>%{hovertext}</b><br><br>topic=2<br>year_1=1880<br>term=%{text}<br>frequency=%{y}\", \"hovertext\": [\"yarbrough\", \"vote\"], \"ids\": [\"yarbrough\", \"vote\"], \"legendgroup\": \"topic=2\", \"marker\": {\"color\": \"#00cc96\", \"opacity\": 0.5}, \"name\": \"topic=2\", \"offsetgroup\": \"topic=2\", \"orientation\": \"v\", \"showlegend\": true, \"text\": [\"yarbrough\", \"vote\"], \"textposition\": \"auto\", \"x\": [\"yarbrough\", \"vote\"], \"xaxis\": \"x\", \"y\": [80934, 79212], \"yaxis\": \"y\", \"type\": \"bar\"}, {\"alignmentgroup\": \"True\", \"hoverlabel\": {\"namelength\": 0}, \"hovertemplate\": \"<b>%{hovertext}</b><br><br>topic=3<br>year_1=1880<br>term=%{text}<br>frequency=%{y}\", \"hovertext\": [\"tax\", \"value\"], \"ids\": [\"tax\", \"value\"], \"legendgroup\": \"topic=3\", \"marker\": {\"color\": \"#ab63fa\", \"opacity\": 0.5}, \"name\": \"topic=3\", \"offsetgroup\": \"topic=3\", \"orientation\": \"v\", \"showlegend\": true, \"text\": [\"tax\", \"value\"], \"textposition\": \"auto\", \"x\": [\"tax\", \"value\"], \"xaxis\": \"x\", \"y\": [73343, 78095], \"yaxis\": \"y\", \"type\": \"bar\"}, {\"alignmentgroup\": \"True\", \"hoverlabel\": {\"namelength\": 0}, \"hovertemplate\": \"<b>%{hovertext}</b><br><br>topic=4<br>year_1=1880<br>term=%{text}<br>frequency=%{y}\", \"hovertext\": [\"virginia\", \"slavery\", \"section\"], \"ids\": [\"virginia\", \"slavery\", \"section\"], \"legendgroup\": \"topic=4\", \"marker\": {\"color\": \"#FFA15A\", \"opacity\": 0.5}, \"name\": \"topic=4\", \"offsetgroup\": \"topic=4\", \"orientation\": \"v\", \"showlegend\": true, \"text\": [\"virginia\", \"slavery\", \"section\"], \"textposition\": \"auto\", \"x\": [\"virginia\", \"slavery\", \"section\"], \"xaxis\": \"x\", \"y\": [78807, 69933, 68086], \"yaxis\": \"y\", \"type\": \"bar\"}, {\"alignmentgroup\": \"True\", \"hoverlabel\": {\"namelength\": 0}, \"hovertemplate\": \"<b>%{hovertext}</b><br><br>topic=5<br>year_1=1880<br>term=%{text}<br>frequency=%{y}\", \"hovertext\": [\"regulation\"], \"ids\": [\"regulation\"], \"legendgroup\": \"topic=5\", \"marker\": {\"color\": \"#19d3f3\", \"opacity\": 0.5}, \"name\": \"topic=5\", \"offsetgroup\": \"topic=5\", \"orientation\": \"v\", \"showlegend\": true, \"text\": [\"regulation\"], \"textposition\": \"auto\", \"x\": [\"regulation\"], \"xaxis\": \"x\", \"y\": [64065], \"yaxis\": \"y\", \"type\": \"bar\"}], \"name\": \"1880\"}, {\"data\": [{\"alignmentgroup\": \"True\", \"hoverlabel\": {\"namelength\": 0}, \"hovertemplate\": \"<b>%{hovertext}</b><br><br>topic=0<br>year_1=1890<br>term=%{text}<br>frequency=%{y}\", \"hovertext\": [\"property\", \"land\", \"improvement\", \"street\", \"question\", \"lot\", \"tax\", \"public\"], \"ids\": [\"property\", \"land\", \"improvement\", \"street\", \"question\", \"lot\", \"tax\", \"public\"], \"legendgroup\": \"topic=0\", \"marker\": {\"color\": \"#636efa\", \"opacity\": 0.5}, \"name\": \"topic=0\", \"offsetgroup\": \"topic=0\", \"orientation\": \"v\", \"showlegend\": true, \"text\": [\"property\", \"land\", \"improvement\", \"street\", \"question\", \"lot\", \"tax\", \"public\"], \"textposition\": \"auto\", \"x\": [\"property\", \"land\", \"improvement\", \"street\", \"question\", \"lot\", \"tax\", \"public\"], \"xaxis\": \"x\", \"y\": [127094, 91710, 80558, 153949, 131944, 97723, 158087, 130170], \"yaxis\": \"y\", \"type\": \"bar\"}, {\"alignmentgroup\": \"True\", \"hoverlabel\": {\"namelength\": 0}, \"hovertemplate\": \"<b>%{hovertext}</b><br><br>topic=1<br>year_1=1890<br>term=%{text}<br>frequency=%{y}\", \"hovertext\": [\"railroad\", \"rate\", \"property\", \"road\", \"public\", \"power\", \"tax\"], \"ids\": [\"railroad\", \"rate\", \"property\", \"road\", \"public\", \"power\", \"tax\"], \"legendgroup\": \"topic=1\", \"marker\": {\"color\": \"#EF553B\", \"opacity\": 0.5}, \"name\": \"topic=1\", \"offsetgroup\": \"topic=1\", \"orientation\": \"v\", \"showlegend\": true, \"text\": [\"railroad\", \"rate\", \"property\", \"road\", \"public\", \"power\", \"tax\"], \"textposition\": \"auto\", \"x\": [\"railroad\", \"rate\", \"property\", \"road\", \"public\", \"power\", \"tax\"], \"xaxis\": \"x\", \"y\": [133114, 134214, 127094, 144363, 130170, 120990, 158087], \"yaxis\": \"y\", \"type\": \"bar\"}, {\"alignmentgroup\": \"True\", \"hoverlabel\": {\"namelength\": 0}, \"hovertemplate\": \"<b>%{hovertext}</b><br><br>topic=2<br>year_1=1890<br>term=%{text}<br>frequency=%{y}\", \"hovertext\": [\"jury\", \"verdict\", \"trial\", \"tennessee\", \"train\", \"fact\", \"new trial\", \"motion\", \"grant new\"], \"ids\": [\"jury\", \"verdict\", \"trial\", \"tennessee\", \"train\", \"fact\", \"new trial\", \"motion\", \"grant new\"], \"legendgroup\": \"topic=2\", \"marker\": {\"color\": \"#00cc96\", \"opacity\": 0.5}, \"name\": \"topic=2\", \"offsetgroup\": \"topic=2\", \"orientation\": \"v\", \"showlegend\": true, \"text\": [\"jury\", \"verdict\", \"trial\", \"tennessee\", \"train\", \"fact\", \"new trial\", \"motion\", \"grant new\"], \"textposition\": \"auto\", \"x\": [\"jury\", \"verdict\", \"trial\", \"tennessee\", \"train\", \"fact\", \"new trial\", \"motion\", \"grant new\"], \"xaxis\": \"x\", \"y\": [89505, 170504, 165412, 159987, 164485, 65383, 107047, 104261, 73814], \"yaxis\": \"y\", \"type\": \"bar\"}, {\"alignmentgroup\": \"True\", \"hoverlabel\": {\"namelength\": 0}, \"hovertemplate\": \"<b>%{hovertext}</b><br><br>topic=3<br>year_1=1890<br>term=%{text}<br>frequency=%{y}\", \"hovertext\": [\"power\", \"liquor\", \"person\", \"race\"], \"ids\": [\"power\", \"liquor\", \"person\", \"race\"], \"legendgroup\": \"topic=3\", \"marker\": {\"color\": \"#ab63fa\", \"opacity\": 0.5}, \"name\": \"topic=3\", \"offsetgroup\": \"topic=3\", \"orientation\": \"v\", \"showlegend\": true, \"text\": [\"power\", \"liquor\", \"person\", \"race\"], \"textposition\": \"auto\", \"x\": [\"power\", \"liquor\", \"person\", \"race\"], \"xaxis\": \"x\", \"y\": [120990, 96602, 117779, 132888], \"yaxis\": \"y\", \"type\": \"bar\"}, {\"alignmentgroup\": \"True\", \"hoverlabel\": {\"namelength\": 0}, \"hovertemplate\": \"<b>%{hovertext}</b><br><br>topic=4<br>year_1=1890<br>term=%{text}<br>frequency=%{y}\", \"hovertext\": [\"tax\", \"taxation\", \"property\", \"value\", \"share\", \"national bank\", \"stock\", \"national\"], \"ids\": [\"tax\", \"taxation\", \"property\", \"value\", \"share\", \"national bank\", \"stock\", \"national\"], \"legendgroup\": \"topic=4\", \"marker\": {\"color\": \"#FFA15A\", \"opacity\": 0.5}, \"name\": \"topic=4\", \"offsetgroup\": \"topic=4\", \"orientation\": \"v\", \"showlegend\": true, \"text\": [\"tax\", \"taxation\", \"property\", \"value\", \"share\", \"national bank\", \"stock\", \"national\"], \"textposition\": \"auto\", \"x\": [\"tax\", \"taxation\", \"property\", \"value\", \"share\", \"national bank\", \"stock\", \"national\"], \"xaxis\": \"x\", \"y\": [158087, 158911, 127094, 169986, 149123, 105004, 153473, 104998], \"yaxis\": \"y\", \"type\": \"bar\"}, {\"alignmentgroup\": \"True\", \"hoverlabel\": {\"namelength\": 0}, \"hovertemplate\": \"<b>%{hovertext}</b><br><br>topic=5<br>year_1=1890<br>term=%{text}<br>frequency=%{y}\", \"hovertext\": [\"writ\", \"trial\", \"jury\", \"question\", \"judge\", \"offence\", \"jurisdiction\"], \"ids\": [\"writ\", \"trial\", \"jury\", \"question\", \"judge\", \"offence\", \"jurisdiction\"], \"legendgroup\": \"topic=5\", \"marker\": {\"color\": \"#19d3f3\", \"opacity\": 0.5}, \"name\": \"topic=5\", \"offsetgroup\": \"topic=5\", \"orientation\": \"v\", \"showlegend\": true, \"text\": [\"writ\", \"trial\", \"jury\", \"question\", \"judge\", \"offence\", \"jurisdiction\"], \"textposition\": \"auto\", \"x\": [\"writ\", \"trial\", \"jury\", \"question\", \"judge\", \"offence\", \"jurisdiction\"], \"xaxis\": \"x\", \"y\": [175716, 165412, 89505, 131944, 88227, 109662, 88936], \"yaxis\": \"y\", \"type\": \"bar\"}], \"name\": \"1890\"}, {\"data\": [{\"alignmentgroup\": \"True\", \"hoverlabel\": {\"namelength\": 0}, \"hovertemplate\": \"<b>%{hovertext}</b><br><br>topic=0<br>year_1=1900<br>term=%{text}<br>frequency=%{y}\", \"hovertext\": [\"depot\", \"village\", \"station\", \"emmons\", \"passenger\", \"railroad\", \"fare\", \"railway\", \"road\", \"depot station\"], \"ids\": [\"depot\", \"village\", \"station\", \"emmons\", \"passenger\", \"railroad\", \"fare\", \"railway\", \"road\", \"depot station\"], \"legendgroup\": \"topic=0\", \"marker\": {\"color\": \"#636efa\", \"opacity\": 0.5}, \"name\": \"topic=0\", \"offsetgroup\": \"topic=0\", \"orientation\": \"v\", \"showlegend\": true, \"text\": [\"depot\", \"village\", \"station\", \"emmons\", \"passenger\", \"railroad\", \"fare\", \"railway\", \"road\", \"depot station\"], \"textposition\": \"auto\", \"x\": [\"depot\", \"village\", \"station\", \"emmons\", \"passenger\", \"railroad\", \"fare\", \"railway\", \"road\", \"depot station\"], \"xaxis\": \"x\", \"y\": [70756, 245996, 220036, 82479, 166728, 191096, 95518, 191717, 207027, 70777], \"yaxis\": \"y\", \"type\": \"bar\"}, {\"alignmentgroup\": \"True\", \"hoverlabel\": {\"namelength\": 0}, \"hovertemplate\": \"<b>%{hovertext}</b><br><br>topic=1<br>year_1=1900<br>term=%{text}<br>frequency=%{y}\", \"hovertext\": [\"improvement\", \"pave\", \"street\", \"property\", \"land\", \"owner\"], \"ids\": [\"improvement\", \"pave\", \"street\", \"property\", \"land\", \"owner\"], \"legendgroup\": \"topic=1\", \"marker\": {\"color\": \"#EF553B\", \"opacity\": 0.5}, \"name\": \"topic=1\", \"offsetgroup\": \"topic=1\", \"orientation\": \"v\", \"showlegend\": true, \"text\": [\"improvement\", \"pave\", \"street\", \"property\", \"land\", \"owner\"], \"textposition\": \"auto\", \"x\": [\"improvement\", \"pave\", \"street\", \"property\", \"land\", \"owner\"], \"xaxis\": \"x\", \"y\": [116548, 167156, 221506, 183387, 132304, 163374], \"yaxis\": \"y\", \"type\": \"bar\"}, {\"alignmentgroup\": \"True\", \"hoverlabel\": {\"namelength\": 0}, \"hovertemplate\": \"<b>%{hovertext}</b><br><br>topic=2<br>year_1=1900<br>term=%{text}<br>frequency=%{y}\", \"hovertext\": [\"power\", \"water\", \"railroad\", \"public\"], \"ids\": [\"power\", \"water\", \"railroad\", \"public\"], \"legendgroup\": \"topic=2\", \"marker\": {\"color\": \"#00cc96\", \"opacity\": 0.5}, \"name\": \"topic=2\", \"offsetgroup\": \"topic=2\", \"orientation\": \"v\", \"showlegend\": true, \"text\": [\"power\", \"water\", \"railroad\", \"public\"], \"textposition\": \"auto\", \"x\": [\"power\", \"water\", \"railroad\", \"public\"], \"xaxis\": \"x\", \"y\": [174652, 248525, 191096, 187309], \"yaxis\": \"y\", \"type\": \"bar\"}, {\"alignmentgroup\": \"True\", \"hoverlabel\": {\"namelength\": 0}, \"hovertemplate\": \"<b>%{hovertext}</b><br><br>topic=3<br>year_1=1900<br>term=%{text}<br>frequency=%{y}\", \"hovertext\": [\"tax\", \"property\", \"taxation\", \"stock\", \"value\", \"land\", \"sale\", \"estate\"], \"ids\": [\"tax\", \"property\", \"taxation\", \"stock\", \"value\", \"land\", \"sale\", \"estate\"], \"legendgroup\": \"topic=3\", \"marker\": {\"color\": \"#ab63fa\", \"opacity\": 0.5}, \"name\": \"topic=3\", \"offsetgroup\": \"topic=3\", \"orientation\": \"v\", \"showlegend\": true, \"text\": [\"tax\", \"property\", \"taxation\", \"stock\", \"value\", \"land\", \"sale\", \"estate\"], \"textposition\": \"auto\", \"x\": [\"tax\", \"property\", \"taxation\", \"stock\", \"value\", \"land\", \"sale\", \"estate\"], \"xaxis\": \"x\", \"y\": [227479, 183387, 228317, 220689, 244243, 132304, 208467, 87546], \"yaxis\": \"y\", \"type\": \"bar\"}, {\"alignmentgroup\": \"True\", \"hoverlabel\": {\"namelength\": 0}, \"hovertemplate\": \"<b>%{hovertext}</b><br><br>topic=4<br>year_1=1900<br>term=%{text}<br>frequency=%{y}\", \"hovertext\": [\"insurance\", \"policy\", \"life\", \"missouri\", \"life insurance\", \"insured\"], \"ids\": [\"insurance\", \"policy\", \"life\", \"missouri\", \"life insurance\", \"insured\"], \"legendgroup\": \"topic=4\", \"marker\": {\"color\": \"#FFA15A\", \"opacity\": 0.5}, \"name\": \"topic=4\", \"offsetgroup\": \"topic=4\", \"orientation\": \"v\", \"showlegend\": true, \"text\": [\"insurance\", \"policy\", \"life\", \"missouri\", \"life insurance\", \"insured\"], \"textposition\": \"auto\", \"x\": [\"insurance\", \"policy\", \"life\", \"missouri\", \"life insurance\", \"insured\"], \"xaxis\": \"x\", \"y\": [122522, 172973, 137387, 148901, 137446, 122737], \"yaxis\": \"y\", \"type\": \"bar\"}, {\"alignmentgroup\": \"True\", \"hoverlabel\": {\"namelength\": 0}, \"hovertemplate\": \"<b>%{hovertext}</b><br><br>topic=5<br>year_1=1900<br>term=%{text}<br>frequency=%{y}\", \"hovertext\": [\"trial\", \"jury\", \"defendant\", \"jurisdiction\", \"person\", \"motion\"], \"ids\": [\"trial\", \"jury\", \"defendant\", \"jurisdiction\", \"person\", \"motion\"], \"legendgroup\": \"topic=5\", \"marker\": {\"color\": \"#19d3f3\", \"opacity\": 0.5}, \"name\": \"topic=5\", \"offsetgroup\": \"topic=5\", \"orientation\": \"v\", \"showlegend\": true, \"text\": [\"trial\", \"jury\", \"defendant\", \"jurisdiction\", \"person\", \"motion\"], \"textposition\": \"auto\", \"x\": [\"trial\", \"jury\", \"defendant\", \"jurisdiction\", \"person\", \"motion\"], \"xaxis\": \"x\", \"y\": [237278, 129234, 67412, 128397, 169842, 150449], \"yaxis\": \"y\", \"type\": \"bar\"}], \"name\": \"1900\"}, {\"data\": [{\"alignmentgroup\": \"True\", \"hoverlabel\": {\"namelength\": 0}, \"hovertemplate\": \"<b>%{hovertext}</b><br><br>topic=0<br>year_1=1910<br>term=%{text}<br>frequency=%{y}\", \"hovertext\": [\"tax\", \"property\", \"insurance\", \"kentucky\", \"taxation\", \"question\", \"policy\"], \"ids\": [\"tax\", \"property\", \"insurance\", \"kentucky\", \"taxation\", \"question\", \"policy\"], \"legendgroup\": \"topic=0\", \"marker\": {\"color\": \"#636efa\", \"opacity\": 0.5}, \"name\": \"topic=0\", \"offsetgroup\": \"topic=0\", \"orientation\": \"v\", \"showlegend\": true, \"text\": [\"tax\", \"property\", \"insurance\", \"kentucky\", \"taxation\", \"question\", \"policy\"], \"textposition\": \"auto\", \"x\": [\"tax\", \"property\", \"insurance\", \"kentucky\", \"taxation\", \"question\", \"policy\"], \"xaxis\": \"x\", \"y\": [226546, 182034, 120810, 128459, 227368, 188223, 171901], \"yaxis\": \"y\", \"type\": \"bar\"}, {\"alignmentgroup\": \"True\", \"hoverlabel\": {\"namelength\": 0}, \"hovertemplate\": \"<b>%{hovertext}</b><br><br>topic=1<br>year_1=1910<br>term=%{text}<br>frequency=%{y}\", \"hovertext\": [\"sale\", \"liquor\", \"sell\", \"defendant\", \"power\", \"package\", \"food\", \"person\", \"dealer\", \"question\"], \"ids\": [\"sale\", \"liquor\", \"sell\", \"defendant\", \"power\", \"package\", \"food\", \"person\", \"dealer\", \"question\"], \"legendgroup\": \"topic=1\", \"marker\": {\"color\": \"#EF553B\", \"opacity\": 0.5}, \"name\": \"topic=1\", \"offsetgroup\": \"topic=1\", \"orientation\": \"v\", \"showlegend\": true, \"text\": [\"sale\", \"liquor\", \"sell\", \"defendant\", \"power\", \"package\", \"food\", \"person\", \"dealer\", \"question\"], \"textposition\": \"auto\", \"x\": [\"sale\", \"liquor\", \"sell\", \"defendant\", \"power\", \"package\", \"food\", \"person\", \"dealer\", \"question\"], \"xaxis\": \"x\", \"y\": [207664, 137159, 210705, 66902, 173389, 163132, 98830, 168734, 63626, 188223], \"yaxis\": \"y\", \"type\": \"bar\"}, {\"alignmentgroup\": \"True\", \"hoverlabel\": {\"namelength\": 0}, \"hovertemplate\": \"<b>%{hovertext}</b><br><br>topic=2<br>year_1=1910<br>term=%{text}<br>frequency=%{y}\", \"hovertext\": [\"employer\", \"employee\", \"hour\", \"employment\", \"labor\", \"injury\", \"workman\", \"work\", \"negligence\"], \"ids\": [\"employer\", \"employee\", \"hour\", \"employment\", \"labor\", \"injury\", \"workman\", \"work\", \"negligence\"], \"legendgroup\": \"topic=2\", \"marker\": {\"color\": \"#00cc96\", \"opacity\": 0.5}, \"name\": \"topic=2\", \"offsetgroup\": \"topic=2\", \"orientation\": \"v\", \"showlegend\": true, \"text\": [\"employer\", \"employee\", \"hour\", \"employment\", \"labor\", \"injury\", \"workman\", \"work\", \"negligence\"], \"textposition\": \"auto\", \"x\": [\"employer\", \"employee\", \"hour\", \"employment\", \"labor\", \"injury\", \"workman\", \"work\", \"negligence\"], \"xaxis\": \"x\", \"y\": [82327, 82147, 111986, 82745, 129976, 119158, 250375, 249959, 152029], \"yaxis\": \"y\", \"type\": \"bar\"}, {\"alignmentgroup\": \"True\", \"hoverlabel\": {\"namelength\": 0}, \"hovertemplate\": \"<b>%{hovertext}</b><br><br>topic=3<br>year_1=1910<br>term=%{text}<br>frequency=%{y}\", \"hovertext\": [\"land\", \"water\", \"river\", \"irrigation\", \"public\", \"owner\", \"question\"], \"ids\": [\"land\", \"water\", \"river\", \"irrigation\", \"public\", \"owner\", \"question\"], \"legendgroup\": \"topic=3\", \"marker\": {\"color\": \"#ab63fa\", \"opacity\": 0.5}, \"name\": \"topic=3\", \"offsetgroup\": \"topic=3\", \"orientation\": \"v\", \"showlegend\": true, \"text\": [\"land\", \"water\", \"river\", \"irrigation\", \"public\", \"owner\", \"question\"], \"textposition\": \"auto\", \"x\": [\"land\", \"water\", \"river\", \"irrigation\", \"public\", \"owner\", \"question\"], \"xaxis\": \"x\", \"y\": [130494, 246470, 205536, 124097, 185721, 162500, 188223], \"yaxis\": \"y\", \"type\": \"bar\"}, {\"alignmentgroup\": \"True\", \"hoverlabel\": {\"namelength\": 0}, \"hovertemplate\": \"<b>%{hovertext}</b><br><br>topic=4<br>year_1=1910<br>term=%{text}<br>frequency=%{y}\", \"hovertext\": [\"railroad\", \"rate\", \"order\", \"railway\", \"passenger\", \"line\", \"train\"], \"ids\": [\"railroad\", \"rate\", \"order\", \"railway\", \"passenger\", \"line\", \"train\"], \"legendgroup\": \"topic=4\", \"marker\": {\"color\": \"#FFA15A\", \"opacity\": 0.5}, \"name\": \"topic=4\", \"offsetgroup\": \"topic=4\", \"orientation\": \"v\", \"showlegend\": true, \"text\": [\"railroad\", \"rate\", \"order\", \"railway\", \"passenger\", \"line\", \"train\"], \"textposition\": \"auto\", \"x\": [\"railroad\", \"rate\", \"order\", \"railway\", \"passenger\", \"line\", \"train\"], \"xaxis\": \"x\", \"y\": [189513, 191102, 159591, 190218, 165493, 136699, 234344], \"yaxis\": \"y\", \"type\": \"bar\"}, {\"alignmentgroup\": \"True\", \"hoverlabel\": {\"namelength\": 0}, \"hovertemplate\": \"<b>%{hovertext}</b><br><br>topic=5<br>year_1=1910<br>term=%{text}<br>frequency=%{y}\", \"hovertext\": [\"ordinance\", \"street\", \"power\", \"water\", \"property\", \"railway\", \"grant\", \"franchise\", \"public\"], \"ids\": [\"ordinance\", \"street\", \"power\", \"water\", \"property\", \"railway\", \"grant\", \"franchise\", \"public\"], \"legendgroup\": \"topic=5\", \"marker\": {\"color\": \"#19d3f3\", \"opacity\": 0.5}, \"name\": \"topic=5\", \"offsetgroup\": \"topic=5\", \"orientation\": \"v\", \"showlegend\": true, \"text\": [\"ordinance\", \"street\", \"power\", \"water\", \"property\", \"railway\", \"grant\", \"franchise\", \"public\"], \"textposition\": \"auto\", \"x\": [\"ordinance\", \"street\", \"power\", \"water\", \"property\", \"railway\", \"grant\", \"franchise\", \"public\"], \"xaxis\": \"x\", \"y\": [160260, 220242, 173389, 246470, 182034, 190218, 105428, 100708, 185721], \"yaxis\": \"y\", \"type\": \"bar\"}], \"name\": \"1910\"}, {\"data\": [{\"alignmentgroup\": \"True\", \"hoverlabel\": {\"namelength\": 0}, \"hovertemplate\": \"<b>%{hovertext}</b><br><br>topic=0<br>year_1=1920<br>term=%{text}<br>frequency=%{y}\", \"hovertext\": [\"rate\", \"order\", \"water\", \"public\", \"service\", \"ordinance\", \"street\"], \"ids\": [\"rate\", \"order\", \"water\", \"public\", \"service\", \"ordinance\", \"street\"], \"legendgroup\": \"topic=0\", \"marker\": {\"color\": \"#636efa\", \"opacity\": 0.5}, \"name\": \"topic=0\", \"offsetgroup\": \"topic=0\", \"orientation\": \"v\", \"showlegend\": true, \"text\": [\"rate\", \"order\", \"water\", \"public\", \"service\", \"ordinance\", \"street\"], \"textposition\": \"auto\", \"x\": [\"rate\", \"order\", \"water\", \"public\", \"service\", \"ordinance\", \"street\"], \"xaxis\": \"x\", \"y\": [172836, 145210, 223064, 168424, 191747, 145816, 199442], \"yaxis\": \"y\", \"type\": \"bar\"}, {\"alignmentgroup\": \"True\", \"hoverlabel\": {\"namelength\": 0}, \"hovertemplate\": \"<b>%{hovertext}</b><br><br>topic=1<br>year_1=1920<br>term=%{text}<br>frequency=%{y}\", \"hovertext\": [\"trust\", \"tax\", \"trustee\", \"transfer\", \"property\", \"gift\", \"estate\"], \"ids\": [\"trust\", \"tax\", \"trustee\", \"transfer\", \"property\", \"gift\", \"estate\"], \"legendgroup\": \"topic=1\", \"marker\": {\"color\": \"#EF553B\", \"opacity\": 0.5}, \"name\": \"topic=1\", \"offsetgroup\": \"topic=1\", \"orientation\": \"v\", \"showlegend\": true, \"text\": [\"trust\", \"tax\", \"trustee\", \"transfer\", \"property\", \"gift\", \"estate\"], \"textposition\": \"auto\", \"x\": [\"trust\", \"tax\", \"trustee\", \"transfer\", \"property\", \"gift\", \"estate\"], \"xaxis\": \"x\", \"y\": [213727, 204902, 213935, 212145, 165047, 94920, 79288], \"yaxis\": \"y\", \"type\": \"bar\"}, {\"alignmentgroup\": \"True\", \"hoverlabel\": {\"namelength\": 0}, \"hovertemplate\": \"<b>%{hovertext}</b><br><br>topic=2<br>year_1=1920<br>term=%{text}<br>frequency=%{y}\", \"hovertext\": [\"syndicalism\", \"language\", \"teach\", \"taught\", \"school\", \"sabotage\", \"organization\"], \"ids\": [\"syndicalism\", \"language\", \"teach\", \"taught\", \"school\", \"sabotage\", \"organization\"], \"legendgroup\": \"topic=2\", \"marker\": {\"color\": \"#00cc96\", \"opacity\": 0.5}, \"name\": \"topic=2\", \"offsetgroup\": \"topic=2\", \"orientation\": \"v\", \"showlegend\": true, \"text\": [\"syndicalism\", \"language\", \"teach\", \"taught\", \"school\", \"sabotage\", \"organization\"], \"textposition\": \"auto\", \"x\": [\"syndicalism\", \"language\", \"teach\", \"taught\", \"school\", \"sabotage\", \"organization\"], \"xaxis\": \"x\", \"y\": [204456, 119399, 206515, 204865, 188670, 187230, 146475], \"yaxis\": \"y\", \"type\": \"bar\"}, {\"alignmentgroup\": \"True\", \"hoverlabel\": {\"namelength\": 0}, \"hovertemplate\": \"<b>%{hovertext}</b><br><br>topic=3<br>year_1=1920<br>term=%{text}<br>frequency=%{y}\", \"hovertext\": [\"public\", \"power\", \"employee\", \"question\", \"use\", \"land\", \"property\"], \"ids\": [\"public\", \"power\", \"employee\", \"question\", \"use\", \"land\", \"property\"], \"legendgroup\": \"topic=3\", \"marker\": {\"color\": \"#ab63fa\", \"opacity\": 0.5}, \"name\": \"topic=3\", \"offsetgroup\": \"topic=3\", \"orientation\": \"v\", \"showlegend\": true, \"text\": [\"public\", \"power\", \"employee\", \"question\", \"use\", \"land\", \"property\"], \"textposition\": \"auto\", \"x\": [\"public\", \"power\", \"employee\", \"question\", \"use\", \"land\", \"property\"], \"xaxis\": \"x\", \"y\": [168424, 157041, 74151, 170672, 217239, 118857, 165047], \"yaxis\": \"y\", \"type\": \"bar\"}, {\"alignmentgroup\": \"True\", \"hoverlabel\": {\"namelength\": 0}, \"hovertemplate\": \"<b>%{hovertext}</b><br><br>topic=4<br>year_1=1920<br>term=%{text}<br>frequency=%{y}\", \"hovertext\": [\"tax\", \"property\", \"income\", \"value\", \"stock\", \"taxation\", \"interstate\"], \"ids\": [\"tax\", \"property\", \"income\", \"value\", \"stock\", \"taxation\", \"interstate\"], \"legendgroup\": \"topic=4\", \"marker\": {\"color\": \"#FFA15A\", \"opacity\": 0.5}, \"name\": \"topic=4\", \"offsetgroup\": \"topic=4\", \"orientation\": \"v\", \"showlegend\": true, \"text\": [\"tax\", \"property\", \"income\", \"value\", \"stock\", \"taxation\", \"interstate\"], \"textposition\": \"auto\", \"x\": [\"tax\", \"property\", \"income\", \"value\", \"stock\", \"taxation\", \"interstate\"], \"xaxis\": \"x\", \"y\": [204902, 165047, 106261, 219080, 198753, 205882, 111700], \"yaxis\": \"y\", \"type\": \"bar\"}, {\"alignmentgroup\": \"True\", \"hoverlabel\": {\"namelength\": 0}, \"hovertemplate\": \"<b>%{hovertext}</b><br><br>topic=5<br>year_1=1920<br>term=%{text}<br>frequency=%{y}\", \"hovertext\": [\"improvement\", \"tax\", \"land\", \"drainage\", \"property\"], \"ids\": [\"improvement\", \"tax\", \"land\", \"drainage\", \"property\"], \"legendgroup\": \"topic=5\", \"marker\": {\"color\": \"#19d3f3\", \"opacity\": 0.5}, \"name\": \"topic=5\", \"offsetgroup\": \"topic=5\", \"orientation\": \"v\", \"showlegend\": true, \"text\": [\"improvement\", \"tax\", \"land\", \"drainage\", \"property\"], \"textposition\": \"auto\", \"x\": [\"improvement\", \"tax\", \"land\", \"drainage\", \"property\"], \"xaxis\": \"x\", \"y\": [105221, 204902, 118857, 70483, 165047], \"yaxis\": \"y\", \"type\": \"bar\"}], \"name\": \"1920\"}, {\"data\": [{\"alignmentgroup\": \"True\", \"hoverlabel\": {\"namelength\": 0}, \"hovertemplate\": \"<b>%{hovertext}</b><br><br>topic=0<br>year_1=1930<br>term=%{text}<br>frequency=%{y}\", \"hovertext\": [\"highway\", \"vehicle\", \"motor\", \"transportation\", \"private carrier\", \"public\", \"motor vehicle\"], \"ids\": [\"highway\", \"vehicle\", \"motor\", \"transportation\", \"private carrier\", \"public\", \"motor vehicle\"], \"legendgroup\": \"topic=0\", \"marker\": {\"color\": \"#636efa\", \"opacity\": 0.5}, \"name\": \"topic=0\", \"offsetgroup\": \"topic=0\", \"orientation\": \"v\", \"showlegend\": true, \"text\": [\"highway\", \"vehicle\", \"motor\", \"transportation\", \"private carrier\", \"public\", \"motor vehicle\"], \"textposition\": \"auto\", \"x\": [\"highway\", \"vehicle\", \"motor\", \"transportation\", \"private carrier\", \"public\", \"motor vehicle\"], \"xaxis\": \"x\", \"y\": [132409, 287621, 177308, 277248, 211155, 219612, 177342], \"yaxis\": \"y\", \"type\": \"bar\"}, {\"alignmentgroup\": \"True\", \"hoverlabel\": {\"namelength\": 0}, \"hovertemplate\": \"<b>%{hovertext}</b><br><br>topic=1<br>year_1=1930<br>term=%{text}<br>frequency=%{y}\", \"hovertext\": [\"tax\", \"property\", \"trust\", \"income\", \"taxation\", \"death\", \"estate\", \"situs\", \"intangible\", \"decedent\"], \"ids\": [\"tax\", \"property\", \"trust\", \"income\", \"taxation\", \"death\", \"estate\", \"situs\", \"intangible\", \"decedent\"], \"legendgroup\": \"topic=1\", \"marker\": {\"color\": \"#EF553B\", \"opacity\": 0.5}, \"name\": \"topic=1\", \"offsetgroup\": \"topic=1\", \"orientation\": \"v\", \"showlegend\": true, \"text\": [\"tax\", \"property\", \"trust\", \"income\", \"taxation\", \"death\", \"estate\", \"situs\", \"intangible\", \"decedent\"], \"textposition\": \"auto\", \"x\": [\"tax\", \"property\", \"trust\", \"income\", \"taxation\", \"death\", \"estate\", \"situs\", \"intangible\", \"decedent\"], \"xaxis\": \"x\", \"y\": [267406, 215727, 278982, 139281, 268710, 76227, 103608, 253705, 145450, 76848], \"yaxis\": \"y\", \"type\": \"bar\"}, {\"alignmentgroup\": \"True\", \"hoverlabel\": {\"namelength\": 0}, \"hovertemplate\": \"<b>%{hovertext}</b><br><br>topic=2<br>year_1=1930<br>term=%{text}<br>frequency=%{y}\", \"hovertext\": [\"milk\", \"power\", \"contract\", \"question\", \"order\", \"new\", \"defendant\", \"provision\", \"public\"], \"ids\": [\"milk\", \"power\", \"contract\", \"question\", \"order\", \"new\", \"defendant\", \"provision\", \"public\"], \"legendgroup\": \"topic=2\", \"marker\": {\"color\": \"#00cc96\", \"opacity\": 0.5}, \"name\": \"topic=2\", \"offsetgroup\": \"topic=2\", \"orientation\": \"v\", \"showlegend\": true, \"text\": [\"milk\", \"power\", \"contract\", \"question\", \"order\", \"new\", \"defendant\", \"provision\", \"public\"], \"textposition\": \"auto\", \"x\": [\"milk\", \"power\", \"contract\", \"question\", \"order\", \"new\", \"defendant\", \"provision\", \"public\"], \"xaxis\": \"x\", \"y\": [173852, 204669, 66160, 222393, 189161, 180593, 79635, 218818, 219612], \"yaxis\": \"y\", \"type\": \"bar\"}, {\"alignmentgroup\": \"True\", \"hoverlabel\": {\"namelength\": 0}, \"hovertemplate\": \"<b>%{hovertext}</b><br><br>topic=3<br>year_1=1930<br>term=%{text}<br>frequency=%{y}\", \"hovertext\": [\"tax\", \"ordinance\", \"street\", \"corporation\", \"store\", \"property\", \"franchise\", \"public\"], \"ids\": [\"tax\", \"ordinance\", \"street\", \"corporation\", \"store\", \"property\", \"franchise\", \"public\"], \"legendgroup\": \"topic=3\", \"marker\": {\"color\": \"#ab63fa\", \"opacity\": 0.5}, \"name\": \"topic=3\", \"offsetgroup\": \"topic=3\", \"orientation\": \"v\", \"showlegend\": true, \"text\": [\"tax\", \"ordinance\", \"street\", \"corporation\", \"store\", \"property\", \"franchise\", \"public\"], \"textposition\": \"auto\", \"x\": [\"tax\", \"ordinance\", \"street\", \"corporation\", \"store\", \"property\", \"franchise\", \"public\"], \"xaxis\": \"x\", \"y\": [267406, 190029, 260546, 69117, 260033, 215727, 119882, 219612], \"yaxis\": \"y\", \"type\": \"bar\"}, {\"alignmentgroup\": \"True\", \"hoverlabel\": {\"namelength\": 0}, \"hovertemplate\": \"<b>%{hovertext}</b><br><br>topic=4<br>year_1=1930<br>term=%{text}<br>frequency=%{y}\", \"hovertext\": [\"tax\", \"interstate\", \"gasoline\", \"use\", \"highway\", \"oil\", \"sale\", \"vehicle\"], \"ids\": [\"tax\", \"interstate\", \"gasoline\", \"use\", \"highway\", \"oil\", \"sale\", \"vehicle\"], \"legendgroup\": \"topic=4\", \"marker\": {\"color\": \"#FFA15A\", \"opacity\": 0.5}, \"name\": \"topic=4\", \"offsetgroup\": \"topic=4\", \"orientation\": \"v\", \"showlegend\": true, \"text\": [\"tax\", \"interstate\", \"gasoline\", \"use\", \"highway\", \"oil\", \"sale\", \"vehicle\"], \"textposition\": \"auto\", \"x\": [\"tax\", \"interstate\", \"gasoline\", \"use\", \"highway\", \"oil\", \"sale\", \"vehicle\"], \"xaxis\": \"x\", \"y\": [267406, 146689, 122876, 284316, 132409, 186745, 244307, 287621], \"yaxis\": \"y\", \"type\": \"bar\"}, {\"alignmentgroup\": \"True\", \"hoverlabel\": {\"namelength\": 0}, \"hovertemplate\": \"<b>%{hovertext}</b><br><br>topic=5<br>year_1=1930<br>term=%{text}<br>frequency=%{y}\", \"hovertext\": [\"rate\", \"gas\", \"order\", \"value\", \"service\", \"cost\", \"utility\", \"depreciation\"], \"ids\": [\"rate\", \"gas\", \"order\", \"value\", \"service\", \"cost\", \"utility\", \"depreciation\"], \"legendgroup\": \"topic=5\", \"marker\": {\"color\": \"#19d3f3\", \"opacity\": 0.5}, \"name\": \"topic=5\", \"offsetgroup\": \"topic=5\", \"orientation\": \"v\", \"showlegend\": true, \"text\": [\"rate\", \"gas\", \"order\", \"value\", \"service\", \"cost\", \"utility\", \"depreciation\"], \"textposition\": \"auto\", \"x\": [\"rate\", \"gas\", \"order\", \"value\", \"service\", \"cost\", \"utility\", \"depreciation\"], \"xaxis\": \"x\", \"y\": [224726, 122522, 189161, 286506, 250023, 70129, 285322, 83314], \"yaxis\": \"y\", \"type\": \"bar\"}], \"name\": \"1930\"}, {\"data\": [{\"alignmentgroup\": \"True\", \"hoverlabel\": {\"namelength\": 0}, \"hovertemplate\": \"<b>%{hovertext}</b><br><br>topic=0<br>year_1=1940<br>term=%{text}<br>frequency=%{y}\", \"hovertext\": [\"confession\", \"officer\", \"trial\", \"police\", \"evidence\", \"mcnabb\", \"jury\", \"testimony\", \"jail\"], \"ids\": [\"confession\", \"officer\", \"trial\", \"police\", \"evidence\", \"mcnabb\", \"jury\", \"testimony\", \"jail\"], \"legendgroup\": \"topic=0\", \"marker\": {\"color\": \"#636efa\", \"opacity\": 0.5}, \"name\": \"topic=0\", \"offsetgroup\": \"topic=0\", \"orientation\": \"v\", \"showlegend\": true, \"text\": [\"confession\", \"officer\", \"trial\", \"police\", \"evidence\", \"mcnabb\", \"jury\", \"testimony\", \"jail\"], \"textposition\": \"auto\", \"x\": [\"confession\", \"officer\", \"trial\", \"police\", \"evidence\", \"mcnabb\", \"jury\", \"testimony\", \"jail\"], \"xaxis\": \"x\", \"y\": [69537, 227106, 338152, 246961, 124377, 206970, 185541, 329777, 181491], \"yaxis\": \"y\", \"type\": \"bar\"}, {\"alignmentgroup\": \"True\", \"hoverlabel\": {\"namelength\": 0}, \"hovertemplate\": \"<b>%{hovertext}</b><br><br>topic=1<br>year_1=1940<br>term=%{text}<br>frequency=%{y}\", \"hovertext\": [\"gas\", \"rate\", \"order\", \"oil\", \"employer\", \"land\", \"oklahoma\", \"property\"], \"ids\": [\"gas\", \"rate\", \"order\", \"oil\", \"employer\", \"land\", \"oklahoma\", \"property\"], \"legendgroup\": \"topic=1\", \"marker\": {\"color\": \"#EF553B\", \"opacity\": 0.5}, \"name\": \"topic=1\", \"offsetgroup\": \"topic=1\", \"orientation\": \"v\", \"showlegend\": true, \"text\": [\"gas\", \"rate\", \"order\", \"oil\", \"employer\", \"land\", \"oklahoma\", \"property\"], \"textposition\": \"auto\", \"x\": [\"gas\", \"rate\", \"order\", \"oil\", \"employer\", \"land\", \"oklahoma\", \"property\"], \"xaxis\": \"x\", \"y\": [146161, 273602, 230664, 228235, 117479, 189862, 228410, 263246], \"yaxis\": \"y\", \"type\": \"bar\"}, {\"alignmentgroup\": \"True\", \"hoverlabel\": {\"namelength\": 0}, \"hovertemplate\": \"<b>%{hovertext}</b><br><br>topic=2<br>year_1=1940<br>term=%{text}<br>frequency=%{y}\", \"hovertext\": [\"jury\", \"religious\", \"public\", \"power\", \"picket\", \"union\", \"freedom\", \"speech\", \"ordinance\", \"order\"], \"ids\": [\"jury\", \"religious\", \"public\", \"power\", \"picket\", \"union\", \"freedom\", \"speech\", \"ordinance\", \"order\"], \"legendgroup\": \"topic=2\", \"marker\": {\"color\": \"#00cc96\", \"opacity\": 0.5}, \"name\": \"topic=2\", \"offsetgroup\": \"topic=2\", \"orientation\": \"v\", \"showlegend\": true, \"text\": [\"jury\", \"religious\", \"public\", \"power\", \"picket\", \"union\", \"freedom\", \"speech\", \"ordinance\", \"order\"], \"textposition\": \"auto\", \"x\": [\"jury\", \"religious\", \"public\", \"power\", \"picket\", \"union\", \"freedom\", \"speech\", \"ordinance\", \"order\"], \"xaxis\": \"x\", \"y\": [185541, 283968, 267771, 249611, 244220, 343781, 143704, 312670, 231606, 230664], \"yaxis\": \"y\", \"type\": \"bar\"}, {\"alignmentgroup\": \"True\", \"hoverlabel\": {\"namelength\": 0}, \"hovertemplate\": \"<b>%{hovertext}</b><br><br>topic=3<br>year_1=1940<br>term=%{text}<br>frequency=%{y}\", \"hovertext\": [\"tax\", \"property\", \"estate\", \"corporation\", \"taxation\", \"wisconsin\", \"income\", \"trust\", \"trustee\", \"sale\"], \"ids\": [\"tax\", \"property\", \"estate\", \"corporation\", \"taxation\", \"wisconsin\", \"income\", \"trust\", \"trustee\", \"sale\"], \"legendgroup\": \"topic=3\", \"marker\": {\"color\": \"#ab63fa\", \"opacity\": 0.5}, \"name\": \"topic=3\", \"offsetgroup\": \"topic=3\", \"orientation\": \"v\", \"showlegend\": true, \"text\": [\"tax\", \"property\", \"estate\", \"corporation\", \"taxation\", \"wisconsin\", \"income\", \"trust\", \"trustee\", \"sale\"], \"textposition\": \"auto\", \"x\": [\"tax\", \"property\", \"estate\", \"corporation\", \"taxation\", \"wisconsin\", \"income\", \"trust\", \"trustee\", \"sale\"], \"xaxis\": \"x\", \"y\": [325712, 263246, 123392, 82387, 326757, 358877, 167979, 339619, 339919, 297232], \"yaxis\": \"y\", \"type\": \"bar\"}, {\"alignmentgroup\": \"True\", \"hoverlabel\": {\"namelength\": 0}, \"hovertemplate\": \"<b>%{hovertext}</b><br><br>topic=4<br>year_1=1940<br>term=%{text}<br>frequency=%{y}\", \"hovertext\": [\"insurance\", \"interstate\", \"license\", \"labor\", \"congress\", \"regulation\", \"power\"], \"ids\": [\"insurance\", \"interstate\", \"license\", \"labor\", \"congress\", \"regulation\", \"power\"], \"legendgroup\": \"topic=4\", \"marker\": {\"color\": \"#FFA15A\", \"opacity\": 0.5}, \"name\": \"topic=4\", \"offsetgroup\": \"topic=4\", \"orientation\": \"v\", \"showlegend\": true, \"text\": [\"insurance\", \"interstate\", \"license\", \"labor\", \"congress\", \"regulation\", \"power\"], \"textposition\": \"auto\", \"x\": [\"insurance\", \"interstate\", \"license\", \"labor\", \"congress\", \"regulation\", \"power\"], \"xaxis\": \"x\", \"y\": [174871, 177240, 195599, 189185, 70896, 280899, 249611], \"yaxis\": \"y\", \"type\": \"bar\"}, {\"alignmentgroup\": \"True\", \"hoverlabel\": {\"namelength\": 0}, \"hovertemplate\": \"<b>%{hovertext}</b><br><br>topic=5<br>year_1=1940<br>term=%{text}<br>frequency=%{y}\", \"hovertext\": [\"counsel\", \"habeas\", \"habeas corpus\", \"corpus\", \"illinois\", \"plea\", \"guilty\", \"trial\", \"writ\", \"plea guilty\"], \"ids\": [\"counsel\", \"habeas\", \"habeas corpus\", \"corpus\", \"illinois\", \"plea\", \"guilty\", \"trial\", \"writ\", \"plea guilty\"], \"legendgroup\": \"topic=5\", \"marker\": {\"color\": \"#19d3f3\", \"opacity\": 0.5}, \"name\": \"topic=5\", \"offsetgroup\": \"topic=5\", \"orientation\": \"v\", \"showlegend\": true, \"text\": [\"counsel\", \"habeas\", \"habeas corpus\", \"corpus\", \"illinois\", \"plea\", \"guilty\", \"trial\", \"writ\", \"plea guilty\"], \"textposition\": \"auto\", \"x\": [\"counsel\", \"habeas\", \"habeas corpus\", \"corpus\", \"illinois\", \"plea\", \"guilty\", \"trial\", \"writ\", \"plea guilty\"], \"xaxis\": \"x\", \"y\": [83817, 153443, 153444, 82824, 163402, 246070, 153075, 338152, 361448, 246121], \"yaxis\": \"y\", \"type\": \"bar\"}], \"name\": \"1940\"}, {\"data\": [{\"alignmentgroup\": \"True\", \"hoverlabel\": {\"namelength\": 0}, \"hovertemplate\": \"<b>%{hovertext}</b><br><br>topic=0<br>year_1=1950<br>term=%{text}<br>frequency=%{y}\", \"hovertext\": [\"trial\", \"habeas\", \"habeas corpus\", \"transcript\", \"corpus\", \"illinois\", \"writ\", \"florida\"], \"ids\": [\"trial\", \"habeas\", \"habeas corpus\", \"transcript\", \"corpus\", \"illinois\", \"writ\", \"florida\"], \"legendgroup\": \"topic=0\", \"marker\": {\"color\": \"#636efa\", \"opacity\": 0.5}, \"name\": \"topic=0\", \"offsetgroup\": \"topic=0\", \"orientation\": \"v\", \"showlegend\": true, \"text\": [\"trial\", \"habeas\", \"habeas corpus\", \"transcript\", \"corpus\", \"illinois\", \"writ\", \"florida\"], \"textposition\": \"auto\", \"x\": [\"trial\", \"habeas\", \"habeas corpus\", \"transcript\", \"corpus\", \"illinois\", \"writ\", \"florida\"], \"xaxis\": \"x\", \"y\": [274710, 124011, 124014, 273819, 66937, 132358, 293606, 112236], \"yaxis\": \"y\", \"type\": \"bar\"}, {\"alignmentgroup\": \"True\", \"hoverlabel\": {\"namelength\": 0}, \"hovertemplate\": \"<b>%{hovertext}</b><br><br>topic=1<br>year_1=1950<br>term=%{text}<br>frequency=%{y}\", \"hovertext\": [\"tax\", \"interstate\", \"property\", \"interstate commerce\", \"ohio\", \"taxation\"], \"ids\": [\"tax\", \"interstate\", \"property\", \"interstate commerce\", \"ohio\", \"taxation\"], \"legendgroup\": \"topic=1\", \"marker\": {\"color\": \"#EF553B\", \"opacity\": 0.5}, \"name\": \"topic=1\", \"offsetgroup\": \"topic=1\", \"orientation\": \"v\", \"showlegend\": true, \"text\": [\"tax\", \"interstate\", \"property\", \"interstate commerce\", \"ohio\", \"taxation\"], \"textposition\": \"auto\", \"x\": [\"tax\", \"interstate\", \"property\", \"interstate commerce\", \"ohio\", \"taxation\"], \"xaxis\": \"x\", \"y\": [265462, 143868, 214959, 143879, 185827, 266097], \"yaxis\": \"y\", \"type\": \"bar\"}, {\"alignmentgroup\": \"True\", \"hoverlabel\": {\"namelength\": 0}, \"hovertemplate\": \"<b>%{hovertext}</b><br><br>topic=2<br>year_1=1950<br>term=%{text}<br>frequency=%{y}\", \"hovertext\": [\"jury\", \"grand\", \"trial\", \"grand jury\", \"counsel\", \"negro\", \"sheriff\", \"insane\", \"judge\"], \"ids\": [\"jury\", \"grand\", \"trial\", \"grand jury\", \"counsel\", \"negro\", \"sheriff\", \"insane\", \"judge\"], \"legendgroup\": \"topic=2\", \"marker\": {\"color\": \"#00cc96\", \"opacity\": 0.5}, \"name\": \"topic=2\", \"offsetgroup\": \"topic=2\", \"orientation\": \"v\", \"showlegend\": true, \"text\": [\"jury\", \"grand\", \"trial\", \"grand jury\", \"counsel\", \"negro\", \"sheriff\", \"insane\", \"judge\"], \"textposition\": \"auto\", \"x\": [\"jury\", \"grand\", \"trial\", \"grand jury\", \"counsel\", \"negro\", \"sheriff\", \"insane\", \"judge\"], \"xaxis\": \"x\", \"y\": [150797, 121251, 274710, 121255, 67756, 178375, 248824, 140939, 148920], \"yaxis\": \"y\", \"type\": \"bar\"}, {\"alignmentgroup\": \"True\", \"hoverlabel\": {\"namelength\": 0}, \"hovertemplate\": \"<b>%{hovertext}</b><br><br>topic=3<br>year_1=1950<br>term=%{text}<br>frequency=%{y}\", \"hovertext\": [\"insurance\", \"highway\", \"motorist\", \"limited access\", \"venue\", \"resident\"], \"ids\": [\"insurance\", \"highway\", \"motorist\", \"limited access\", \"venue\", \"resident\"], \"legendgroup\": \"topic=3\", \"marker\": {\"color\": \"#ab63fa\", \"opacity\": 0.5}, \"name\": \"topic=3\", \"offsetgroup\": \"topic=3\", \"orientation\": \"v\", \"showlegend\": true, \"text\": [\"insurance\", \"highway\", \"motorist\", \"limited access\", \"venue\", \"resident\"], \"textposition\": \"auto\", \"x\": [\"insurance\", \"highway\", \"motorist\", \"limited access\", \"venue\", \"resident\"], \"xaxis\": \"x\", \"y\": [142285, 128494, 174986, 160882, 284316, 235479], \"yaxis\": \"y\", \"type\": \"bar\"}, {\"alignmentgroup\": \"True\", \"hoverlabel\": {\"namelength\": 0}, \"hovertemplate\": \"<b>%{hovertext}</b><br><br>topic=4<br>year_1=1950<br>term=%{text}<br>frequency=%{y}\", \"hovertext\": [\"new\", \"government\", \"public\", \"school\", \"picket\", \"question\", \"person\", \"power\", \"speech\"], \"ids\": [\"new\", \"government\", \"public\", \"school\", \"picket\", \"question\", \"person\", \"power\", \"speech\"], \"legendgroup\": \"topic=4\", \"marker\": {\"color\": \"#FFA15A\", \"opacity\": 0.5}, \"name\": \"topic=4\", \"offsetgroup\": \"topic=4\", \"orientation\": \"v\", \"showlegend\": true, \"text\": [\"new\", \"government\", \"public\", \"school\", \"picket\", \"question\", \"person\", \"power\", \"speech\"], \"textposition\": \"auto\", \"x\": [\"new\", \"government\", \"public\", \"school\", \"picket\", \"question\", \"person\", \"power\", \"speech\"], \"xaxis\": \"x\", \"y\": [178818, 120062, 218570, 243250, 199015, 221206, 197143, 203788, 254039], \"yaxis\": \"y\", \"type\": \"bar\"}, {\"alignmentgroup\": \"True\", \"hoverlabel\": {\"namelength\": 0}, \"hovertemplate\": \"<b>%{hovertext}</b><br><br>topic=5<br>year_1=1950<br>term=%{text}<br>frequency=%{y}\", \"hovertext\": [\"jeopardy\", \"trial\", \"prosecution\", \"double\", \"double jeopardy\", \"offense\", \"jury\", \"second\", \"conviction\", \"robbery\"], \"ids\": [\"jeopardy\", \"trial\", \"prosecution\", \"double\", \"double jeopardy\", \"offense\", \"jury\", \"second\", \"conviction\", \"robbery\"], \"legendgroup\": \"topic=5\", \"marker\": {\"color\": \"#19d3f3\", \"opacity\": 0.5}, \"name\": \"topic=5\", \"offsetgroup\": \"topic=5\", \"orientation\": \"v\", \"showlegend\": true, \"text\": [\"jeopardy\", \"trial\", \"prosecution\", \"double\", \"double jeopardy\", \"offense\", \"jury\", \"second\", \"conviction\", \"robbery\"], \"textposition\": \"auto\", \"x\": [\"jeopardy\", \"trial\", \"prosecution\", \"double\", \"double jeopardy\", \"offense\", \"jury\", \"second\", \"conviction\", \"robbery\"], \"xaxis\": \"x\", \"y\": [147908, 274710, 216002, 90125, 90133, 184346, 150797, 244458, 65604, 239966], \"yaxis\": \"y\", \"type\": \"bar\"}], \"name\": \"1950\"}, {\"data\": [{\"alignmentgroup\": \"True\", \"hoverlabel\": {\"namelength\": 0}, \"hovertemplate\": \"<b>%{hovertext}</b><br><br>topic=0<br>year_1=1960<br>term=%{text}<br>frequency=%{y}\", \"hovertext\": [\"search\", \"officer\", \"warrant\", \"fourth amendment\", \"fourth\", \"evidence\", \"police\", \"probable cause\", \"seizure\"], \"ids\": [\"search\", \"officer\", \"warrant\", \"fourth amendment\", \"fourth\", \"evidence\", \"police\", \"probable cause\", \"seizure\"], \"legendgroup\": \"topic=0\", \"marker\": {\"color\": \"#636efa\", \"opacity\": 0.5}, \"name\": \"topic=0\", \"offsetgroup\": \"topic=0\", \"orientation\": \"v\", \"showlegend\": true, \"text\": [\"search\", \"officer\", \"warrant\", \"fourth amendment\", \"fourth\", \"evidence\", \"police\", \"probable cause\", \"seizure\"], \"textposition\": \"auto\", \"x\": [\"search\", \"officer\", \"warrant\", \"fourth amendment\", \"fourth\", \"evidence\", \"police\", \"probable cause\", \"seizure\"], \"xaxis\": \"x\", \"y\": [542864, 410389, 643726, 255075, 255073, 222618, 445031, 465995, 547285], \"yaxis\": \"y\", \"type\": \"bar\"}, {\"alignmentgroup\": \"True\", \"hoverlabel\": {\"namelength\": 0}, \"hovertemplate\": \"<b>%{hovertext}</b><br><br>topic=1<br>year_1=1960<br>term=%{text}<br>frequency=%{y}\", \"hovertext\": [\"election\", \"population\", \"county\", \"vote\", \"legislature\", \"plan\", \"voter\", \"house\", \"representative\"], \"ids\": [\"election\", \"population\", \"county\", \"vote\", \"legislature\", \"plan\", \"voter\", \"house\", \"representative\"], \"legendgroup\": \"topic=1\", \"marker\": {\"color\": \"#EF553B\", \"opacity\": 0.5}, \"name\": \"topic=1\", \"offsetgroup\": \"topic=1\", \"orientation\": \"v\", \"showlegend\": true, \"text\": [\"election\", \"population\", \"county\", \"vote\", \"legislature\", \"plan\", \"voter\", \"house\", \"representative\"], \"textposition\": \"auto\", \"x\": [\"election\", \"population\", \"county\", \"vote\", \"legislature\", \"plan\", \"voter\", \"house\", \"representative\"], \"xaxis\": \"x\", \"y\": [206537, 447441, 150548, 640166, 349124, 442486, 640780, 288525, 518305], \"yaxis\": \"y\", \"type\": \"bar\"}, {\"alignmentgroup\": \"True\", \"hoverlabel\": {\"namelength\": 0}, \"hovertemplate\": \"<b>%{hovertext}</b><br><br>topic=2<br>year_1=1960<br>term=%{text}<br>frequency=%{y}\", \"hovertext\": [\"trial\", \"jury\", \"counsel\", \"defendant\", \"witness\", \"conviction\", \"criminal\", \"evidence\", \"judge\"], \"ids\": [\"trial\", \"jury\", \"counsel\", \"defendant\", \"witness\", \"conviction\", \"criminal\", \"evidence\", \"judge\"], \"legendgroup\": \"topic=2\", \"marker\": {\"color\": \"#00cc96\", \"opacity\": 0.5}, \"name\": \"topic=2\", \"offsetgroup\": \"topic=2\", \"orientation\": \"v\", \"showlegend\": true, \"text\": [\"trial\", \"jury\", \"counsel\", \"defendant\", \"witness\", \"conviction\", \"criminal\", \"evidence\", \"judge\"], \"textposition\": \"auto\", \"x\": [\"trial\", \"jury\", \"counsel\", \"defendant\", \"witness\", \"conviction\", \"criminal\", \"evidence\", \"judge\"], \"xaxis\": \"x\", \"y\": [612933, 333411, 148397, 169111, 651747, 144432, 156008, 222618, 329735], \"yaxis\": \"y\", \"type\": \"bar\"}, {\"alignmentgroup\": \"True\", \"hoverlabel\": {\"namelength\": 0}, \"hovertemplate\": \"<b>%{hovertext}</b><br><br>topic=3<br>year_1=1960<br>term=%{text}<br>frequency=%{y}\", \"hovertext\": [\"confession\", \"habeas\", \"trial\", \"habeas corpus\", \"corpus\", \"police\", \"counsel\", \"evidence\", \"prisoner\", \"voluntariness\"], \"ids\": [\"confession\", \"habeas\", \"trial\", \"habeas corpus\", \"corpus\", \"police\", \"counsel\", \"evidence\", \"prisoner\", \"voluntariness\"], \"legendgroup\": \"topic=3\", \"marker\": {\"color\": \"#ab63fa\", \"opacity\": 0.5}, \"name\": \"topic=3\", \"offsetgroup\": \"topic=3\", \"orientation\": \"v\", \"showlegend\": true, \"text\": [\"confession\", \"habeas\", \"trial\", \"habeas corpus\", \"corpus\", \"police\", \"counsel\", \"evidence\", \"prisoner\", \"voluntariness\"], \"textposition\": \"auto\", \"x\": [\"confession\", \"habeas\", \"trial\", \"habeas corpus\", \"corpus\", \"police\", \"counsel\", \"evidence\", \"prisoner\", \"voluntariness\"], \"xaxis\": \"x\", \"y\": [124961, 274550, 612933, 274569, 146909, 445031, 148397, 222618, 464281, 639768], \"yaxis\": \"y\", \"type\": \"bar\"}, {\"alignmentgroup\": \"True\", \"hoverlabel\": {\"namelength\": 0}, \"hovertemplate\": \"<b>%{hovertext}</b><br><br>topic=4<br>year_1=1960<br>term=%{text}<br>frequency=%{y}\", \"hovertext\": [\"school\", \"congress\", \"public\", \"board\", \"person\", \"new\", \"power\", \"question\", \"communist\", \"constitutional\"], \"ids\": [\"school\", \"congress\", \"public\", \"board\", \"person\", \"new\", \"power\", \"question\", \"communist\", \"constitutional\"], \"legendgroup\": \"topic=4\", \"marker\": {\"color\": \"#FFA15A\", \"opacity\": 0.5}, \"name\": \"topic=4\", \"offsetgroup\": \"topic=4\", \"orientation\": \"v\", \"showlegend\": true, \"text\": [\"school\", \"congress\", \"public\", \"board\", \"person\", \"new\", \"power\", \"question\", \"communist\", \"constitutional\"], \"textposition\": \"auto\", \"x\": [\"school\", \"congress\", \"public\", \"board\", \"person\", \"new\", \"power\", \"question\", \"communist\", \"constitutional\"], \"xaxis\": \"x\", \"y\": [540403, 127046, 483228, 68918, 436407, 395716, 451044, 489047, 113933, 134681], \"yaxis\": \"y\", \"type\": \"bar\"}, {\"alignmentgroup\": \"True\", \"hoverlabel\": {\"namelength\": 0}, \"hovertemplate\": \"<b>%{hovertext}</b><br><br>topic=5<br>year_1=1960<br>term=%{text}<br>frequency=%{y}\", \"hovertext\": [\"obscene\", \"obscenity\", \"book\", \"film\", \"ordinance\", \"material\", \"publication\", \"roth\", \"censorship\", \"milk\"], \"ids\": [\"obscene\", \"obscenity\", \"book\", \"film\", \"ordinance\", \"material\", \"publication\", \"roth\", \"censorship\", \"milk\"], \"legendgroup\": \"topic=5\", \"marker\": {\"color\": \"#19d3f3\", \"opacity\": 0.5}, \"name\": \"topic=5\", \"offsetgroup\": \"topic=5\", \"orientation\": \"v\", \"showlegend\": true, \"text\": [\"obscene\", \"obscenity\", \"book\", \"film\", \"ordinance\", \"material\", \"publication\", \"roth\", \"censorship\", \"milk\"], \"textposition\": \"auto\", \"x\": [\"obscene\", \"obscenity\", \"book\", \"film\", \"ordinance\", \"material\", \"publication\", \"roth\", \"censorship\", \"milk\"], \"xaxis\": \"x\", \"y\": [405060, 405285, 70466, 245785, 417627, 371139, 484099, 534779, 86635, 381619], \"yaxis\": \"y\", \"type\": \"bar\"}], \"name\": \"1960\"}, {\"data\": [{\"alignmentgroup\": \"True\", \"hoverlabel\": {\"namelength\": 0}, \"hovertemplate\": \"<b>%{hovertext}</b><br><br>topic=0<br>year_1=1970<br>term=%{text}<br>frequency=%{y}\", \"hovertext\": [\"inmate\", \"parole\", \"prison\", \"juvenile\", \"prisoner\", \"probation\", \"transfer\", \"hearing\", \"probation officer\", \"parolee\"], \"ids\": [\"inmate\", \"parole\", \"prison\", \"juvenile\", \"prisoner\", \"probation\", \"transfer\", \"hearing\", \"probation officer\", \"parolee\"], \"legendgroup\": \"topic=0\", \"marker\": {\"color\": \"#636efa\", \"opacity\": 0.5}, \"name\": \"topic=0\", \"offsetgroup\": \"topic=0\", \"orientation\": \"v\", \"showlegend\": true, \"text\": [\"inmate\", \"parole\", \"prison\", \"juvenile\", \"prisoner\", \"probation\", \"transfer\", \"hearing\", \"probation officer\", \"parolee\"], \"textposition\": \"auto\", \"x\": [\"inmate\", \"parole\", \"prison\", \"juvenile\", \"prisoner\", \"probation\", \"transfer\", \"hearing\", \"probation officer\", \"parolee\"], \"xaxis\": \"x\", \"y\": [546182, 742535, 808919, 590150, 809424, 812666, 1064183, 488585, 812725, 742874], \"yaxis\": \"y\", \"type\": \"bar\"}, {\"alignmentgroup\": \"True\", \"hoverlabel\": {\"namelength\": 0}, \"hovertemplate\": \"<b>%{hovertext}</b><br><br>topic=1<br>year_1=1970<br>term=%{text}<br>frequency=%{y}\", \"hovertext\": [\"obscene\", \"material\", \"obscenity\", \"miller\", \"paris adult\", \"film\", \"paris\", \"miller california\"], \"ids\": [\"obscene\", \"material\", \"obscenity\", \"miller\", \"paris adult\", \"film\", \"paris\", \"miller california\"], \"legendgroup\": \"topic=1\", \"marker\": {\"color\": \"#EF553B\", \"opacity\": 0.5}, \"name\": \"topic=1\", \"offsetgroup\": \"topic=1\", \"orientation\": \"v\", \"showlegend\": true, \"text\": [\"obscene\", \"material\", \"obscenity\", \"miller\", \"paris adult\", \"film\", \"paris\", \"miller california\"], \"textposition\": \"auto\", \"x\": [\"obscene\", \"material\", \"obscenity\", \"miller\", \"paris adult\", \"film\", \"paris\", \"miller california\"], \"xaxis\": \"x\", \"y\": [708038, 647624, 708305, 665369, 741774, 431682, 741773, 665405], \"yaxis\": \"y\", \"type\": \"bar\"}, {\"alignmentgroup\": \"True\", \"hoverlabel\": {\"namelength\": 0}, \"hovertemplate\": \"<b>%{hovertext}</b><br><br>topic=2<br>year_1=1970<br>term=%{text}<br>frequency=%{y}\", \"hovertext\": [\"school\", \"child\", \"public\", \"board\", \"decision\", \"election\", \"require\", \"tax\"], \"ids\": [\"school\", \"child\", \"public\", \"board\", \"decision\", \"election\", \"require\", \"tax\"], \"legendgroup\": \"topic=2\", \"marker\": {\"color\": \"#00cc96\", \"opacity\": 0.5}, \"name\": \"topic=2\", \"offsetgroup\": \"topic=2\", \"orientation\": \"v\", \"showlegend\": true, \"text\": [\"school\", \"child\", \"public\", \"board\", \"decision\", \"election\", \"require\", \"tax\"], \"textposition\": \"auto\", \"x\": [\"school\", \"child\", \"public\", \"board\", \"decision\", \"election\", \"require\", \"tax\"], \"xaxis\": \"x\", \"y\": [943066, 167786, 842363, 123837, 286190, 361838, 905596, 1036415], \"yaxis\": \"y\", \"type\": \"bar\"}, {\"alignmentgroup\": \"True\", \"hoverlabel\": {\"namelength\": 0}, \"hovertemplate\": \"<b>%{hovertext}</b><br><br>topic=3<br>year_1=1970<br>term=%{text}<br>frequency=%{y}\", \"hovertext\": [\"search\", \"fourth amendment\", \"fourth\", \"warrant\", \"arrest\", \"police\", \"seizure\", \"probable cause\", \"officer\", \"evidence\"], \"ids\": [\"search\", \"fourth amendment\", \"fourth\", \"warrant\", \"arrest\", \"police\", \"seizure\", \"probable cause\", \"officer\", \"evidence\"], \"legendgroup\": \"topic=3\", \"marker\": {\"color\": \"#ab63fa\", \"opacity\": 0.5}, \"name\": \"topic=3\", \"offsetgroup\": \"topic=3\", \"orientation\": \"v\", \"showlegend\": true, \"text\": [\"search\", \"fourth amendment\", \"fourth\", \"warrant\", \"arrest\", \"police\", \"seizure\", \"probable cause\", \"officer\", \"evidence\"], \"textposition\": \"auto\", \"x\": [\"search\", \"fourth amendment\", \"fourth\", \"warrant\", \"arrest\", \"police\", \"seizure\", \"probable cause\", \"officer\", \"evidence\"], \"xaxis\": \"x\", \"y\": [948016, 447475, 447471, 1121531, 80564, 776667, 955325, 812336, 717078, 391232], \"yaxis\": \"y\", \"type\": \"bar\"}, {\"alignmentgroup\": \"True\", \"hoverlabel\": {\"namelength\": 0}, \"hovertemplate\": \"<b>%{hovertext}</b><br><br>topic=4<br>year_1=1970<br>term=%{text}<br>frequency=%{y}\", \"hovertext\": [\"jury\", \"trial\", \"defendant\", \"death\", \"counsel\", \"criminal\", \"evidence\", \"judge\", \"murder\"], \"ids\": [\"jury\", \"trial\", \"defendant\", \"death\", \"counsel\", \"criminal\", \"evidence\", \"judge\", \"murder\"], \"legendgroup\": \"topic=4\", \"marker\": {\"color\": \"#FFA15A\", \"opacity\": 0.5}, \"name\": \"topic=4\", \"offsetgroup\": \"topic=4\", \"orientation\": \"v\", \"showlegend\": true, \"text\": [\"jury\", \"trial\", \"defendant\", \"death\", \"counsel\", \"criminal\", \"evidence\", \"judge\", \"murder\"], \"textposition\": \"auto\", \"x\": [\"jury\", \"trial\", \"defendant\", \"death\", \"counsel\", \"criminal\", \"evidence\", \"judge\", \"murder\"], \"xaxis\": \"x\", \"y\": [585502, 1067876, 292819, 282524, 259159, 270395, 391232, 579119, 679956], \"yaxis\": \"y\", \"type\": \"bar\"}, {\"alignmentgroup\": \"True\", \"hoverlabel\": {\"namelength\": 0}, \"hovertemplate\": \"<b>%{hovertext}</b><br><br>topic=5<br>year_1=1970<br>term=%{text}<br>frequency=%{y}\", \"hovertext\": [\"jeopardy\", \"double jeopardy\", \"double\", \"trial\", \"jeopardy clause\", \"ashe\", \"charge\", \"jury\", \"robbery\", \"murder\"], \"ids\": [\"jeopardy\", \"double jeopardy\", \"double\", \"trial\", \"jeopardy clause\", \"ashe\", \"charge\", \"jury\", \"robbery\", \"murder\"], \"legendgroup\": \"topic=5\", \"marker\": {\"color\": \"#19d3f3\", \"opacity\": 0.5}, \"name\": \"topic=5\", \"offsetgroup\": \"topic=5\", \"orientation\": \"v\", \"showlegend\": true, \"text\": [\"jeopardy\", \"double jeopardy\", \"double\", \"trial\", \"jeopardy clause\", \"ashe\", \"charge\", \"jury\", \"robbery\", \"murder\"], \"textposition\": \"auto\", \"x\": [\"jeopardy\", \"double jeopardy\", \"double\", \"trial\", \"jeopardy clause\", \"ashe\", \"charge\", \"jury\", \"robbery\", \"murder\"], \"xaxis\": \"x\", \"y\": [575240, 346159, 346109, 1067876, 575285, 83672, 164734, 585502, 931027, 679956], \"yaxis\": \"y\", \"type\": \"bar\"}], \"name\": \"1970\"}, {\"data\": [{\"alignmentgroup\": \"True\", \"hoverlabel\": {\"namelength\": 0}, \"hovertemplate\": \"<b>%{hovertext}</b><br><br>topic=0<br>year_1=1980<br>term=%{text}<br>frequency=%{y}\", \"hovertext\": [\"death\", \"stay\", \"execution\", \"application stay\", \"stay execution\", \"death penalty\", \"certiorari\", \"penalty\", \"writ\", \"writ certiorari\"], \"ids\": [\"death\", \"stay\", \"execution\", \"application stay\", \"stay execution\", \"death penalty\", \"certiorari\", \"penalty\", \"writ\", \"writ certiorari\"], \"legendgroup\": \"topic=0\", \"marker\": {\"color\": \"#636efa\", \"opacity\": 0.5}, \"name\": \"topic=0\", \"offsetgroup\": \"topic=0\", \"orientation\": \"v\", \"showlegend\": true, \"text\": [\"death\", \"stay\", \"execution\", \"application stay\", \"stay execution\", \"death penalty\", \"certiorari\", \"penalty\", \"writ\", \"writ certiorari\"], \"textposition\": \"auto\", \"x\": [\"death\", \"stay\", \"execution\", \"application stay\", \"stay execution\", \"death penalty\", \"certiorari\", \"penalty\", \"writ\", \"writ certiorari\"], \"xaxis\": \"x\", \"y\": [280198, 999911, 398643, 65653, 1000003, 280925, 157932, 753114, 1137503, 1137535], \"yaxis\": \"y\", \"type\": \"bar\"}, {\"alignmentgroup\": \"True\", \"hoverlabel\": {\"namelength\": 0}, \"hovertemplate\": \"<b>%{hovertext}</b><br><br>topic=1<br>year_1=1980<br>term=%{text}<br>frequency=%{y}\", \"hovertext\": [\"congress\", \"tax\", \"city\", \"property\", \"party\", \"regulation\", \"public\", \"decision\"], \"ids\": [\"congress\", \"tax\", \"city\", \"property\", \"party\", \"regulation\", \"public\", \"decision\"], \"legendgroup\": \"topic=1\", \"marker\": {\"color\": \"#EF553B\", \"opacity\": 0.5}, \"name\": \"topic=1\", \"offsetgroup\": \"topic=1\", \"orientation\": \"v\", \"showlegend\": true, \"text\": [\"congress\", \"tax\", \"city\", \"property\", \"party\", \"regulation\", \"public\", \"decision\"], \"textposition\": \"auto\", \"x\": [\"congress\", \"tax\", \"city\", \"property\", \"party\", \"regulation\", \"public\", \"decision\"], \"xaxis\": \"x\", \"y\": [222862, 1034136, 176204, 826944, 745893, 880340, 840292, 284242], \"yaxis\": \"y\", \"type\": \"bar\"}, {\"alignmentgroup\": \"True\", \"hoverlabel\": {\"namelength\": 0}, \"hovertemplate\": \"<b>%{hovertext}</b><br><br>topic=2<br>year_1=1980<br>term=%{text}<br>frequency=%{y}\", \"hovertext\": [\"death\", \"jury\", \"death penalty\", \"penalty\", \"capital\", \"mitigate\", \"defendant\", \"juror\"], \"ids\": [\"death\", \"jury\", \"death penalty\", \"penalty\", \"capital\", \"mitigate\", \"defendant\", \"juror\"], \"legendgroup\": \"topic=2\", \"marker\": {\"color\": \"#00cc96\", \"opacity\": 0.5}, \"name\": \"topic=2\", \"offsetgroup\": \"topic=2\", \"orientation\": \"v\", \"showlegend\": true, \"text\": [\"death\", \"jury\", \"death penalty\", \"penalty\", \"capital\", \"mitigate\", \"defendant\", \"juror\"], \"textposition\": \"auto\", \"x\": [\"death\", \"jury\", \"death penalty\", \"penalty\", \"capital\", \"mitigate\", \"defendant\", \"juror\"], \"xaxis\": \"x\", \"y\": [280198, 585792, 280925, 753114, 146412, 672725, 291016, 584974], \"yaxis\": \"y\", \"type\": \"bar\"}, {\"alignmentgroup\": \"True\", \"hoverlabel\": {\"namelength\": 0}, \"hovertemplate\": \"<b>%{hovertext}</b><br><br>topic=3<br>year_1=1980<br>term=%{text}<br>frequency=%{y}\", \"hovertext\": [\"trial\", \"defendant\", \"counsel\", \"jury\", \"criminal\", \"jeopardy\", \"conviction\", \"evidence\", \"double jeopardy\"], \"ids\": [\"trial\", \"defendant\", \"counsel\", \"jury\", \"criminal\", \"jeopardy\", \"conviction\", \"evidence\", \"double jeopardy\"], \"legendgroup\": \"topic=3\", \"marker\": {\"color\": \"#ab63fa\", \"opacity\": 0.5}, \"name\": \"topic=3\", \"offsetgroup\": \"topic=3\", \"orientation\": \"v\", \"showlegend\": true, \"text\": [\"trial\", \"defendant\", \"counsel\", \"jury\", \"criminal\", \"jeopardy\", \"conviction\", \"evidence\", \"double jeopardy\"], \"textposition\": \"auto\", \"x\": [\"trial\", \"defendant\", \"counsel\", \"jury\", \"criminal\", \"jeopardy\", \"conviction\", \"evidence\", \"double jeopardy\"], \"xaxis\": \"x\", \"y\": [1065064, 291016, 257093, 585792, 267789, 575116, 250154, 388984, 344375], \"yaxis\": \"y\", \"type\": \"bar\"}, {\"alignmentgroup\": \"True\", \"hoverlabel\": {\"namelength\": 0}, \"hovertemplate\": \"<b>%{hovertext}</b><br><br>topic=4<br>year_1=1980<br>term=%{text}<br>frequency=%{y}\", \"hovertext\": [\"school\", \"religious\", \"religion\", \"student\", \"public\", \"education\", \"establishment clause\", \"establishment\", \"secular\", \"board\"], \"ids\": [\"school\", \"religious\", \"religion\", \"student\", \"public\", \"education\", \"establishment clause\", \"establishment\", \"secular\", \"board\"], \"legendgroup\": \"topic=4\", \"marker\": {\"color\": \"#FFA15A\", \"opacity\": 0.5}, \"name\": \"topic=4\", \"offsetgroup\": \"topic=4\", \"orientation\": \"v\", \"showlegend\": true, \"text\": [\"school\", \"religious\", \"religion\", \"student\", \"public\", \"education\", \"establishment clause\", \"establishment\", \"secular\", \"board\"], \"textposition\": \"auto\", \"x\": [\"school\", \"religious\", \"religion\", \"student\", \"public\", \"education\", \"establishment clause\", \"establishment\", \"secular\", \"board\"], \"xaxis\": \"x\", \"y\": [942679, 890486, 889817, 1007684, 840292, 353345, 385501, 385467, 951284, 124170], \"yaxis\": \"y\", \"type\": \"bar\"}, {\"alignmentgroup\": \"True\", \"hoverlabel\": {\"namelength\": 0}, \"hovertemplate\": \"<b>%{hovertext}</b><br><br>topic=5<br>year_1=1980<br>term=%{text}<br>frequency=%{y}\", \"hovertext\": [\"search\", \"police\", \"child\", \"fourth amendment\", \"officer\", \"miranda\", \"arrest\", \"fourth\", \"confession\", \"warrant\"], \"ids\": [\"search\", \"police\", \"child\", \"fourth amendment\", \"officer\", \"miranda\", \"arrest\", \"fourth\", \"confession\", \"warrant\"], \"legendgroup\": \"topic=5\", \"marker\": {\"color\": \"#19d3f3\", \"opacity\": 0.5}, \"name\": \"topic=5\", \"offsetgroup\": \"topic=5\", \"orientation\": \"v\", \"showlegend\": true, \"text\": [\"search\", \"police\", \"child\", \"fourth amendment\", \"officer\", \"miranda\", \"arrest\", \"fourth\", \"confession\", \"warrant\"], \"textposition\": \"auto\", \"x\": [\"search\", \"police\", \"child\", \"fourth amendment\", \"officer\", \"miranda\", \"arrest\", \"fourth\", \"confession\", \"warrant\"], \"xaxis\": \"x\", \"y\": [947391, 775935, 167723, 447263, 717672, 669091, 79506, 447256, 219681, 1119186], \"yaxis\": \"y\", \"type\": \"bar\"}], \"name\": \"1980\"}, {\"data\": [{\"alignmentgroup\": \"True\", \"hoverlabel\": {\"namelength\": 0}, \"hovertemplate\": \"<b>%{hovertext}</b><br><br>topic=0<br>year_1=1990<br>term=%{text}<br>frequency=%{y}\", \"hovertext\": [\"search\", \"fourth amendment\", \"seizure\", \"fourth\", \"officer\", \"probable cause\", \"warrant\", \"immunity\", \"property\"], \"ids\": [\"search\", \"fourth amendment\", \"seizure\", \"fourth\", \"officer\", \"probable cause\", \"warrant\", \"immunity\", \"property\"], \"legendgroup\": \"topic=0\", \"marker\": {\"color\": \"#636efa\", \"opacity\": 0.5}, \"name\": \"topic=0\", \"offsetgroup\": \"topic=0\", \"orientation\": \"v\", \"showlegend\": true, \"text\": [\"search\", \"fourth amendment\", \"seizure\", \"fourth\", \"officer\", \"probable cause\", \"warrant\", \"immunity\", \"property\"], \"textposition\": \"auto\", \"x\": [\"search\", \"fourth amendment\", \"seizure\", \"fourth\", \"officer\", \"probable cause\", \"warrant\", \"immunity\", \"property\"], \"xaxis\": \"x\", \"y\": [654027, 308913, 658157, 308907, 494774, 560793, 771995, 357107, 571673], \"yaxis\": \"y\", \"type\": \"bar\"}, {\"alignmentgroup\": \"True\", \"hoverlabel\": {\"namelength\": 0}, \"hovertemplate\": \"<b>%{hovertext}</b><br><br>topic=1<br>year_1=1990<br>term=%{text}<br>frequency=%{y}\", \"hovertext\": [\"trial\", \"defendant\", \"habeas\", \"evidence\", \"criminal\", \"conviction\", \"miranda\", \"process\", \"offense\", \"counsel\"], \"ids\": [\"trial\", \"defendant\", \"habeas\", \"evidence\", \"criminal\", \"conviction\", \"miranda\", \"process\", \"offense\", \"counsel\"], \"legendgroup\": \"topic=1\", \"marker\": {\"color\": \"#EF553B\", \"opacity\": 0.5}, \"name\": \"topic=1\", \"offsetgroup\": \"topic=1\", \"orientation\": \"v\", \"showlegend\": true, \"text\": [\"trial\", \"defendant\", \"habeas\", \"evidence\", \"criminal\", \"conviction\", \"miranda\", \"process\", \"offense\", \"counsel\"], \"textposition\": \"auto\", \"x\": [\"trial\", \"defendant\", \"habeas\", \"evidence\", \"criminal\", \"conviction\", \"miranda\", \"process\", \"offense\", \"counsel\"], \"xaxis\": \"x\", \"y\": [735475, 201855, 332217, 269085, 185212, 173084, 462232, 564058, 493110, 177865], \"yaxis\": \"y\", \"type\": \"bar\"}, {\"alignmentgroup\": \"True\", \"hoverlabel\": {\"namelength\": 0}, \"hovertemplate\": \"<b>%{hovertext}</b><br><br>topic=2<br>year_1=1990<br>term=%{text}<br>frequency=%{y}\", \"hovertext\": [\"congress\", \"government\", \"immunity\", \"peremptory\", \"peremptory challenge\", \"power\", \"sovereign\", \"suit\", \"sovereign immunity\"], \"ids\": [\"congress\", \"government\", \"immunity\", \"peremptory\", \"peremptory challenge\", \"power\", \"sovereign\", \"suit\", \"sovereign immunity\"], \"legendgroup\": \"topic=2\", \"marker\": {\"color\": \"#00cc96\", \"opacity\": 0.5}, \"name\": \"topic=2\", \"offsetgroup\": \"topic=2\", \"orientation\": \"v\", \"showlegend\": true, \"text\": [\"congress\", \"government\", \"immunity\", \"peremptory\", \"peremptory challenge\", \"power\", \"sovereign\", \"suit\", \"sovereign immunity\"], \"textposition\": \"auto\", \"x\": [\"congress\", \"government\", \"immunity\", \"peremptory\", \"peremptory challenge\", \"power\", \"sovereign\", \"suit\", \"sovereign immunity\"], \"xaxis\": \"x\", \"y\": [153567, 322948, 357107, 522871, 522874, 543198, 679230, 703798, 679338], \"yaxis\": \"y\", \"type\": \"bar\"}, {\"alignmentgroup\": \"True\", \"hoverlabel\": {\"namelength\": 0}, \"hovertemplate\": \"<b>%{hovertext}</b><br><br>topic=3<br>year_1=1990<br>term=%{text}<br>frequency=%{y}\", \"hovertext\": [\"voting\", \"election\", \"candidate\", \"voter\", \"plan\", \"political\", \"party\", \"race\", \"minority\", \"racial\"], \"ids\": [\"voting\", \"election\", \"candidate\", \"voter\", \"plan\", \"political\", \"party\", \"race\", \"minority\", \"racial\"], \"legendgroup\": \"topic=3\", \"marker\": {\"color\": \"#ab63fa\", \"opacity\": 0.5}, \"name\": \"topic=3\", \"offsetgroup\": \"topic=3\", \"orientation\": \"v\", \"showlegend\": true, \"text\": [\"voting\", \"election\", \"candidate\", \"voter\", \"plan\", \"political\", \"party\", \"race\", \"minority\", \"racial\"], \"textposition\": \"auto\", \"x\": [\"voting\", \"election\", \"candidate\", \"voter\", \"plan\", \"political\", \"party\", \"race\", \"minority\", \"racial\"], \"xaxis\": \"x\", \"y\": [769286, 248940, 98432, 768826, 532129, 537251, 514817, 591135, 461713, 591796], \"yaxis\": \"y\", \"type\": \"bar\"}, {\"alignmentgroup\": \"True\", \"hoverlabel\": {\"namelength\": 0}, \"hovertemplate\": \"<b>%{hovertext}</b><br><br>topic=4<br>year_1=1990<br>term=%{text}<br>frequency=%{y}\", \"hovertext\": [\"tax\", \"speech\", \"religious\", \"school\", \"public\", \"religion\", \"student\", \"government\", \"clause\", \"property\"], \"ids\": [\"tax\", \"speech\", \"religious\", \"school\", \"public\", \"religion\", \"student\", \"government\", \"clause\", \"property\"], \"legendgroup\": \"topic=4\", \"marker\": {\"color\": \"#FFA15A\", \"opacity\": 0.5}, \"name\": \"topic=4\", \"offsetgroup\": \"topic=4\", \"orientation\": \"v\", \"showlegend\": true, \"text\": [\"tax\", \"speech\", \"religious\", \"school\", \"public\", \"religion\", \"student\", \"government\", \"clause\", \"property\"], \"textposition\": \"auto\", \"x\": [\"tax\", \"speech\", \"religious\", \"school\", \"public\", \"religion\", \"student\", \"government\", \"clause\", \"property\"], \"xaxis\": \"x\", \"y\": [713438, 682229, 616304, 650571, 581737, 615759, 695631, 322948, 124350, 571673], \"yaxis\": \"y\", \"type\": \"bar\"}, {\"alignmentgroup\": \"True\", \"hoverlabel\": {\"namelength\": 0}, \"hovertemplate\": \"<b>%{hovertext}</b><br><br>topic=5<br>year_1=1990<br>term=%{text}<br>frequency=%{y}\", \"hovertext\": [\"jury\", \"death\", \"mitigate\", \"instruction\", \"defendant\", \"death penalty\", \"penalty\", \"evidence\", \"capital\"], \"ids\": [\"jury\", \"death\", \"mitigate\", \"instruction\", \"defendant\", \"death penalty\", \"penalty\", \"evidence\", \"capital\"], \"legendgroup\": \"topic=5\", \"marker\": {\"color\": \"#19d3f3\", \"opacity\": 0.5}, \"name\": \"topic=5\", \"offsetgroup\": \"topic=5\", \"orientation\": \"v\", \"showlegend\": true, \"text\": [\"jury\", \"death\", \"mitigate\", \"instruction\", \"defendant\", \"death penalty\", \"penalty\", \"evidence\", \"capital\"], \"textposition\": \"auto\", \"x\": [\"jury\", \"death\", \"mitigate\", \"instruction\", \"defendant\", \"death penalty\", \"penalty\", \"evidence\", \"capital\"], \"xaxis\": \"x\", \"y\": [404410, 194186, 464515, 381597, 201855, 194708, 519999, 269085, 99527], \"yaxis\": \"y\", \"type\": \"bar\"}], \"name\": \"1990\"}, {\"data\": [{\"alignmentgroup\": \"True\", \"hoverlabel\": {\"namelength\": 0}, \"hovertemplate\": \"<b>%{hovertext}</b><br><br>topic=0<br>year_1=2000<br>term=%{text}<br>frequency=%{y}\", \"hovertext\": [\"candidate\", \"voter\", \"political\", \"election\", \"plan\", \"voting\", \"gerrymander\", \"minority\", \"buckley\", \"party\"], \"ids\": [\"candidate\", \"voter\", \"political\", \"election\", \"plan\", \"voting\", \"gerrymander\", \"minority\", \"buckley\", \"party\"], \"legendgroup\": \"topic=0\", \"marker\": {\"color\": \"#636efa\", \"opacity\": 0.5}, \"name\": \"topic=0\", \"offsetgroup\": \"topic=0\", \"orientation\": \"v\", \"showlegend\": true, \"text\": [\"candidate\", \"voter\", \"political\", \"election\", \"plan\", \"voting\", \"gerrymander\", \"minority\", \"buckley\", \"party\"], \"textposition\": \"auto\", \"x\": [\"candidate\", \"voter\", \"political\", \"election\", \"plan\", \"voting\", \"gerrymander\", \"minority\", \"buckley\", \"party\"], \"xaxis\": \"x\", \"y\": [79551, 607598, 423426, 195772, 418801, 608193, 251396, 362721, 74514, 405492], \"yaxis\": \"y\", \"type\": \"bar\"}, {\"alignmentgroup\": \"True\", \"hoverlabel\": {\"namelength\": 0}, \"hovertemplate\": \"<b>%{hovertext}</b><br><br>topic=1<br>year_1=2000<br>term=%{text}<br>frequency=%{y}\", \"hovertext\": [\"school\", \"student\", \"religious\", \"university\", \"tssaa\", \"public\", \"public school\", \"race\", \"program\", \"speech\"], \"ids\": [\"school\", \"student\", \"religious\", \"university\", \"tssaa\", \"public\", \"public school\", \"race\", \"program\", \"speech\"], \"legendgroup\": \"topic=1\", \"marker\": {\"color\": \"#EF553B\", \"opacity\": 0.5}, \"name\": \"topic=1\", \"offsetgroup\": \"topic=1\", \"orientation\": \"v\", \"showlegend\": true, \"text\": [\"school\", \"student\", \"religious\", \"university\", \"tssaa\", \"public\", \"public school\", \"race\", \"program\", \"speech\"], \"textposition\": \"auto\", \"x\": [\"school\", \"student\", \"religious\", \"university\", \"tssaa\", \"public\", \"public school\", \"race\", \"program\", \"speech\"], \"xaxis\": \"x\", \"y\": [511114, 546864, 484812, 591866, 584471, 456868, 457376, 464334, 446375, 535964], \"yaxis\": \"y\", \"type\": \"bar\"}, {\"alignmentgroup\": \"True\", \"hoverlabel\": {\"namelength\": 0}, \"hovertemplate\": \"<b>%{hovertext}</b><br><br>topic=2<br>year_1=2000<br>term=%{text}<br>frequency=%{y}\", \"hovertext\": [\"congress\", \"government\", \"public\", \"property\", \"clause\", \"tribe\", \"speech\", \"use\", \"process\", \"person\"], \"ids\": [\"congress\", \"government\", \"public\", \"property\", \"clause\", \"tribe\", \"speech\", \"use\", \"process\", \"person\"], \"legendgroup\": \"topic=2\", \"marker\": {\"color\": \"#00cc96\", \"opacity\": 0.5}, \"name\": \"topic=2\", \"offsetgroup\": \"topic=2\", \"orientation\": \"v\", \"showlegend\": true, \"text\": [\"congress\", \"government\", \"public\", \"property\", \"clause\", \"tribe\", \"speech\", \"use\", \"process\", \"person\"], \"textposition\": \"auto\", \"x\": [\"congress\", \"government\", \"public\", \"property\", \"clause\", \"tribe\", \"speech\", \"use\", \"process\", \"person\"], \"xaxis\": \"x\", \"y\": [121567, 253978, 456868, 449539, 99597, 582457, 535964, 596243, 444100, 414138], \"yaxis\": \"y\", \"type\": \"bar\"}, {\"alignmentgroup\": \"True\", \"hoverlabel\": {\"namelength\": 0}, \"hovertemplate\": \"<b>%{hovertext}</b><br><br>topic=3<br>year_1=2000<br>term=%{text}<br>frequency=%{y}\", \"hovertext\": [\"inmate\", \"prison\", \"osp\", \"prisoner\", \"cdc\", \"turner\", \"ltsu\", \"visitation\", \"regulation\", \"policy\"], \"ids\": [\"inmate\", \"prison\", \"osp\", \"prisoner\", \"cdc\", \"turner\", \"ltsu\", \"visitation\", \"regulation\", \"policy\"], \"legendgroup\": \"topic=3\", \"marker\": {\"color\": \"#ab63fa\", \"opacity\": 0.5}, \"name\": \"topic=3\", \"offsetgroup\": \"topic=3\", \"orientation\": \"v\", \"showlegend\": true, \"text\": [\"inmate\", \"prison\", \"osp\", \"prisoner\", \"cdc\", \"turner\", \"ltsu\", \"visitation\", \"regulation\", \"policy\"], \"textposition\": \"auto\", \"x\": [\"inmate\", \"prison\", \"osp\", \"prisoner\", \"cdc\", \"turner\", \"ltsu\", \"visitation\", \"regulation\", \"policy\"], \"xaxis\": \"x\", \"y\": [296626, 439672, 398440, 440068, 84788, 585247, 344527, 606274, 479472, 422613], \"yaxis\": \"y\", \"type\": \"bar\"}, {\"alignmentgroup\": \"True\", \"hoverlabel\": {\"namelength\": 0}, \"hovertemplate\": \"<b>%{hovertext}</b><br><br>topic=4<br>year_1=2000<br>term=%{text}<br>frequency=%{y}\", \"hovertext\": [\"jury\", \"defendant\", \"death\", \"trial\", \"evidence\", \"juror\", \"death penalty\", \"penalty\", \"capital\", \"judge\"], \"ids\": [\"jury\", \"defendant\", \"death\", \"trial\", \"evidence\", \"juror\", \"death penalty\", \"penalty\", \"capital\", \"judge\"], \"legendgroup\": \"topic=4\", \"marker\": {\"color\": \"#FFA15A\", \"opacity\": 0.5}, \"name\": \"topic=4\", \"offsetgroup\": \"topic=4\", \"orientation\": \"v\", \"showlegend\": true, \"text\": [\"jury\", \"defendant\", \"death\", \"trial\", \"evidence\", \"juror\", \"death penalty\", \"penalty\", \"capital\", \"judge\"], \"textposition\": \"auto\", \"x\": [\"jury\", \"defendant\", \"death\", \"trial\", \"evidence\", \"juror\", \"death penalty\", \"penalty\", \"capital\", \"judge\"], \"xaxis\": \"x\", \"y\": [317630, 158603, 153016, 581199, 211295, 317223, 153359, 409150, 80707, 314305], \"yaxis\": \"y\", \"type\": \"bar\"}, {\"alignmentgroup\": \"True\", \"hoverlabel\": {\"namelength\": 0}, \"hovertemplate\": \"<b>%{hovertext}</b><br><br>topic=5<br>year_1=2000<br>term=%{text}<br>frequency=%{y}\", \"hovertext\": [\"miranda\", \"kaupp\", \"officer\", \"confession\", \"probable cause\", \"probable\", \"interrogation\", \"warning\"], \"ids\": [\"miranda\", \"kaupp\", \"officer\", \"confession\", \"probable cause\", \"probable\", \"interrogation\", \"warning\"], \"legendgroup\": \"topic=5\", \"marker\": {\"color\": \"#19d3f3\", \"opacity\": 0.5}, \"name\": \"topic=5\", \"offsetgroup\": \"topic=5\", \"orientation\": \"v\", \"showlegend\": true, \"text\": [\"miranda\", \"kaupp\", \"officer\", \"confession\", \"probable cause\", \"probable\", \"interrogation\", \"warning\"], \"textposition\": \"auto\", \"x\": [\"miranda\", \"kaupp\", \"officer\", \"confession\", \"probable cause\", \"probable\", \"interrogation\", \"warning\"], \"xaxis\": \"x\", \"y\": [363108, 320695, 389372, 119949, 441376, 441372, 303877, 610481], \"yaxis\": \"y\", \"type\": \"bar\"}], \"name\": \"2000\"}, {\"data\": [{\"alignmentgroup\": \"True\", \"hoverlabel\": {\"namelength\": 0}, \"hovertemplate\": \"<b>%{hovertext}</b><br><br>topic=0<br>year_1=2010<br>term=%{text}<br>frequency=%{y}\", \"hovertext\": [\"racial\", \"voter\", \"race\", \"minority\", \"voting\", \"gerrymander\", \"plan\", \"vote\", \"redistricting\", \"map\"], \"ids\": [\"racial\", \"voter\", \"race\", \"minority\", \"voting\", \"gerrymander\", \"plan\", \"vote\", \"redistricting\", \"map\"], \"legendgroup\": \"topic=0\", \"marker\": {\"color\": \"#636efa\", \"opacity\": 0.5}, \"name\": \"topic=0\", \"offsetgroup\": \"topic=0\", \"orientation\": \"v\", \"showlegend\": true, \"text\": [\"racial\", \"voter\", \"race\", \"minority\", \"voting\", \"gerrymander\", \"plan\", \"vote\", \"redistricting\", \"map\"], \"textposition\": \"auto\", \"x\": [\"racial\", \"voter\", \"race\", \"minority\", \"voting\", \"gerrymander\", \"plan\", \"vote\", \"redistricting\", \"map\"], \"xaxis\": \"x\", \"y\": [416204, 557586, 415791, 322327, 558127, 220301, 376675, 557164, 424442, 310337], \"yaxis\": \"y\", \"type\": \"bar\"}, {\"alignmentgroup\": \"True\", \"hoverlabel\": {\"namelength\": 0}, \"hovertemplate\": \"<b>%{hovertext}</b><br><br>topic=1<br>year_1=2010<br>term=%{text}<br>frequency=%{y}\", \"hovertext\": [\"trial\", \"juror\", \"defendant\", \"plea\", \"prosecution\", \"clause\", \"government\", \"counsel\", \"officer\", \"immunity\"], \"ids\": [\"trial\", \"juror\", \"defendant\", \"plea\", \"prosecution\", \"clause\", \"government\", \"counsel\", \"officer\", \"immunity\"], \"legendgroup\": \"topic=1\", \"marker\": {\"color\": \"#EF553B\", \"opacity\": 0.5}, \"name\": \"topic=1\", \"offsetgroup\": \"topic=1\", \"orientation\": \"v\", \"showlegend\": true, \"text\": [\"trial\", \"juror\", \"defendant\", \"plea\", \"prosecution\", \"clause\", \"government\", \"counsel\", \"officer\", \"immunity\"], \"textposition\": \"auto\", \"x\": [\"trial\", \"juror\", \"defendant\", \"plea\", \"prosecution\", \"clause\", \"government\", \"counsel\", \"officer\", \"immunity\"], \"xaxis\": \"x\", \"y\": [534956, 283056, 142432, 377786, 404531, 92832, 222770, 123640, 346705, 248111], \"yaxis\": \"y\", \"type\": \"bar\"}, {\"alignmentgroup\": \"True\", \"hoverlabel\": {\"namelength\": 0}, \"hovertemplate\": \"<b>%{hovertext}</b><br><br>topic=2<br>year_1=2010<br>term=%{text}<br>frequency=%{y}\", \"hovertext\": [\"juvenile\", \"parole\", \"life parole\", \"graham\", \"prison\", \"offender\", \"life\", \"miller\", \"prisoner\", \"roper\"], \"ids\": [\"juvenile\", \"parole\", \"life parole\", \"graham\", \"prison\", \"offender\", \"life\", \"miller\", \"prisoner\", \"roper\"], \"legendgroup\": \"topic=2\", \"marker\": {\"color\": \"#00cc96\", \"opacity\": 0.5}, \"name\": \"topic=2\", \"offsetgroup\": \"topic=2\", \"orientation\": \"v\", \"showlegend\": true, \"text\": [\"juvenile\", \"parole\", \"life parole\", \"graham\", \"prison\", \"offender\", \"life\", \"miller\", \"prisoner\", \"roper\"], \"textposition\": \"auto\", \"x\": [\"juvenile\", \"parole\", \"life parole\", \"graham\", \"prison\", \"offender\", \"life\", \"miller\", \"prisoner\", \"roper\"], \"xaxis\": \"x\", \"y\": [285439, 364343, 298343, 224563, 395389, 345254, 298128, 321199, 395702, 449308], \"yaxis\": \"y\", \"type\": \"bar\"}, {\"alignmentgroup\": \"True\", \"hoverlabel\": {\"namelength\": 0}, \"hovertemplate\": \"<b>%{hovertext}</b><br><br>topic=3<br>year_1=2010<br>term=%{text}<br>frequency=%{y}\", \"hovertext\": [\"cake\", \"phillips\", \"speech\", \"prayer\", \"wedding\", \"religious\", \"town\", \"hastings\", \"colorado\", \"content\"], \"ids\": [\"cake\", \"phillips\", \"speech\", \"prayer\", \"wedding\", \"religious\", \"town\", \"hastings\", \"colorado\", \"content\"], \"legendgroup\": \"topic=3\", \"marker\": {\"color\": \"#ab63fa\", \"opacity\": 0.5}, \"name\": \"topic=3\", \"offsetgroup\": \"topic=3\", \"orientation\": \"v\", \"showlegend\": true, \"text\": [\"cake\", \"phillips\", \"speech\", \"prayer\", \"wedding\", \"religious\", \"town\", \"hastings\", \"colorado\", \"content\"], \"textposition\": \"auto\", \"x\": [\"cake\", \"phillips\", \"speech\", \"prayer\", \"wedding\", \"religious\", \"town\", \"hastings\", \"colorado\", \"content\"], \"xaxis\": \"x\", \"y\": [74317, 374639, 478080, 387289, 562969, 432166, 532334, 232420, 97697, 117448], \"yaxis\": \"y\", \"type\": \"bar\"}, {\"alignmentgroup\": \"True\", \"hoverlabel\": {\"namelength\": 0}, \"hovertemplate\": \"<b>%{hovertext}</b><br><br>topic=4<br>year_1=2010<br>term=%{text}<br>frequency=%{y}\", \"hovertext\": [\"jurisdiction\", \"mcintyre\", \"daimler\", \"manufacturer\", \"contact\", \"personal jurisdiction\", \"nicastro\", \"forum\", \"uk\", \"new jersey\"], \"ids\": [\"jurisdiction\", \"mcintyre\", \"daimler\", \"manufacturer\", \"contact\", \"personal jurisdiction\", \"nicastro\", \"forum\", \"uk\", \"new jersey\"], \"legendgroup\": \"topic=4\", \"marker\": {\"color\": \"#FFA15A\", \"opacity\": 0.5}, \"name\": \"topic=4\", \"offsetgroup\": \"topic=4\", \"orientation\": \"v\", \"showlegend\": true, \"text\": [\"jurisdiction\", \"mcintyre\", \"daimler\", \"manufacturer\", \"contact\", \"personal jurisdiction\", \"nicastro\", \"forum\", \"uk\", \"new jersey\"], \"textposition\": \"auto\", \"x\": [\"jurisdiction\", \"mcintyre\", \"daimler\", \"manufacturer\", \"contact\", \"personal jurisdiction\", \"nicastro\", \"forum\", \"uk\", \"new jersey\"], \"xaxis\": \"x\", \"y\": [281990, 314590, 135703, 310096, 116530, 373324, 334346, 212447, 539573, 333429], \"yaxis\": \"y\", \"type\": \"bar\"}, {\"alignmentgroup\": \"True\", \"hoverlabel\": {\"namelength\": 0}, \"hovertemplate\": \"<b>%{hovertext}</b><br><br>topic=5<br>year_1=2010<br>term=%{text}<br>frequency=%{y}\", \"hovertext\": [\"tax\", \"taxpayer\", \"flast\", \"winn\", \"tax credit\", \"religious\", \"expenditure\", \"tuition\", \"school tuition\"], \"ids\": [\"tax\", \"taxpayer\", \"flast\", \"winn\", \"tax credit\", \"religious\", \"expenditure\", \"tuition\", \"school tuition\"], \"legendgroup\": \"topic=5\", \"marker\": {\"color\": \"#19d3f3\", \"opacity\": 0.5}, \"name\": \"topic=5\", \"offsetgroup\": \"topic=5\", \"orientation\": \"v\", \"showlegend\": true, \"text\": [\"tax\", \"taxpayer\", \"flast\", \"winn\", \"tax credit\", \"religious\", \"expenditure\", \"tuition\", \"school tuition\"], \"textposition\": \"auto\", \"x\": [\"tax\", \"taxpayer\", \"flast\", \"winn\", \"tax credit\", \"religious\", \"expenditure\", \"tuition\", \"school tuition\"], \"xaxis\": \"x\", \"y\": [499905, 500138, 206854, 568039, 499932, 432166, 193018, 537690, 454562], \"yaxis\": \"y\", \"type\": \"bar\"}], \"name\": \"2010\"}]);\n",
       "                        }).then(function(){\n",
       "                            \n",
       "var gd = document.getElementById('ebadfa84-15c1-43d9-801d-02ee75002bbd');\n",
       "var x = new MutationObserver(function (mutations, observer) {{\n",
       "        var display = window.getComputedStyle(gd).display;\n",
       "        if (!display || display === 'none') {{\n",
       "            console.log([gd, 'removed!']);\n",
       "            Plotly.purge(gd);\n",
       "            observer.disconnect();\n",
       "        }}\n",
       "}});\n",
       "\n",
       "// Listen for the removal of the full notebook cells\n",
       "var notebookContainer = gd.closest('#notebook-container');\n",
       "if (notebookContainer) {{\n",
       "    x.observe(notebookContainer, {childList: true});\n",
       "}}\n",
       "\n",
       "// Listen for the clearing of the current output cell\n",
       "var outputEl = gd.closest('.output');\n",
       "if (outputEl) {{\n",
       "    x.observe(outputEl, {childList: true});\n",
       "}}\n",
       "\n",
       "                        })\n",
       "                };\n",
       "                });\n",
       "            </script>\n",
       "        </div>"
      ]
     },
     "metadata": {},
     "output_type": "display_data"
    }
   ],
   "source": [
    "##### import plotly.express as px\n",
    "import plotly as py\n",
    "import plotly.graph_objs as go\n",
    "\n",
    "fig = px.bar(copy, x=\"term\", y=\"frequency\", text=\"term\",hover_name=\"term\", \n",
    "                 color=\"topic\", animation_frame=\"year_1\", animation_group=\"term\",\n",
    "             opacity=0.5, labels=None,template=\"plotly_dark\",range_x=[-1,36], range_y=[0,1137535]) # barmode=\"overlay\"\n",
    "fig.update_xaxes(showticklabels=False)\n",
    "fig.show()\n",
    "\n",
    "import plotly.io as pio\n",
    "pio.renderers.default = \"notebook\"\n",
    "plotly.io.write_html(fig, 'freq_bar_graph.html')"
   ]
  },
  {
   "cell_type": "code",
   "execution_count": null,
   "metadata": {},
   "outputs": [],
   "source": [
    "with open(\"14th_am_kmeans.pik\", \"rb\") as mf:\n",
    "    cluster_14 = dill.load(mf)\n",
    "    \n"
   ]
  }
 ],
 "metadata": {
  "kernelspec": {
   "display_name": "Python 3",
   "language": "python",
   "name": "python3"
  },
  "language_info": {
   "codemirror_mode": {
    "name": "ipython",
    "version": 3
   },
   "file_extension": ".py",
   "mimetype": "text/x-python",
   "name": "python",
   "nbconvert_exporter": "python",
   "pygments_lexer": "ipython3",
   "version": "3.7.3"
  }
 },
 "nbformat": 4,
 "nbformat_minor": 2
}
